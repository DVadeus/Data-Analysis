{
 "cells": [
  {
   "cell_type": "markdown",
   "metadata": {},
   "source": [
    "# Practice cleaning missing values with California Cities Report"
   ]
  },
  {
   "cell_type": "markdown",
   "metadata": {},
   "source": [
    "In this project, we will practice how to identifying and cleaning missing (null) values. For this project, we define \"missing\" only as np.nan values. First, we will practice how to find the missing values, drop columns or rows having missing values, and then we will practice different methods of filling the missing values. We will cover other missing values (for example, empty strings, etc) in other projects.\n",
    "\n",
    "**Our main focus will be on the pandas methods for:**\n",
    "\n",
    "1. Identification and Cleaning Missing Values:\n",
    "\n",
    "    - ``.info()``\n",
    "    - ``.isna()``\n",
    "    - ``.isnull()``\n",
    "    - ``.dropna()``\n",
    "\n",
    "2. Data Imputation Methods:\n",
    "\n",
    "    - ``.fillna()``\n",
    "    - ``.bfill()``\n",
    "    - ``.ffill()``\n",
    "    - ``.mode()``\n",
    "    - ``.mean()``\n",
    "    - ``.median()``\n",
    "    \n",
    "Lets jump right into our notebook and run all the cells till the first question. For this activity, we will be using an interesting dataset of California Cities which unfortunately has been corrupted due to human error and needs some fixing for the missing values. This dataset contains very important information about 482 cities in the Califorina state with data about its cities, their latitude, logitude, elevation, populations, land area, and water area in different metric units. Lets help clean this data so the scientists can use it for geological research."
   ]
  },
  {
   "cell_type": "code",
   "execution_count": 1,
   "metadata": {},
   "outputs": [],
   "source": [
    "import numpy as np\n",
    "import pandas as pd\n",
    "import matplotlib.pyplot as plt\n",
    "import pandas as pd"
   ]
  },
  {
   "cell_type": "code",
   "execution_count": 45,
   "metadata": {},
   "outputs": [
    {
     "data": {
      "text/html": [
       "<div>\n",
       "<style scoped>\n",
       "    .dataframe tbody tr th:only-of-type {\n",
       "        vertical-align: middle;\n",
       "    }\n",
       "\n",
       "    .dataframe tbody tr th {\n",
       "        vertical-align: top;\n",
       "    }\n",
       "\n",
       "    .dataframe thead th {\n",
       "        text-align: right;\n",
       "    }\n",
       "</style>\n",
       "<table border=\"1\" class=\"dataframe\">\n",
       "  <thead>\n",
       "    <tr style=\"text-align: right;\">\n",
       "      <th></th>\n",
       "      <th>city</th>\n",
       "      <th>latd</th>\n",
       "      <th>longd</th>\n",
       "      <th>elevation_m</th>\n",
       "      <th>elevation_ft</th>\n",
       "      <th>population_total</th>\n",
       "      <th>area_total_sq_mi</th>\n",
       "      <th>area_land_sq_mi</th>\n",
       "      <th>area_water_sq_mi</th>\n",
       "      <th>area_total_km2</th>\n",
       "      <th>area_land_km2</th>\n",
       "      <th>area_water_km2</th>\n",
       "      <th>area_water_percent</th>\n",
       "    </tr>\n",
       "  </thead>\n",
       "  <tbody>\n",
       "    <tr>\n",
       "      <th>0</th>\n",
       "      <td>Adelanto</td>\n",
       "      <td>34.576111</td>\n",
       "      <td>-117.432778</td>\n",
       "      <td>875.0</td>\n",
       "      <td>2871.0</td>\n",
       "      <td>31765.0</td>\n",
       "      <td>56.027</td>\n",
       "      <td>56.009</td>\n",
       "      <td>0.018</td>\n",
       "      <td>145.107</td>\n",
       "      <td>145.062</td>\n",
       "      <td>0.046</td>\n",
       "      <td>0.03</td>\n",
       "    </tr>\n",
       "    <tr>\n",
       "      <th>1</th>\n",
       "      <td>AgouraHills</td>\n",
       "      <td>34.153333</td>\n",
       "      <td>-118.761667</td>\n",
       "      <td>281.0</td>\n",
       "      <td>922.0</td>\n",
       "      <td>20330.0</td>\n",
       "      <td>7.822</td>\n",
       "      <td>7.793</td>\n",
       "      <td>0.029</td>\n",
       "      <td>20.260</td>\n",
       "      <td>20.184</td>\n",
       "      <td>0.076</td>\n",
       "      <td>0.37</td>\n",
       "    </tr>\n",
       "    <tr>\n",
       "      <th>2</th>\n",
       "      <td>Alameda</td>\n",
       "      <td>37.756111</td>\n",
       "      <td>-122.274444</td>\n",
       "      <td>NaN</td>\n",
       "      <td>33.0</td>\n",
       "      <td>75467.0</td>\n",
       "      <td>22.960</td>\n",
       "      <td>10.611</td>\n",
       "      <td>12.349</td>\n",
       "      <td>59.465</td>\n",
       "      <td>27.482</td>\n",
       "      <td>31.983</td>\n",
       "      <td>NaN</td>\n",
       "    </tr>\n",
       "    <tr>\n",
       "      <th>3</th>\n",
       "      <td>Albany</td>\n",
       "      <td>37.886944</td>\n",
       "      <td>-122.297778</td>\n",
       "      <td>NaN</td>\n",
       "      <td>43.0</td>\n",
       "      <td>18969.0</td>\n",
       "      <td>5.465</td>\n",
       "      <td>1.788</td>\n",
       "      <td>3.677</td>\n",
       "      <td>14.155</td>\n",
       "      <td>4.632</td>\n",
       "      <td>9.524</td>\n",
       "      <td>NaN</td>\n",
       "    </tr>\n",
       "    <tr>\n",
       "      <th>4</th>\n",
       "      <td>Alhambra</td>\n",
       "      <td>34.081944</td>\n",
       "      <td>-118.135000</td>\n",
       "      <td>150.0</td>\n",
       "      <td>492.0</td>\n",
       "      <td>83089.0</td>\n",
       "      <td>7.632</td>\n",
       "      <td>7.631</td>\n",
       "      <td>0.001</td>\n",
       "      <td>19.766</td>\n",
       "      <td>19.763</td>\n",
       "      <td>0.003</td>\n",
       "      <td>NaN</td>\n",
       "    </tr>\n",
       "  </tbody>\n",
       "</table>\n",
       "</div>"
      ],
      "text/plain": [
       "          city       latd       longd  elevation_m  elevation_ft  \\\n",
       "0     Adelanto  34.576111 -117.432778        875.0        2871.0   \n",
       "1  AgouraHills  34.153333 -118.761667        281.0         922.0   \n",
       "2      Alameda  37.756111 -122.274444          NaN          33.0   \n",
       "3       Albany  37.886944 -122.297778          NaN          43.0   \n",
       "4     Alhambra  34.081944 -118.135000        150.0         492.0   \n",
       "\n",
       "   population_total  area_total_sq_mi  area_land_sq_mi  area_water_sq_mi  \\\n",
       "0           31765.0            56.027           56.009             0.018   \n",
       "1           20330.0             7.822            7.793             0.029   \n",
       "2           75467.0            22.960           10.611            12.349   \n",
       "3           18969.0             5.465            1.788             3.677   \n",
       "4           83089.0             7.632            7.631             0.001   \n",
       "\n",
       "   area_total_km2  area_land_km2  area_water_km2  area_water_percent  \n",
       "0         145.107        145.062           0.046                0.03  \n",
       "1          20.260         20.184           0.076                0.37  \n",
       "2          59.465         27.482          31.983                 NaN  \n",
       "3          14.155          4.632           9.524                 NaN  \n",
       "4          19.766         19.763           0.003                 NaN  "
      ]
     },
     "execution_count": 45,
     "metadata": {},
     "output_type": "execute_result"
    }
   ],
   "source": [
    "df = pd.read_csv('files/california_cities.csv')\n",
    "df.head()"
   ]
  },
  {
   "cell_type": "code",
   "execution_count": 46,
   "metadata": {},
   "outputs": [
    {
     "data": {
      "text/plain": [
       "Index(['city', 'latd', 'longd', 'elevation_m', 'elevation_ft',\n",
       "       'population_total', 'area_total_sq_mi', 'area_land_sq_mi',\n",
       "       'area_water_sq_mi', 'area_total_km2', 'area_land_km2', 'area_water_km2',\n",
       "       'area_water_percent'],\n",
       "      dtype='object')"
      ]
     },
     "execution_count": 46,
     "metadata": {},
     "output_type": "execute_result"
    }
   ],
   "source": [
    "df.columns"
   ]
  },
  {
   "cell_type": "markdown",
   "metadata": {},
   "source": [
    "1. Find out the number of missing values in each column and store them in the variable ``col_missing_values``\n",
    "\n",
    "    Make sure you run all the previous cells. Don't worry if you screw up with the DataFrame! just reload it with the first line of the notebook."
   ]
  },
  {
   "cell_type": "code",
   "execution_count": 47,
   "metadata": {},
   "outputs": [
    {
     "data": {
      "text/plain": [
       "city                   0\n",
       "latd                  12\n",
       "longd                 15\n",
       "elevation_m           50\n",
       "elevation_ft          14\n",
       "population_total       2\n",
       "area_total_sq_mi       6\n",
       "area_land_sq_mi        3\n",
       "area_water_sq_mi       5\n",
       "area_total_km2         7\n",
       "area_land_km2          6\n",
       "area_water_km2         6\n",
       "area_water_percent    62\n",
       "dtype: int64"
      ]
     },
     "execution_count": 47,
     "metadata": {},
     "output_type": "execute_result"
    }
   ],
   "source": [
    "df.isnull().sum()"
   ]
  },
  {
   "cell_type": "markdown",
   "metadata": {},
   "source": [
    "5. Find the total missing values in the whole dataset and store the number in ``df_missing_values``\n",
    "\n",
    "    You must modify the df variable itself. Don't worry if you screw up with the DataFrame! just reload it with the first line of the notebook."
   ]
  },
  {
   "cell_type": "code",
   "execution_count": 48,
   "metadata": {},
   "outputs": [
    {
     "data": {
      "text/plain": [
       "188"
      ]
     },
     "execution_count": 48,
     "metadata": {},
     "output_type": "execute_result"
    }
   ],
   "source": [
    "df_missing_values = df.isnull().sum().sum()\n",
    "df_missing_values"
   ]
  },
  {
   "cell_type": "markdown",
   "metadata": {},
   "source": [
    "6. Drop the column ``area_water_percent`` as it has the most of its values missing\n",
    "\n",
    "    You have to drop this column permanently as we can not use it for any purpose."
   ]
  },
  {
   "cell_type": "code",
   "execution_count": 49,
   "metadata": {},
   "outputs": [],
   "source": [
    "df.drop(columns=['area_water_percent'], inplace=True)"
   ]
  },
  {
   "cell_type": "markdown",
   "metadata": {},
   "source": [
    "7. Drop the rows having missing values and store the resulting DataFrame in the variable ``df_narows_dropped``"
   ]
  },
  {
   "cell_type": "code",
   "execution_count": 50,
   "metadata": {},
   "outputs": [],
   "source": [
    "df_narows_dropped = df.dropna()"
   ]
  },
  {
   "cell_type": "code",
   "execution_count": 51,
   "metadata": {},
   "outputs": [],
   "source": [
    "df_narows_dropped = df[df.notna().all(axis=1)]"
   ]
  },
  {
   "cell_type": "code",
   "execution_count": 52,
   "metadata": {},
   "outputs": [],
   "source": [
    "df_narows_dropped = df.dropna(axis=0)"
   ]
  },
  {
   "cell_type": "markdown",
   "metadata": {},
   "source": [
    "8. Drop Rows with More Than 5 Missing Values\n",
    "\n",
    "    Remove rows from the DataFrame where the count of non-null values is less than 5, effectively eliminating rows with more than 5 missing values. Save the resulting DataFrame in the variable ``df_rows_dropped`` and make use of the ``thresh`` parameter for this operation."
   ]
  },
  {
   "cell_type": "code",
   "execution_count": 53,
   "metadata": {},
   "outputs": [],
   "source": [
    "df_rows_dropped = df.dropna(thresh=5)"
   ]
  },
  {
   "cell_type": "code",
   "execution_count": 54,
   "metadata": {},
   "outputs": [],
   "source": [
    "# Generate a boolean mask for rows having 5 or fewer missing values\n",
    "row_mask = df.count(axis=1) >= df.shape[1] - 5\n",
    "\n",
    "# Produce a new dataframe composed solely of rows passing the mask\n",
    "df_rows_dropped = df[row_mask]"
   ]
  },
  {
   "cell_type": "markdown",
   "metadata": {},
   "source": [
    "9. Remove Columns with Missing Values\n",
    "\n",
    "    Eliminate the columns in the DataFrame that contain missing values. Store the resulting DataFrame in the variable ``df_nacols_dropped``."
   ]
  },
  {
   "cell_type": "code",
   "execution_count": 55,
   "metadata": {},
   "outputs": [],
   "source": [
    "df_nacols_dropped = df.dropna(axis = 1)"
   ]
  },
  {
   "cell_type": "markdown",
   "metadata": {},
   "source": [
    "10. Drop columns with more than 10 missing values and store the resulting DataFrame in the variable ``df_cols_dropped``"
   ]
  },
  {
   "cell_type": "code",
   "execution_count": 56,
   "metadata": {},
   "outputs": [
    {
     "data": {
      "text/plain": [
       "city                 0\n",
       "latd                12\n",
       "longd               15\n",
       "elevation_m         50\n",
       "elevation_ft        14\n",
       "population_total     2\n",
       "area_total_sq_mi     6\n",
       "area_land_sq_mi      3\n",
       "area_water_sq_mi     5\n",
       "area_total_km2       7\n",
       "area_land_km2        6\n",
       "area_water_km2       6\n",
       "dtype: int64"
      ]
     },
     "execution_count": 56,
     "metadata": {},
     "output_type": "execute_result"
    }
   ],
   "source": [
    "missing_values = df.isnull().sum()\n",
    "missing_values"
   ]
  },
  {
   "cell_type": "code",
   "execution_count": 57,
   "metadata": {},
   "outputs": [
    {
     "data": {
      "text/html": [
       "<div>\n",
       "<style scoped>\n",
       "    .dataframe tbody tr th:only-of-type {\n",
       "        vertical-align: middle;\n",
       "    }\n",
       "\n",
       "    .dataframe tbody tr th {\n",
       "        vertical-align: top;\n",
       "    }\n",
       "\n",
       "    .dataframe thead th {\n",
       "        text-align: right;\n",
       "    }\n",
       "</style>\n",
       "<table border=\"1\" class=\"dataframe\">\n",
       "  <thead>\n",
       "    <tr style=\"text-align: right;\">\n",
       "      <th></th>\n",
       "      <th>city</th>\n",
       "      <th>population_total</th>\n",
       "      <th>area_total_sq_mi</th>\n",
       "      <th>area_land_sq_mi</th>\n",
       "      <th>area_water_sq_mi</th>\n",
       "      <th>area_total_km2</th>\n",
       "      <th>area_land_km2</th>\n",
       "      <th>area_water_km2</th>\n",
       "    </tr>\n",
       "  </thead>\n",
       "  <tbody>\n",
       "    <tr>\n",
       "      <th>0</th>\n",
       "      <td>Adelanto</td>\n",
       "      <td>31765.0</td>\n",
       "      <td>56.027</td>\n",
       "      <td>56.009</td>\n",
       "      <td>0.018</td>\n",
       "      <td>145.107</td>\n",
       "      <td>145.062</td>\n",
       "      <td>0.046</td>\n",
       "    </tr>\n",
       "    <tr>\n",
       "      <th>1</th>\n",
       "      <td>AgouraHills</td>\n",
       "      <td>20330.0</td>\n",
       "      <td>7.822</td>\n",
       "      <td>7.793</td>\n",
       "      <td>0.029</td>\n",
       "      <td>20.260</td>\n",
       "      <td>20.184</td>\n",
       "      <td>0.076</td>\n",
       "    </tr>\n",
       "    <tr>\n",
       "      <th>2</th>\n",
       "      <td>Alameda</td>\n",
       "      <td>75467.0</td>\n",
       "      <td>22.960</td>\n",
       "      <td>10.611</td>\n",
       "      <td>12.349</td>\n",
       "      <td>59.465</td>\n",
       "      <td>27.482</td>\n",
       "      <td>31.983</td>\n",
       "    </tr>\n",
       "    <tr>\n",
       "      <th>3</th>\n",
       "      <td>Albany</td>\n",
       "      <td>18969.0</td>\n",
       "      <td>5.465</td>\n",
       "      <td>1.788</td>\n",
       "      <td>3.677</td>\n",
       "      <td>14.155</td>\n",
       "      <td>4.632</td>\n",
       "      <td>9.524</td>\n",
       "    </tr>\n",
       "    <tr>\n",
       "      <th>4</th>\n",
       "      <td>Alhambra</td>\n",
       "      <td>83089.0</td>\n",
       "      <td>7.632</td>\n",
       "      <td>7.631</td>\n",
       "      <td>0.001</td>\n",
       "      <td>19.766</td>\n",
       "      <td>19.763</td>\n",
       "      <td>0.003</td>\n",
       "    </tr>\n",
       "    <tr>\n",
       "      <th>...</th>\n",
       "      <td>...</td>\n",
       "      <td>...</td>\n",
       "      <td>...</td>\n",
       "      <td>...</td>\n",
       "      <td>...</td>\n",
       "      <td>...</td>\n",
       "      <td>...</td>\n",
       "      <td>...</td>\n",
       "    </tr>\n",
       "    <tr>\n",
       "      <th>477</th>\n",
       "      <td>Yountville</td>\n",
       "      <td>2933.0</td>\n",
       "      <td>1.531</td>\n",
       "      <td>1.531</td>\n",
       "      <td>0.000</td>\n",
       "      <td>3.966</td>\n",
       "      <td>3.966</td>\n",
       "      <td>0.000</td>\n",
       "    </tr>\n",
       "    <tr>\n",
       "      <th>478</th>\n",
       "      <td>Yreka</td>\n",
       "      <td>7765.0</td>\n",
       "      <td>10.053</td>\n",
       "      <td>9.980</td>\n",
       "      <td>0.073</td>\n",
       "      <td>26.036</td>\n",
       "      <td>25.847</td>\n",
       "      <td>0.188</td>\n",
       "    </tr>\n",
       "    <tr>\n",
       "      <th>479</th>\n",
       "      <td>YubaCity</td>\n",
       "      <td>64925.0</td>\n",
       "      <td>14.656</td>\n",
       "      <td>14.578</td>\n",
       "      <td>0.078</td>\n",
       "      <td>37.959</td>\n",
       "      <td>37.758</td>\n",
       "      <td>0.201</td>\n",
       "    </tr>\n",
       "    <tr>\n",
       "      <th>480</th>\n",
       "      <td>Yucaipa</td>\n",
       "      <td>51367.0</td>\n",
       "      <td>27.893</td>\n",
       "      <td>27.888</td>\n",
       "      <td>0.005</td>\n",
       "      <td>72.244</td>\n",
       "      <td>72.231</td>\n",
       "      <td>0.013</td>\n",
       "    </tr>\n",
       "    <tr>\n",
       "      <th>481</th>\n",
       "      <td>YuccaValley</td>\n",
       "      <td>20700.0</td>\n",
       "      <td>40.015</td>\n",
       "      <td>40.015</td>\n",
       "      <td>0.000</td>\n",
       "      <td>103.639</td>\n",
       "      <td>103.639</td>\n",
       "      <td>0.000</td>\n",
       "    </tr>\n",
       "  </tbody>\n",
       "</table>\n",
       "<p>482 rows × 8 columns</p>\n",
       "</div>"
      ],
      "text/plain": [
       "            city  population_total  area_total_sq_mi  area_land_sq_mi  \\\n",
       "0       Adelanto           31765.0            56.027           56.009   \n",
       "1    AgouraHills           20330.0             7.822            7.793   \n",
       "2        Alameda           75467.0            22.960           10.611   \n",
       "3         Albany           18969.0             5.465            1.788   \n",
       "4       Alhambra           83089.0             7.632            7.631   \n",
       "..           ...               ...               ...              ...   \n",
       "477   Yountville            2933.0             1.531            1.531   \n",
       "478        Yreka            7765.0            10.053            9.980   \n",
       "479     YubaCity           64925.0            14.656           14.578   \n",
       "480      Yucaipa           51367.0            27.893           27.888   \n",
       "481  YuccaValley           20700.0            40.015           40.015   \n",
       "\n",
       "     area_water_sq_mi  area_total_km2  area_land_km2  area_water_km2  \n",
       "0               0.018         145.107        145.062           0.046  \n",
       "1               0.029          20.260         20.184           0.076  \n",
       "2              12.349          59.465         27.482          31.983  \n",
       "3               3.677          14.155          4.632           9.524  \n",
       "4               0.001          19.766         19.763           0.003  \n",
       "..                ...             ...            ...             ...  \n",
       "477             0.000           3.966          3.966           0.000  \n",
       "478             0.073          26.036         25.847           0.188  \n",
       "479             0.078          37.959         37.758           0.201  \n",
       "480             0.005          72.244         72.231           0.013  \n",
       "481             0.000         103.639        103.639           0.000  \n",
       "\n",
       "[482 rows x 8 columns]"
      ]
     },
     "execution_count": 57,
     "metadata": {},
     "output_type": "execute_result"
    }
   ],
   "source": [
    "df.loc[: , missing_values <= 10]"
   ]
  },
  {
   "cell_type": "code",
   "execution_count": 58,
   "metadata": {},
   "outputs": [],
   "source": [
    "df_cols_dropped = df.loc[: , missing_values <= 10]"
   ]
  },
  {
   "cell_type": "markdown",
   "metadata": {},
   "source": [
    "## Data Imputation Methods"
   ]
  },
  {
   "cell_type": "markdown",
   "metadata": {},
   "source": [
    "11. Fill the 50 missing values in ``elevation_m`` with ``-999``. Store your result in the variable ``filled_elevation_m``\n",
    "\n"
   ]
  },
  {
   "cell_type": "code",
   "execution_count": 59,
   "metadata": {},
   "outputs": [],
   "source": [
    "filled_elevation_m = df['elevation_m'].fillna(-999)"
   ]
  },
  {
   "cell_type": "code",
   "execution_count": 60,
   "metadata": {},
   "outputs": [
    {
     "data": {
      "text/plain": [
       "0       875.0\n",
       "1       281.0\n",
       "2      -999.0\n",
       "3      -999.0\n",
       "4       150.0\n",
       "        ...  \n",
       "477      30.0\n",
       "478     787.0\n",
       "479      18.0\n",
       "480     798.0\n",
       "481    1027.0\n",
       "Name: elevation_m, Length: 482, dtype: float64"
      ]
     },
     "execution_count": 60,
     "metadata": {},
     "output_type": "execute_result"
    }
   ],
   "source": [
    "filled_elevation_m"
   ]
  },
  {
   "cell_type": "markdown",
   "metadata": {},
   "source": [
    "12. Fill the 7 missing values in ``area_total_km2`` with the value 0 permanently, store your result in the variable ``filled_area_total``"
   ]
  },
  {
   "cell_type": "code",
   "execution_count": 63,
   "metadata": {},
   "outputs": [],
   "source": [
    "filled_area_total = df['area_total_km2'].fillna(0, inplace = True)"
   ]
  },
  {
   "cell_type": "markdown",
   "metadata": {},
   "source": [
    "Second solution"
   ]
  },
  {
   "cell_type": "code",
   "execution_count": null,
   "metadata": {},
   "outputs": [],
   "source": [
    "df.loc[df['area_total_km2'].isna(), 'area_total_km2'] = 0\n",
    "filled_area_total = df['area_total_km2']"
   ]
  },
  {
   "cell_type": "markdown",
   "metadata": {},
   "source": [
    "13. Fill the missing values of the column ``latd`` using backward filling method and store your result in the variable ``bfill_latd``"
   ]
  },
  {
   "cell_type": "code",
   "execution_count": 64,
   "metadata": {},
   "outputs": [],
   "source": [
    "bfill_latd = df['latd'].bfill()"
   ]
  },
  {
   "cell_type": "markdown",
   "metadata": {},
   "source": [
    "Second solution"
   ]
  },
  {
   "cell_type": "code",
   "execution_count": null,
   "metadata": {},
   "outputs": [],
   "source": [
    "bfill_latd = df['latd'].fillna(method='bfill')"
   ]
  },
  {
   "cell_type": "markdown",
   "metadata": {},
   "source": [
    "14. Fill the 15 missing values of the column ``longd`` using forwarding filling method and store your result in the variable ``ffill_longd``"
   ]
  },
  {
   "cell_type": "code",
   "execution_count": 66,
   "metadata": {},
   "outputs": [],
   "source": [
    "ffill_longd = df['longd'].ffill()"
   ]
  },
  {
   "cell_type": "markdown",
   "metadata": {},
   "source": [
    "15. Fill the 2 missing values of the column ``population_total`` with the mean of the column and store your result in the variable ``mean_total_population``"
   ]
  },
  {
   "cell_type": "code",
   "execution_count": 67,
   "metadata": {},
   "outputs": [],
   "source": [
    "mean_total_population = df['population_total'].fillna(value = df['population_total'].mean())"
   ]
  },
  {
   "cell_type": "markdown",
   "metadata": {},
   "source": [
    "16. Fill the 5 missing values of the column ``area_water_sq_mi`` with the median value of the column and store your result in the variable ``median_fill``"
   ]
  },
  {
   "cell_type": "code",
   "execution_count": 68,
   "metadata": {},
   "outputs": [],
   "source": [
    "median_fill = df['area_water_sq_mi'].fillna(value = df['area_water_sq_mi'].median())"
   ]
  },
  {
   "cell_type": "markdown",
   "metadata": {},
   "source": [
    "17. Fill the 6 missing values of the column ``area_land_km2`` with the ``mode`` value of the column and store your result in the variable ``mode_fill``"
   ]
  },
  {
   "cell_type": "code",
   "execution_count": 71,
   "metadata": {},
   "outputs": [],
   "source": [
    "mode_fill = df['area_land_km2'].fillna(df['area_land_km2'].mode()[0])"
   ]
  },
  {
   "cell_type": "markdown",
   "metadata": {},
   "source": [
    "# Cleaning duplicate data from an Online Retail store"
   ]
  },
  {
   "cell_type": "markdown",
   "metadata": {},
   "source": [
    "In this project, we will be working with an Online Retail dataset, which contains information about transactions made by an online retailer. The dataset includes details such as the invoice number, stock code, description, quantity, invoice date, unit price, customer ID, and country.\n",
    "\n",
    "Duplicate data is a common issue that can arise in datasets like these, and it's important to be able to identify and remove these duplicates in order to avoid biased or inaccurate analyses. In this practice lab, we will be focusing on identifying and dropping duplicate data using the ``duplicated()`` and ``drop_duplicates()`` methods in pandas.\n",
    "\n",
    "We will start by exploring the dataset and identifying any duplicate rows using the ``duplicated()`` method. Once we have identified the duplicates, we will use the ``drop_duplicates()`` method to remove them from the dataset. Also, the practice includes usage of different parameters that can be used with the ``drop_duplicates()`` method, such as keep and subset.\n",
    "\n",
    "By the end of this practice lab, you should feel comfortable using pandas to identify and remove duplicate data from a dataset, and have a better understanding of how to use the ``duplicated()`` and ``drop_duplicates()`` methods with different parameters to achieve the desired outcome."
   ]
  },
  {
   "cell_type": "code",
   "execution_count": 1,
   "metadata": {},
   "outputs": [],
   "source": [
    "#to read the dataframe\n",
    "import pandas as pd"
   ]
  },
  {
   "cell_type": "code",
   "execution_count": 2,
   "metadata": {},
   "outputs": [],
   "source": [
    "# Reading dataframe\n",
    "df = pd.read_csv('files/OnlineRetail.csv')"
   ]
  },
  {
   "cell_type": "code",
   "execution_count": 3,
   "metadata": {},
   "outputs": [
    {
     "data": {
      "text/html": [
       "<div>\n",
       "<style scoped>\n",
       "    .dataframe tbody tr th:only-of-type {\n",
       "        vertical-align: middle;\n",
       "    }\n",
       "\n",
       "    .dataframe tbody tr th {\n",
       "        vertical-align: top;\n",
       "    }\n",
       "\n",
       "    .dataframe thead th {\n",
       "        text-align: right;\n",
       "    }\n",
       "</style>\n",
       "<table border=\"1\" class=\"dataframe\">\n",
       "  <thead>\n",
       "    <tr style=\"text-align: right;\">\n",
       "      <th></th>\n",
       "      <th>InvoiceNo</th>\n",
       "      <th>StockCode</th>\n",
       "      <th>Description</th>\n",
       "      <th>Quantity</th>\n",
       "      <th>InvoiceDate</th>\n",
       "      <th>UnitPrice</th>\n",
       "      <th>CustomerID</th>\n",
       "      <th>Country</th>\n",
       "    </tr>\n",
       "  </thead>\n",
       "  <tbody>\n",
       "    <tr>\n",
       "      <th>0</th>\n",
       "      <td>536365</td>\n",
       "      <td>85123A</td>\n",
       "      <td>WHITE HANGING HEART T-LIGHT HOLDER</td>\n",
       "      <td>6</td>\n",
       "      <td>12/1/2010 8:26</td>\n",
       "      <td>2.55</td>\n",
       "      <td>17850.0</td>\n",
       "      <td>United Kingdom</td>\n",
       "    </tr>\n",
       "    <tr>\n",
       "      <th>1</th>\n",
       "      <td>536365</td>\n",
       "      <td>71053</td>\n",
       "      <td>WHITE METAL LANTERN</td>\n",
       "      <td>6</td>\n",
       "      <td>12/1/2010 8:26</td>\n",
       "      <td>3.39</td>\n",
       "      <td>17850.0</td>\n",
       "      <td>United Kingdom</td>\n",
       "    </tr>\n",
       "    <tr>\n",
       "      <th>2</th>\n",
       "      <td>536365</td>\n",
       "      <td>84406B</td>\n",
       "      <td>CREAM CUPID HEARTS COAT HANGER</td>\n",
       "      <td>8</td>\n",
       "      <td>12/1/2010 8:26</td>\n",
       "      <td>2.75</td>\n",
       "      <td>17850.0</td>\n",
       "      <td>United Kingdom</td>\n",
       "    </tr>\n",
       "    <tr>\n",
       "      <th>3</th>\n",
       "      <td>536365</td>\n",
       "      <td>84029G</td>\n",
       "      <td>KNITTED UNION FLAG HOT WATER BOTTLE</td>\n",
       "      <td>6</td>\n",
       "      <td>12/1/2010 8:26</td>\n",
       "      <td>3.39</td>\n",
       "      <td>17850.0</td>\n",
       "      <td>United Kingdom</td>\n",
       "    </tr>\n",
       "    <tr>\n",
       "      <th>4</th>\n",
       "      <td>536365</td>\n",
       "      <td>84029E</td>\n",
       "      <td>RED WOOLLY HOTTIE WHITE HEART.</td>\n",
       "      <td>6</td>\n",
       "      <td>12/1/2010 8:26</td>\n",
       "      <td>3.39</td>\n",
       "      <td>17850.0</td>\n",
       "      <td>United Kingdom</td>\n",
       "    </tr>\n",
       "  </tbody>\n",
       "</table>\n",
       "</div>"
      ],
      "text/plain": [
       "  InvoiceNo StockCode                          Description  Quantity  \\\n",
       "0    536365    85123A   WHITE HANGING HEART T-LIGHT HOLDER         6   \n",
       "1    536365     71053                  WHITE METAL LANTERN         6   \n",
       "2    536365    84406B       CREAM CUPID HEARTS COAT HANGER         8   \n",
       "3    536365    84029G  KNITTED UNION FLAG HOT WATER BOTTLE         6   \n",
       "4    536365    84029E       RED WOOLLY HOTTIE WHITE HEART.         6   \n",
       "\n",
       "      InvoiceDate  UnitPrice  CustomerID         Country  \n",
       "0  12/1/2010 8:26       2.55     17850.0  United Kingdom  \n",
       "1  12/1/2010 8:26       3.39     17850.0  United Kingdom  \n",
       "2  12/1/2010 8:26       2.75     17850.0  United Kingdom  \n",
       "3  12/1/2010 8:26       3.39     17850.0  United Kingdom  \n",
       "4  12/1/2010 8:26       3.39     17850.0  United Kingdom  "
      ]
     },
     "execution_count": 3,
     "metadata": {},
     "output_type": "execute_result"
    }
   ],
   "source": [
    "df.head()"
   ]
  },
  {
   "cell_type": "code",
   "execution_count": 4,
   "metadata": {},
   "outputs": [
    {
     "name": "stdout",
     "output_type": "stream",
     "text": [
      "dataset size:  4335272\n",
      "number of talks:  541909\n",
      "number of features:  8\n"
     ]
    }
   ],
   "source": [
    "#show the number of cells in the dataframe\n",
    "print(\"dataset size: \", df.size)\n",
    "\n",
    "#show the number of records (rows) in the dataframe\n",
    "print(\"number of talks: \", len(df))\n",
    "\n",
    "#show the number of features (coulmns) in the dataframe\n",
    "print(\"number of features: \", len(df.columns)) "
   ]
  },
  {
   "cell_type": "code",
   "execution_count": 5,
   "metadata": {},
   "outputs": [
    {
     "data": {
      "text/plain": [
       "InvoiceNo       object\n",
       "StockCode       object\n",
       "Description     object\n",
       "Quantity         int64\n",
       "InvoiceDate     object\n",
       "UnitPrice      float64\n",
       "CustomerID     float64\n",
       "Country         object\n",
       "dtype: object"
      ]
     },
     "execution_count": 5,
     "metadata": {},
     "output_type": "execute_result"
    }
   ],
   "source": [
    "df.dtypes"
   ]
  },
  {
   "cell_type": "markdown",
   "metadata": {},
   "source": [
    "1. **Which of the following parameters is used to only consider certain columns for identifying duplicates and it by default uses all of the columns?**"
   ]
  },
  {
   "cell_type": "markdown",
   "metadata": {},
   "source": [
    "``subset``"
   ]
  },
  {
   "cell_type": "markdown",
   "metadata": {},
   "source": [
    "2. **Which of the following parameters is used to determine whether to modify the DataFrame rather than creating a new one?**"
   ]
  },
  {
   "cell_type": "markdown",
   "metadata": {},
   "source": [
    "``inplace``"
   ]
  },
  {
   "cell_type": "markdown",
   "metadata": {},
   "source": [
    "3. **Which of the following parameters takes 'first' as a value?**"
   ]
  },
  {
   "cell_type": "markdown",
   "metadata": {},
   "source": [
    "`keep`\n",
    "\n",
    "The solution is ``keep``. It means \"determine which duplicates (if any) to keep. For example, ``first`` will drop duplicates except for the first occurrence\"."
   ]
  },
  {
   "cell_type": "markdown",
   "metadata": {},
   "source": [
    "## Basic Activities\n",
    "\n",
    "For most activities, make sure you are not modifying the original dataframe. In other words: either don't pass an ``inplace`` parameter, or pass it as ``inplace=False``, so your modifications return a new variable."
   ]
  },
  {
   "cell_type": "markdown",
   "metadata": {},
   "source": [
    "4. Select duplicate rows in a dataframe from the dataset?\n",
    "\n",
    "    Perform the selection and store the results in the variable ``duplicate_rows``.\n",
    "\n",
    "    - Note: use the default parameter of ``keep='first'``."
   ]
  },
  {
   "cell_type": "code",
   "execution_count": 8,
   "metadata": {},
   "outputs": [],
   "source": [
    "duplicate_rows = df[df.duplicated(keep='first')]"
   ]
  },
  {
   "cell_type": "markdown",
   "metadata": {},
   "source": [
    "5. What is the number of duplicate rows?"
   ]
  },
  {
   "cell_type": "code",
   "execution_count": 10,
   "metadata": {},
   "outputs": [
    {
     "data": {
      "text/plain": [
       "5268"
      ]
     },
     "execution_count": 10,
     "metadata": {},
     "output_type": "execute_result"
    }
   ],
   "source": [
    "len(duplicate_rows)"
   ]
  },
  {
   "cell_type": "markdown",
   "metadata": {},
   "source": [
    "6. Find and drop duplicate rows based on InvoiceNo, StockCode, Quantity, and UnitPrice columns\n",
    "\n",
    "    This data contains duplicate orders with the same quantity and unit price, so drop these duplicates.\n",
    "\n",
    "    Perform the dropping and store the results in the variable ``df_without_duplicate_orders``."
   ]
  },
  {
   "cell_type": "code",
   "execution_count": 18,
   "metadata": {},
   "outputs": [],
   "source": [
    "df_without_duplicate_orders = df.drop(df.loc[df[['InvoiceNo', 'StockCode','Quantity','UnitPrice']].duplicated()].index)"
   ]
  },
  {
   "cell_type": "code",
   "execution_count": null,
   "metadata": {},
   "outputs": [],
   "source": [
    "df_without_duplicate_orders = df.drop_duplicates(subset=['InvoiceNo', 'StockCode', 'Quantity', 'UnitPrice'], inplace=False)"
   ]
  },
  {
   "cell_type": "markdown",
   "metadata": {},
   "source": [
    "7. Drop duplicates while keeping the first non-NaN value based on InvoiceNo, StockCode, and CustomerID columns\n",
    "\n",
    "    As each invoice should have the stock code only one time for each customer and the customer may have different quantities: Drop duplicates while keeping the first non-NaN value.\n",
    "\n",
    "    Perform the dropping and store the results in the variable ``df_keep_first``."
   ]
  },
  {
   "cell_type": "code",
   "execution_count": 24,
   "metadata": {},
   "outputs": [
    {
     "data": {
      "text/html": [
       "<div>\n",
       "<style scoped>\n",
       "    .dataframe tbody tr th:only-of-type {\n",
       "        vertical-align: middle;\n",
       "    }\n",
       "\n",
       "    .dataframe tbody tr th {\n",
       "        vertical-align: top;\n",
       "    }\n",
       "\n",
       "    .dataframe thead th {\n",
       "        text-align: right;\n",
       "    }\n",
       "</style>\n",
       "<table border=\"1\" class=\"dataframe\">\n",
       "  <thead>\n",
       "    <tr style=\"text-align: right;\">\n",
       "      <th></th>\n",
       "      <th>InvoiceNo</th>\n",
       "      <th>StockCode</th>\n",
       "      <th>Description</th>\n",
       "      <th>Quantity</th>\n",
       "      <th>InvoiceDate</th>\n",
       "      <th>UnitPrice</th>\n",
       "      <th>CustomerID</th>\n",
       "      <th>Country</th>\n",
       "    </tr>\n",
       "  </thead>\n",
       "  <tbody>\n",
       "    <tr>\n",
       "      <th>0</th>\n",
       "      <td>536365</td>\n",
       "      <td>85123A</td>\n",
       "      <td>WHITE HANGING HEART T-LIGHT HOLDER</td>\n",
       "      <td>6</td>\n",
       "      <td>12/1/2010 8:26</td>\n",
       "      <td>2.55</td>\n",
       "      <td>17850.0</td>\n",
       "      <td>United Kingdom</td>\n",
       "    </tr>\n",
       "    <tr>\n",
       "      <th>1</th>\n",
       "      <td>536365</td>\n",
       "      <td>71053</td>\n",
       "      <td>WHITE METAL LANTERN</td>\n",
       "      <td>6</td>\n",
       "      <td>12/1/2010 8:26</td>\n",
       "      <td>3.39</td>\n",
       "      <td>17850.0</td>\n",
       "      <td>United Kingdom</td>\n",
       "    </tr>\n",
       "    <tr>\n",
       "      <th>2</th>\n",
       "      <td>536365</td>\n",
       "      <td>84406B</td>\n",
       "      <td>CREAM CUPID HEARTS COAT HANGER</td>\n",
       "      <td>8</td>\n",
       "      <td>12/1/2010 8:26</td>\n",
       "      <td>2.75</td>\n",
       "      <td>17850.0</td>\n",
       "      <td>United Kingdom</td>\n",
       "    </tr>\n",
       "    <tr>\n",
       "      <th>3</th>\n",
       "      <td>536365</td>\n",
       "      <td>84029G</td>\n",
       "      <td>KNITTED UNION FLAG HOT WATER BOTTLE</td>\n",
       "      <td>6</td>\n",
       "      <td>12/1/2010 8:26</td>\n",
       "      <td>3.39</td>\n",
       "      <td>17850.0</td>\n",
       "      <td>United Kingdom</td>\n",
       "    </tr>\n",
       "    <tr>\n",
       "      <th>4</th>\n",
       "      <td>536365</td>\n",
       "      <td>84029E</td>\n",
       "      <td>RED WOOLLY HOTTIE WHITE HEART.</td>\n",
       "      <td>6</td>\n",
       "      <td>12/1/2010 8:26</td>\n",
       "      <td>3.39</td>\n",
       "      <td>17850.0</td>\n",
       "      <td>United Kingdom</td>\n",
       "    </tr>\n",
       "    <tr>\n",
       "      <th>...</th>\n",
       "      <td>...</td>\n",
       "      <td>...</td>\n",
       "      <td>...</td>\n",
       "      <td>...</td>\n",
       "      <td>...</td>\n",
       "      <td>...</td>\n",
       "      <td>...</td>\n",
       "      <td>...</td>\n",
       "    </tr>\n",
       "    <tr>\n",
       "      <th>541904</th>\n",
       "      <td>581587</td>\n",
       "      <td>22613</td>\n",
       "      <td>PACK OF 20 SPACEBOY NAPKINS</td>\n",
       "      <td>12</td>\n",
       "      <td>12/9/2011 12:50</td>\n",
       "      <td>0.85</td>\n",
       "      <td>12680.0</td>\n",
       "      <td>France</td>\n",
       "    </tr>\n",
       "    <tr>\n",
       "      <th>541905</th>\n",
       "      <td>581587</td>\n",
       "      <td>22899</td>\n",
       "      <td>CHILDREN'S APRON DOLLY GIRL</td>\n",
       "      <td>6</td>\n",
       "      <td>12/9/2011 12:50</td>\n",
       "      <td>2.10</td>\n",
       "      <td>12680.0</td>\n",
       "      <td>France</td>\n",
       "    </tr>\n",
       "    <tr>\n",
       "      <th>541906</th>\n",
       "      <td>581587</td>\n",
       "      <td>23254</td>\n",
       "      <td>CHILDRENS CUTLERY DOLLY GIRL</td>\n",
       "      <td>4</td>\n",
       "      <td>12/9/2011 12:50</td>\n",
       "      <td>4.15</td>\n",
       "      <td>12680.0</td>\n",
       "      <td>France</td>\n",
       "    </tr>\n",
       "    <tr>\n",
       "      <th>541907</th>\n",
       "      <td>581587</td>\n",
       "      <td>23255</td>\n",
       "      <td>CHILDRENS CUTLERY CIRCUS PARADE</td>\n",
       "      <td>4</td>\n",
       "      <td>12/9/2011 12:50</td>\n",
       "      <td>4.15</td>\n",
       "      <td>12680.0</td>\n",
       "      <td>France</td>\n",
       "    </tr>\n",
       "    <tr>\n",
       "      <th>541908</th>\n",
       "      <td>581587</td>\n",
       "      <td>22138</td>\n",
       "      <td>BAKING SET 9 PIECE RETROSPOT</td>\n",
       "      <td>3</td>\n",
       "      <td>12/9/2011 12:50</td>\n",
       "      <td>4.95</td>\n",
       "      <td>12680.0</td>\n",
       "      <td>France</td>\n",
       "    </tr>\n",
       "  </tbody>\n",
       "</table>\n",
       "<p>531225 rows × 8 columns</p>\n",
       "</div>"
      ],
      "text/plain": [
       "       InvoiceNo StockCode                          Description  Quantity  \\\n",
       "0         536365    85123A   WHITE HANGING HEART T-LIGHT HOLDER         6   \n",
       "1         536365     71053                  WHITE METAL LANTERN         6   \n",
       "2         536365    84406B       CREAM CUPID HEARTS COAT HANGER         8   \n",
       "3         536365    84029G  KNITTED UNION FLAG HOT WATER BOTTLE         6   \n",
       "4         536365    84029E       RED WOOLLY HOTTIE WHITE HEART.         6   \n",
       "...          ...       ...                                  ...       ...   \n",
       "541904    581587     22613          PACK OF 20 SPACEBOY NAPKINS        12   \n",
       "541905    581587     22899         CHILDREN'S APRON DOLLY GIRL          6   \n",
       "541906    581587     23254        CHILDRENS CUTLERY DOLLY GIRL          4   \n",
       "541907    581587     23255      CHILDRENS CUTLERY CIRCUS PARADE         4   \n",
       "541908    581587     22138        BAKING SET 9 PIECE RETROSPOT          3   \n",
       "\n",
       "            InvoiceDate  UnitPrice  CustomerID         Country  \n",
       "0        12/1/2010 8:26       2.55     17850.0  United Kingdom  \n",
       "1        12/1/2010 8:26       3.39     17850.0  United Kingdom  \n",
       "2        12/1/2010 8:26       2.75     17850.0  United Kingdom  \n",
       "3        12/1/2010 8:26       3.39     17850.0  United Kingdom  \n",
       "4        12/1/2010 8:26       3.39     17850.0  United Kingdom  \n",
       "...                 ...        ...         ...             ...  \n",
       "541904  12/9/2011 12:50       0.85     12680.0          France  \n",
       "541905  12/9/2011 12:50       2.10     12680.0          France  \n",
       "541906  12/9/2011 12:50       4.15     12680.0          France  \n",
       "541907  12/9/2011 12:50       4.15     12680.0          France  \n",
       "541908  12/9/2011 12:50       4.95     12680.0          France  \n",
       "\n",
       "[531225 rows x 8 columns]"
      ]
     },
     "execution_count": 24,
     "metadata": {},
     "output_type": "execute_result"
    }
   ],
   "source": [
    "df_keep_first = df.drop_duplicates(subset=['InvoiceNo', 'StockCode', 'CustomerID'], keep='first')\n",
    "df_keep_first"
   ]
  },
  {
   "cell_type": "markdown",
   "metadata": {},
   "source": [
    "8. Drop duplicates while keeping the last order based on StockCode and InvoiceWeekday columns\n",
    "\n",
    "    If you want to show number of unique transactions per weekday and StockCode combination, you will need to drop duplicate stockcode on same day.\n",
    "\n",
    "    Perform the dropping and store the results in the variable ``df_unique_stock_day``.\n",
    "\n",
    "    - Note: use the ``df_weekday`` prepared for you to solve this activity."
   ]
  },
  {
   "cell_type": "code",
   "execution_count": 26,
   "metadata": {},
   "outputs": [],
   "source": [
    "# Convert InvoiceDate column to datetime\n",
    "df_weekday = df\n",
    "\n",
    "df_weekday['InvoiceDate'] = pd.to_datetime(df['InvoiceDate'])\n",
    "\n",
    "# Create a new column for weekday\n",
    "df_weekday['InvoiceWeekday'] = df['InvoiceDate'].dt.weekday"
   ]
  },
  {
   "cell_type": "code",
   "execution_count": 29,
   "metadata": {},
   "outputs": [],
   "source": [
    "# Drop duplicates based on StockCode and InvoiceWeekday\n",
    "\n",
    "df_unique_stock_day = df_weekday.drop_duplicates(subset=['StockCode', 'InvoiceWeekday'], keep='last', inplace=False)"
   ]
  },
  {
   "cell_type": "markdown",
   "metadata": {},
   "source": [
    "9. Drop all duplicate invoices\n",
    "\n",
    "    Imagine it is black friday and each customer is allowed to buy only at one invoice. So, we need to drop all the duplicate invoices.\n",
    "\n",
    "    Perform the dropping and store the results in the variable ``df_black_friday``."
   ]
  },
  {
   "cell_type": "code",
   "execution_count": 36,
   "metadata": {},
   "outputs": [],
   "source": [
    "df_black_friday = df.drop_duplicates(subset=['InvoiceNo'], keep=False, inplace=False)"
   ]
  },
  {
   "cell_type": "markdown",
   "metadata": {},
   "source": [
    "10. Drop duplicate countries while keeping the first row\n",
    "\n",
    "    Imagine we want to know all unique countries in our stock, drop duplicate countries keeping first row.\n",
    "\n",
    "    Perform the dropping and store the results in the variable ``df_unique_countries``."
   ]
  },
  {
   "cell_type": "code",
   "execution_count": 38,
   "metadata": {},
   "outputs": [],
   "source": [
    "df_unique_countries = df.drop_duplicates(subset=['Country'], keep='first', inplace=False)"
   ]
  },
  {
   "cell_type": "markdown",
   "metadata": {},
   "source": [
    "11. Drop duplicate products while keeping last based on StockCode, Description, and UnitPrice\n",
    "\n",
    "    Imagine we want to know all ordered products in our retail, drop duplicate products based on StockCode, Description, and UnitPrice.\n",
    "\n",
    "    Perform the dropping and store the results in the variable ``df_unique_products``."
   ]
  },
  {
   "cell_type": "code",
   "execution_count": 40,
   "metadata": {},
   "outputs": [],
   "source": [
    "df_unique_products = df.drop_duplicates(subset=['StockCode','Description','UnitPrice'], keep='last', inplace=False)"
   ]
  },
  {
   "cell_type": "markdown",
   "metadata": {},
   "source": [
    "12. Drop all duplicate rows based on TotalCost and CustomerID while keeping first\n",
    "\n",
    "    We want to know all unique total costs paid by each different customer, So drop these duplicates.\n",
    "\n",
    "    Perform the dropping and store the results in the variable ``df_customer_unique_payments``."
   ]
  },
  {
   "cell_type": "code",
   "execution_count": 45,
   "metadata": {},
   "outputs": [],
   "source": [
    "df_cost = df\n",
    "# Create a new column for TotalCost\n",
    "df_cost['TotalCost'] = df_cost['Quantity']*df_cost['UnitPrice']"
   ]
  },
  {
   "cell_type": "code",
   "execution_count": 46,
   "metadata": {},
   "outputs": [],
   "source": [
    "df_customer_unique_payments = df_cost.drop_duplicates(subset=['UnitPrice','TotalCost'], keep='first', inplace=False)"
   ]
  },
  {
   "cell_type": "markdown",
   "metadata": {},
   "source": [
    "13. Drop all duplicate rows while keeping first\n",
    "\n",
    "    Perform the dropping and store the results in the variable ``df_unique``."
   ]
  },
  {
   "cell_type": "code",
   "execution_count": 47,
   "metadata": {},
   "outputs": [],
   "source": [
    "df_unique = df.drop_duplicates(keep='first')"
   ]
  },
  {
   "cell_type": "markdown",
   "metadata": {},
   "source": [
    "# Practice Data Cleaning and String Handling with City Bike data"
   ]
  },
  {
   "cell_type": "markdown",
   "metadata": {},
   "source": [
    "In New York, Citi Bike operates a network of bicycle rental stations with a subscription system. The stations are all over the city and provide a convenient way to get around. Bike rental data is made public in an anonymized form and has been analyzed in various ways. The data has many string columns to be modified before further usage.\n",
    "\n",
    "In this section we will practice how to interact and manipulate string data using Pandas ``.str`` method. We will cover the most common string methods like:\n",
    "\n",
    "- ``.str.capitalize(), .str.lower(), .str.upper(), .str.title()``\n",
    "- ``.str.contains()``\n",
    "- ``.str.count()``\n",
    "- ``.str.endswith(), .str.startswith()``\n",
    "- ``.str.find()``\n",
    "- ``.str.join()``\n",
    "- ``.str.len()``\n",
    "- ``.str.replace()``\n",
    "- ``.str.split()``\n",
    "- ``.str.isdigit() .str.isalpha()``\n",
    "\n",
    "Let's Jump into the practice so that we will clean the data and bring the columns with messy string forms to nice and usable format.\n",
    "\n",
    "### Quick analysis\n",
    "\n",
    "The first few cells in the Notebook read the dataset, display the first few rows (``df.head()``) and show you the column types (``df.info()``). Take your time, exploring the dataset and the columns. Remember that the focus of this project is String Manipulation, so focus on those columns that are of type object.\n",
    "\n",
    "Once you're ready, jump to the next page to start the activities!"
   ]
  },
  {
   "cell_type": "code",
   "execution_count": 1,
   "metadata": {},
   "outputs": [],
   "source": [
    "import pandas as pd"
   ]
  },
  {
   "cell_type": "code",
   "execution_count": 7,
   "metadata": {},
   "outputs": [
    {
     "data": {
      "text/html": [
       "<div>\n",
       "<style scoped>\n",
       "    .dataframe tbody tr th:only-of-type {\n",
       "        vertical-align: middle;\n",
       "    }\n",
       "\n",
       "    .dataframe tbody tr th {\n",
       "        vertical-align: top;\n",
       "    }\n",
       "\n",
       "    .dataframe thead th {\n",
       "        text-align: right;\n",
       "    }\n",
       "</style>\n",
       "<table border=\"1\" class=\"dataframe\">\n",
       "  <thead>\n",
       "    <tr style=\"text-align: right;\">\n",
       "      <th></th>\n",
       "      <th>first name</th>\n",
       "      <th>last name</th>\n",
       "      <th>tripduration</th>\n",
       "      <th>start station id</th>\n",
       "      <th>start station name</th>\n",
       "      <th>end station id</th>\n",
       "      <th>end station name</th>\n",
       "      <th>bikeid</th>\n",
       "      <th>usertype</th>\n",
       "      <th>birth year</th>\n",
       "      <th>gender</th>\n",
       "      <th>emails</th>\n",
       "      <th>pin</th>\n",
       "    </tr>\n",
       "  </thead>\n",
       "  <tbody>\n",
       "    <tr>\n",
       "      <th>0</th>\n",
       "      <td>misty</td>\n",
       "      <td>HarRISs</td>\n",
       "      <td>3117</td>\n",
       "      <td>301</td>\n",
       "      <td>E 2 St &amp; Avenue B</td>\n",
       "      <td>301</td>\n",
       "      <td>E 2 St &amp; Avenue B</td>\n",
       "      <td>18070</td>\n",
       "      <td>Subscriber</td>\n",
       "      <td>1986.0</td>\n",
       "      <td>1</td>\n",
       "      <td>osborneangela@example.com</td>\n",
       "      <td>JPCeiknPMw</td>\n",
       "    </tr>\n",
       "    <tr>\n",
       "      <th>1</th>\n",
       "      <td>Alexis</td>\n",
       "      <td>Thompson</td>\n",
       "      <td>690</td>\n",
       "      <td>301</td>\n",
       "      <td>E 2 St &amp; Avenue B</td>\n",
       "      <td>349</td>\n",
       "      <td>Rivington St &amp; Ridge St</td>\n",
       "      <td>19699</td>\n",
       "      <td>Subscriber</td>\n",
       "      <td>1985.0</td>\n",
       "      <td>1</td>\n",
       "      <td>sbutler@example.net</td>\n",
       "      <td>PSxNqDPDWe</td>\n",
       "    </tr>\n",
       "    <tr>\n",
       "      <th>2</th>\n",
       "      <td>Jodi</td>\n",
       "      <td>Sanders</td>\n",
       "      <td>727</td>\n",
       "      <td>301</td>\n",
       "      <td>E 2 St &amp; Avenue B</td>\n",
       "      <td>2010</td>\n",
       "      <td>Grand St &amp; Greene St</td>\n",
       "      <td>20953</td>\n",
       "      <td>Subscriber</td>\n",
       "      <td>1982.0</td>\n",
       "      <td>1</td>\n",
       "      <td>egarcia@example.net</td>\n",
       "      <td>pxTMwm166p</td>\n",
       "    </tr>\n",
       "    <tr>\n",
       "      <th>3</th>\n",
       "      <td>matrick</td>\n",
       "      <td>Evans</td>\n",
       "      <td>698</td>\n",
       "      <td>301</td>\n",
       "      <td>E 2 St &amp; Avenue B</td>\n",
       "      <td>527</td>\n",
       "      <td>E 33 St &amp; 2 Ave</td>\n",
       "      <td>23566</td>\n",
       "      <td>Subscriber</td>\n",
       "      <td>1976.0</td>\n",
       "      <td>1</td>\n",
       "      <td>zmoore@example.com</td>\n",
       "      <td>w5dktoeXrq</td>\n",
       "    </tr>\n",
       "    <tr>\n",
       "      <th>4</th>\n",
       "      <td>Amanda</td>\n",
       "      <td>DaniEEls</td>\n",
       "      <td>351</td>\n",
       "      <td>301</td>\n",
       "      <td>E 2 St &amp; Avenue B</td>\n",
       "      <td>250</td>\n",
       "      <td>Lafayette St &amp; Jersey St</td>\n",
       "      <td>17545</td>\n",
       "      <td>Subscriber</td>\n",
       "      <td>1959.0</td>\n",
       "      <td>1</td>\n",
       "      <td>derrick11@example.com</td>\n",
       "      <td>8hHtmBR0Tt</td>\n",
       "    </tr>\n",
       "    <tr>\n",
       "      <th>...</th>\n",
       "      <td>...</td>\n",
       "      <td>...</td>\n",
       "      <td>...</td>\n",
       "      <td>...</td>\n",
       "      <td>...</td>\n",
       "      <td>...</td>\n",
       "      <td>...</td>\n",
       "      <td>...</td>\n",
       "      <td>...</td>\n",
       "      <td>...</td>\n",
       "      <td>...</td>\n",
       "      <td>...</td>\n",
       "      <td>...</td>\n",
       "    </tr>\n",
       "    <tr>\n",
       "      <th>4207</th>\n",
       "      <td>Joshua</td>\n",
       "      <td>Donaldson</td>\n",
       "      <td>1225</td>\n",
       "      <td>301</td>\n",
       "      <td>E 2 St &amp; Avenue B</td>\n",
       "      <td>442</td>\n",
       "      <td>W 27 St &amp; 7 Ave</td>\n",
       "      <td>15859</td>\n",
       "      <td>Customer</td>\n",
       "      <td>NaN</td>\n",
       "      <td>0</td>\n",
       "      <td>kelly26@example.net</td>\n",
       "      <td>NaaPhq7R38</td>\n",
       "    </tr>\n",
       "    <tr>\n",
       "      <th>4208</th>\n",
       "      <td>Deanna</td>\n",
       "      <td>Nelson</td>\n",
       "      <td>939</td>\n",
       "      <td>301</td>\n",
       "      <td>E 2 St &amp; Avenue B</td>\n",
       "      <td>251</td>\n",
       "      <td>Mott St &amp; Prince St</td>\n",
       "      <td>15683</td>\n",
       "      <td>Customer</td>\n",
       "      <td>NaN</td>\n",
       "      <td>0</td>\n",
       "      <td>seth26@example.net</td>\n",
       "      <td>PWs7OnO37x</td>\n",
       "    </tr>\n",
       "    <tr>\n",
       "      <th>4209</th>\n",
       "      <td>Jennifer</td>\n",
       "      <td>Sanchez</td>\n",
       "      <td>914</td>\n",
       "      <td>301</td>\n",
       "      <td>E 2 St &amp; Avenue B</td>\n",
       "      <td>251</td>\n",
       "      <td>Mott St &amp; Prince St</td>\n",
       "      <td>20219</td>\n",
       "      <td>Customer</td>\n",
       "      <td>NaN</td>\n",
       "      <td>0</td>\n",
       "      <td>tamara26@example.org</td>\n",
       "      <td>NNEAV3nI8i</td>\n",
       "    </tr>\n",
       "    <tr>\n",
       "      <th>4210</th>\n",
       "      <td>Steven</td>\n",
       "      <td>Riley</td>\n",
       "      <td>1581</td>\n",
       "      <td>301</td>\n",
       "      <td>E 2 St &amp; Avenue B</td>\n",
       "      <td>465</td>\n",
       "      <td>Broadway &amp; W 41 St</td>\n",
       "      <td>23176</td>\n",
       "      <td>Subscriber</td>\n",
       "      <td>1996.0</td>\n",
       "      <td>2</td>\n",
       "      <td>carlosstevenson@example.com</td>\n",
       "      <td>dGBYIsZzM2</td>\n",
       "    </tr>\n",
       "    <tr>\n",
       "      <th>4211</th>\n",
       "      <td>Taylor</td>\n",
       "      <td>Hancock</td>\n",
       "      <td>247</td>\n",
       "      <td>301</td>\n",
       "      <td>E 2 St &amp; Avenue B</td>\n",
       "      <td>511</td>\n",
       "      <td>E 14 St &amp; Avenue B</td>\n",
       "      <td>23484</td>\n",
       "      <td>Subscriber</td>\n",
       "      <td>1982.0</td>\n",
       "      <td>1</td>\n",
       "      <td>arnolddaniel@example.com</td>\n",
       "      <td>v2VFozNw7y</td>\n",
       "    </tr>\n",
       "  </tbody>\n",
       "</table>\n",
       "<p>4212 rows × 13 columns</p>\n",
       "</div>"
      ],
      "text/plain": [
       "     first name  last name  tripduration  start station id start station name  \\\n",
       "0         misty    HarRISs          3117               301  E 2 St & Avenue B   \n",
       "1        Alexis   Thompson           690               301  E 2 St & Avenue B   \n",
       "2          Jodi    Sanders           727               301  E 2 St & Avenue B   \n",
       "3       matrick      Evans           698               301  E 2 St & Avenue B   \n",
       "4        Amanda   DaniEEls           351               301  E 2 St & Avenue B   \n",
       "...         ...        ...           ...               ...                ...   \n",
       "4207     Joshua  Donaldson          1225               301  E 2 St & Avenue B   \n",
       "4208     Deanna     Nelson           939               301  E 2 St & Avenue B   \n",
       "4209   Jennifer    Sanchez           914               301  E 2 St & Avenue B   \n",
       "4210     Steven      Riley          1581               301  E 2 St & Avenue B   \n",
       "4211     Taylor    Hancock           247               301  E 2 St & Avenue B   \n",
       "\n",
       "      end station id          end station name  bikeid    usertype  \\\n",
       "0                301         E 2 St & Avenue B   18070  Subscriber   \n",
       "1                349   Rivington St & Ridge St   19699  Subscriber   \n",
       "2               2010      Grand St & Greene St   20953  Subscriber   \n",
       "3                527           E 33 St & 2 Ave   23566  Subscriber   \n",
       "4                250  Lafayette St & Jersey St   17545  Subscriber   \n",
       "...              ...                       ...     ...         ...   \n",
       "4207             442           W 27 St & 7 Ave   15859    Customer   \n",
       "4208             251       Mott St & Prince St   15683    Customer   \n",
       "4209             251       Mott St & Prince St   20219    Customer   \n",
       "4210             465        Broadway & W 41 St   23176  Subscriber   \n",
       "4211             511        E 14 St & Avenue B   23484  Subscriber   \n",
       "\n",
       "      birth year  gender                       emails         pin  \n",
       "0         1986.0       1    osborneangela@example.com  JPCeiknPMw  \n",
       "1         1985.0       1          sbutler@example.net  PSxNqDPDWe  \n",
       "2         1982.0       1          egarcia@example.net  pxTMwm166p  \n",
       "3         1976.0       1           zmoore@example.com  w5dktoeXrq  \n",
       "4         1959.0       1        derrick11@example.com  8hHtmBR0Tt  \n",
       "...          ...     ...                          ...         ...  \n",
       "4207         NaN       0          kelly26@example.net  NaaPhq7R38  \n",
       "4208         NaN       0           seth26@example.net  PWs7OnO37x  \n",
       "4209         NaN       0         tamara26@example.org  NNEAV3nI8i  \n",
       "4210      1996.0       2  carlosstevenson@example.com  dGBYIsZzM2  \n",
       "4211      1982.0       1     arnolddaniel@example.com  v2VFozNw7y  \n",
       "\n",
       "[4212 rows x 13 columns]"
      ]
     },
     "execution_count": 7,
     "metadata": {},
     "output_type": "execute_result"
    }
   ],
   "source": [
    "df = pd.read_csv('files/citi-bikes.csv')\n",
    "df"
   ]
  },
  {
   "cell_type": "code",
   "execution_count": 3,
   "metadata": {},
   "outputs": [
    {
     "name": "stdout",
     "output_type": "stream",
     "text": [
      "<class 'pandas.core.frame.DataFrame'>\n",
      "RangeIndex: 4212 entries, 0 to 4211\n",
      "Data columns (total 13 columns):\n",
      " #   Column              Non-Null Count  Dtype  \n",
      "---  ------              --------------  -----  \n",
      " 0   first name          4212 non-null   object \n",
      " 1   last name           4212 non-null   object \n",
      " 2   tripduration        4212 non-null   int64  \n",
      " 3   start station id    4212 non-null   int64  \n",
      " 4   start station name  4212 non-null   object \n",
      " 5   end station id      4212 non-null   int64  \n",
      " 6   end station name    4212 non-null   object \n",
      " 7   bikeid              4212 non-null   int64  \n",
      " 8   usertype            4212 non-null   object \n",
      " 9   birth year          3682 non-null   float64\n",
      " 10  gender              4212 non-null   int64  \n",
      " 11  emails              4212 non-null   object \n",
      " 12  pin                 4212 non-null   object \n",
      "dtypes: float64(1), int64(5), object(7)\n",
      "memory usage: 427.9+ KB\n"
     ]
    }
   ],
   "source": [
    "df.info()"
   ]
  },
  {
   "cell_type": "markdown",
   "metadata": {},
   "source": [
    "1. **Capitalize the column first name**\n",
    "\n",
    "    If you explore the DataFrame, you'll see that the column ``first name`` is \"inconsistent\" with its capitalization. Some names are capitalized (Alexis, Jodi), but some others are not (misty, matrick).\n",
    "\n",
    "    Create a new series ``capital_first_name`` that contains the results of the column first name correctly capitalized."
   ]
  },
  {
   "cell_type": "code",
   "execution_count": 8,
   "metadata": {},
   "outputs": [],
   "source": [
    "capital_first_name = df['first name'].str.capitalize()"
   ]
  },
  {
   "cell_type": "code",
   "execution_count": 9,
   "metadata": {},
   "outputs": [
    {
     "data": {
      "text/plain": [
       "0          Misty\n",
       "1         Alexis\n",
       "2           Jodi\n",
       "3        Matrick\n",
       "4         Amanda\n",
       "          ...   \n",
       "4207      Joshua\n",
       "4208      Deanna\n",
       "4209    Jennifer\n",
       "4210      Steven\n",
       "4211      Taylor\n",
       "Name: first name, Length: 4212, dtype: object"
      ]
     },
     "execution_count": 9,
     "metadata": {},
     "output_type": "execute_result"
    }
   ],
   "source": [
    "capital_first_name"
   ]
  },
  {
   "cell_type": "markdown",
   "metadata": {},
   "source": [
    "2. Make the Column last name as lower case\n",
    "\n",
    "    Now we can see the Column ``last name`` has very messy format too. Some of the middle letters are capitalized like in ``HarRISs``, ``DaniEEIs`` and some of the first names are not capitalize. So, convert all of them to lower case and store the result in the variable ``lower_last_name``"
   ]
  },
  {
   "cell_type": "code",
   "execution_count": 10,
   "metadata": {},
   "outputs": [],
   "source": [
    "lower_last_name = df['last name'].str.lower()"
   ]
  },
  {
   "cell_type": "code",
   "execution_count": 11,
   "metadata": {},
   "outputs": [
    {
     "data": {
      "text/plain": [
       "0         harriss\n",
       "1        thompson\n",
       "2         sanders\n",
       "3           evans\n",
       "4        danieels\n",
       "          ...    \n",
       "4207    donaldson\n",
       "4208       nelson\n",
       "4209      sanchez\n",
       "4210        riley\n",
       "4211      hancock\n",
       "Name: last name, Length: 4212, dtype: object"
      ]
     },
     "execution_count": 11,
     "metadata": {},
     "output_type": "execute_result"
    }
   ],
   "source": [
    "lower_last_name"
   ]
  },
  {
   "cell_type": "markdown",
   "metadata": {},
   "source": [
    "3. Make ``last name`` as Upper case. Store your answer in the variable ``upper_last_name``"
   ]
  },
  {
   "cell_type": "code",
   "execution_count": 12,
   "metadata": {},
   "outputs": [],
   "source": [
    "upper_last_name = df['last name'].str.upper()"
   ]
  },
  {
   "cell_type": "markdown",
   "metadata": {},
   "source": [
    "4. How many users in the Column ``usertype`` are Customer\n",
    "\n",
    "    Lets count all the Customers in the column ``usertype`` and sum them up. Store your sum in the ``customer_counts`` variable."
   ]
  },
  {
   "cell_type": "code",
   "execution_count": 15,
   "metadata": {},
   "outputs": [
    {
     "data": {
      "text/plain": [
       "530"
      ]
     },
     "execution_count": 15,
     "metadata": {},
     "output_type": "execute_result"
    }
   ],
   "source": [
    "customer_df = df[df['usertype'] == 'Customer']\n",
    "customer_counts = len(customer_df['emails'].unique())"
   ]
  },
  {
   "cell_type": "markdown",
   "metadata": {},
   "source": [
    "Solution 1"
   ]
  },
  {
   "cell_type": "code",
   "execution_count": 16,
   "metadata": {},
   "outputs": [
    {
     "data": {
      "text/plain": [
       "530"
      ]
     },
     "execution_count": 16,
     "metadata": {},
     "output_type": "execute_result"
    }
   ],
   "source": [
    "customer_counts = df['usertype'].str.count('Customer')\n",
    "customer_counts=customer_counts.sum()\n",
    "customer_counts"
   ]
  },
  {
   "cell_type": "markdown",
   "metadata": {},
   "source": [
    "Solution 2"
   ]
  },
  {
   "cell_type": "code",
   "execution_count": null,
   "metadata": {},
   "outputs": [],
   "source": [
    "customer_counts = df['usertype'].value_counts()\n",
    "customer_counts"
   ]
  },
  {
   "cell_type": "markdown",
   "metadata": {},
   "source": [
    "5. How many users in the Column ``usertype`` are ``Subscribers``\n",
    "\n",
    "    As you got the total number of Customers in ``usertype`` from the previous question, then also find how many Subscribers are there in total.\n",
    "\n",
    "    You can subtract the number of Customers from the total lenght of the dataframe to find the remain - which are Subscribers."
   ]
  },
  {
   "cell_type": "code",
   "execution_count": 19,
   "metadata": {},
   "outputs": [
    {
     "data": {
      "text/plain": [
       "3682"
      ]
     },
     "execution_count": 19,
     "metadata": {},
     "output_type": "execute_result"
    }
   ],
   "source": [
    "df['usertype'].str.count('Subscriber').sum()"
   ]
  },
  {
   "cell_type": "markdown",
   "metadata": {},
   "source": [
    "6. Find the words in Column ``pin`` which contain the substring ``lol`` and store your selection in the variable ``word_having_lols``"
   ]
  },
  {
   "cell_type": "code",
   "execution_count": 24,
   "metadata": {},
   "outputs": [
    {
     "data": {
      "text/plain": [
       "59        Vtdqzzlolk\n",
       "65          foundlol\n",
       "117       loVulolKDF\n",
       "167       nlolzlVd23\n",
       "2656      6Kolol9toS\n",
       "2660      lolLQigMjv\n",
       "2679        FounDlol\n",
       "2729      26lolbYZ66\n",
       "2744      PlolJhPbGQ\n",
       "2765     UuwlolrTHDW\n",
       "2783      kzlolZJvRk\n",
       "2804      kfJAlolWxZ\n",
       "2828      Eh8lolEwKd\n",
       "2951    145loleGTrpG\n",
       "Name: pin, dtype: object"
      ]
     },
     "execution_count": 24,
     "metadata": {},
     "output_type": "execute_result"
    }
   ],
   "source": [
    "word_having_lols = df['pin'].str.contains('lol')\n",
    "df['pin'][word_having_lols]"
   ]
  },
  {
   "cell_type": "markdown",
   "metadata": {},
   "source": [
    "7. Find the names in the Column ``first name`` which start with the letter Z\n",
    "\n",
    "    Find all the names in the ``first name`` column that start with the latter \"Z\". Store the result in the variable ``starts_with_z``.\n",
    "\n",
    "    >***Be careful!*** *It's capital Z, not lowercase z.*"
   ]
  },
  {
   "cell_type": "code",
   "execution_count": 26,
   "metadata": {},
   "outputs": [
    {
     "data": {
      "text/plain": [
       "233     Zachary\n",
       "348     Zachary\n",
       "431     Zachary\n",
       "651     Zachary\n",
       "847     Zachary\n",
       "1035    Zachary\n",
       "1270    Zachary\n",
       "1366    Zachary\n",
       "1451    Zachary\n",
       "2371    Zachary\n",
       "2508    Zachary\n",
       "2589    Zachary\n",
       "2854    Zachary\n",
       "2964    Zachary\n",
       "3128    Zachary\n",
       "3156    Zachary\n",
       "3535    Zachary\n",
       "3581    Zachary\n",
       "3712    Zachary\n",
       "3814    Zachary\n",
       "Name: first name, dtype: object"
      ]
     },
     "execution_count": 26,
     "metadata": {},
     "output_type": "execute_result"
    }
   ],
   "source": [
    "starts_with_z = df['first name'].str.startswith('Z')\n",
    "df['first name'][starts_with_z]"
   ]
  },
  {
   "cell_type": "markdown",
   "metadata": {},
   "source": [
    "8. How many first names start with the letter 'Z'"
   ]
  },
  {
   "cell_type": "code",
   "execution_count": 29,
   "metadata": {},
   "outputs": [
    {
     "data": {
      "text/plain": [
       "20"
      ]
     },
     "execution_count": 29,
     "metadata": {},
     "output_type": "execute_result"
    }
   ],
   "source": [
    "len(df['first name'][starts_with_z])"
   ]
  },
  {
   "cell_type": "markdown",
   "metadata": {},
   "source": [
    "9. Find the names in the Column ``last name`` which end with 't' and store your result in the variable ``ends_with_t``"
   ]
  },
  {
   "cell_type": "code",
   "execution_count": 31,
   "metadata": {},
   "outputs": [
    {
     "data": {
      "text/plain": [
       "67      Lambert\n",
       "101     Elliott\n",
       "111      Knight\n",
       "117     Burnett\n",
       "126       Grant\n",
       "         ...   \n",
       "4107     Hebert\n",
       "4140     Bryant\n",
       "4159    Stewart\n",
       "4181    Garrett\n",
       "4183     Wright\n",
       "Name: last name, Length: 145, dtype: object"
      ]
     },
     "execution_count": 31,
     "metadata": {},
     "output_type": "execute_result"
    }
   ],
   "source": [
    "ends_with_t = df['last name'].str.endswith('t')\n",
    "df['last name'][ends_with_t]"
   ]
  },
  {
   "cell_type": "markdown",
   "metadata": {},
   "source": [
    "10. How many Values in the Column last name end with 't'"
   ]
  },
  {
   "cell_type": "code",
   "execution_count": 32,
   "metadata": {},
   "outputs": [
    {
     "data": {
      "text/plain": [
       "145"
      ]
     },
     "execution_count": 32,
     "metadata": {},
     "output_type": "execute_result"
    }
   ],
   "source": [
    "ends_with_t.sum()"
   ]
  },
  {
   "cell_type": "markdown",
   "metadata": {},
   "source": [
    "11. Concatenate 'bikeid' Entries with Space Separator\n",
    "\n",
    "    Utilize the ``str.join()`` method to concatenate the bikeid values in the ``bikeid`` column, using a space as the separator. Store the result in the variable ``spaced_bikeids``."
   ]
  },
  {
   "cell_type": "code",
   "execution_count": 37,
   "metadata": {},
   "outputs": [],
   "source": [
    "df['bikeid']=df['bikeid'].astype(str)\n",
    "\n",
    "spaced_bikeids = df['bikeid'].str.join(sep = ' ')"
   ]
  },
  {
   "cell_type": "code",
   "execution_count": 38,
   "metadata": {},
   "outputs": [
    {
     "data": {
      "text/plain": [
       "0       1 8 0 7 0\n",
       "1       1 9 6 9 9\n",
       "2       2 0 9 5 3\n",
       "3       2 3 5 6 6\n",
       "4       1 7 5 4 5\n",
       "          ...    \n",
       "4207    1 5 8 5 9\n",
       "4208    1 5 6 8 3\n",
       "4209    2 0 2 1 9\n",
       "4210    2 3 1 7 6\n",
       "4211    2 3 4 8 4\n",
       "Name: bikeid, Length: 4212, dtype: object"
      ]
     },
     "execution_count": 38,
     "metadata": {},
     "output_type": "execute_result"
    }
   ],
   "source": [
    "spaced_bikeids"
   ]
  },
  {
   "cell_type": "markdown",
   "metadata": {},
   "source": [
    "12. Create a new Column named ``name length`` having all the lengths of names from the Column ``first name``"
   ]
  },
  {
   "cell_type": "code",
   "execution_count": 43,
   "metadata": {},
   "outputs": [],
   "source": [
    "df['name length'] = df['first name'].str.len()"
   ]
  },
  {
   "cell_type": "markdown",
   "metadata": {},
   "source": [
    "13. Find if the Column ``pin`` is alpha numeric or it contains digits only"
   ]
  },
  {
   "cell_type": "code",
   "execution_count": 47,
   "metadata": {},
   "outputs": [
    {
     "name": "stdout",
     "output_type": "stream",
     "text": [
      "La columna pin es numerica? False\n",
      "La columna pin es alfanumerica? True\n"
     ]
    }
   ],
   "source": [
    "print(f\"La columna pin es numerica? {df['pin'].str.isdigit()[0]}\")\n",
    "print(f\"La columna pin es alfanumerica? {df['pin'].str.isalpha()[0]}\")"
   ]
  },
  {
   "cell_type": "markdown",
   "metadata": {},
   "source": [
    "14. Verify if the Column ``tripduration`` has any non-numeric values or it contains digits only"
   ]
  },
  {
   "cell_type": "code",
   "execution_count": 51,
   "metadata": {},
   "outputs": [
    {
     "name": "stdout",
     "output_type": "stream",
     "text": [
      "La columna tripduration es numerica? True\n",
      "La columna tripduration es alfanumerica? False\n"
     ]
    }
   ],
   "source": [
    "df['tripduration'] = df['tripduration'].astype(str)\n",
    "\n",
    "print(f\"La columna tripduration es numerica? {df['tripduration'].str.isdigit()[0]}\")\n",
    "print(f\"La columna tripduration es alfanumerica? {df['tripduration'].str.isalpha()[0]}\")"
   ]
  },
  {
   "cell_type": "markdown",
   "metadata": {},
   "source": [
    "15. Check if any name in the Column ``first name`` has digit(s) or number(s) in it"
   ]
  },
  {
   "cell_type": "code",
   "execution_count": 55,
   "metadata": {},
   "outputs": [
    {
     "name": "stdout",
     "output_type": "stream",
     "text": [
      "La columna first name es numerica? False\n",
      "La columna first name es alfanumerica? True\n",
      "La columna first name es decimal? False\n"
     ]
    },
    {
     "data": {
      "text/plain": [
       "4208"
      ]
     },
     "execution_count": 55,
     "metadata": {},
     "output_type": "execute_result"
    }
   ],
   "source": [
    "print(f\"La columna first name es numerica? {df['first name'].str.isdigit()[0]}\")\n",
    "print(f\"La columna first name es alfanumerica? {df['first name'].str.isalpha()[0]}\")\n",
    "print(f\"La columna first name es decimal? {df['first name'].str.isdecimal()[0]}\")\n",
    "df['first name'].str.isalpha().sum()"
   ]
  },
  {
   "cell_type": "markdown",
   "metadata": {},
   "source": [
    "16. Split the emails in the emails column at ``@`` to find the Domain names and store them in the variable ``email_domains``"
   ]
  },
  {
   "cell_type": "code",
   "execution_count": 72,
   "metadata": {},
   "outputs": [],
   "source": [
    "email_domains = df['emails'].str.split('@').str[1]"
   ]
  },
  {
   "cell_type": "markdown",
   "metadata": {},
   "source": [
    "17. Replace the emails having ``.edu`` with ``.org`` and store the output in the variable ``edu_to_org``"
   ]
  },
  {
   "cell_type": "code",
   "execution_count": 73,
   "metadata": {},
   "outputs": [],
   "source": [
    "# Replace .edu with .org in the email column\n",
    "edu_to_org = df['emails'].str.replace('.edu', '.org',regex=True)"
   ]
  },
  {
   "cell_type": "code",
   "execution_count": 74,
   "metadata": {},
   "outputs": [
    {
     "data": {
      "text/plain": [
       "0         osborneangela@example.com\n",
       "1               sbutler@example.net\n",
       "2               egarcia@example.net\n",
       "3                zmoore@example.com\n",
       "4             derrick11@example.com\n",
       "                   ...             \n",
       "4207            kelly26@example.net\n",
       "4208             seth26@example.net\n",
       "4209           tamara26@example.org\n",
       "4210    carlosstevenson@example.com\n",
       "4211       arnolddaniel@example.com\n",
       "Name: emails, Length: 4212, dtype: object"
      ]
     },
     "execution_count": 74,
     "metadata": {},
     "output_type": "execute_result"
    }
   ],
   "source": [
    "edu_to_org"
   ]
  },
  {
   "cell_type": "markdown",
   "metadata": {},
   "source": [
    "18. Replace the numeric and the St values in ``end station name`` Column with ``<space>`` so that we can filter the address without street numbers. Store your result in the variable ``clean_address``"
   ]
  },
  {
   "cell_type": "code",
   "execution_count": 75,
   "metadata": {},
   "outputs": [],
   "source": [
    "# Replace all numeric characters and 'St' with a space\n",
    "clean_address = df['end station name'].str.replace(r'\\d+|St', ' ', regex=True)"
   ]
  },
  {
   "cell_type": "code",
   "execution_count": 76,
   "metadata": {},
   "outputs": [
    {
     "data": {
      "text/plain": [
       "0             E     & Avenue B\n",
       "1        Rivington   & Ridge  \n",
       "2           Grand   & Greene  \n",
       "3                E     &   Ave\n",
       "4       Lafayette   & Jersey  \n",
       "                 ...          \n",
       "4207             W     &   Ave\n",
       "4208         Mott   & Prince  \n",
       "4209         Mott   & Prince  \n",
       "4210          Broadway & W    \n",
       "4211          E     & Avenue B\n",
       "Name: end station name, Length: 4212, dtype: object"
      ]
     },
     "execution_count": 76,
     "metadata": {},
     "output_type": "execute_result"
    }
   ],
   "source": [
    "clean_address"
   ]
  },
  {
   "cell_type": "markdown",
   "metadata": {},
   "source": [
    "# Matching Strings by Similarity using Levenshtein distance"
   ]
  },
  {
   "cell_type": "markdown",
   "metadata": {},
   "source": [
    "In this project, we're going to resolve a very tough problem, which is identifying similar strings that are not completely equal. It's a very common and challenging data-cleaning task, so let's get right into it!\n",
    "\n",
    "We have two CSVs containing company names. The problem is that the company names in these two CSVs don't match. Both have a single column, but if you explore them, you'll immediately spot the anomalies."
   ]
  },
  {
   "cell_type": "code",
   "execution_count": 1,
   "metadata": {},
   "outputs": [],
   "source": [
    "import itertools\n",
    "import pandas as pd\n",
    "\n",
    "# The new library!\n",
    "from thefuzz import fuzz, process"
   ]
  },
  {
   "cell_type": "code",
   "execution_count": 2,
   "metadata": {},
   "outputs": [],
   "source": [
    "df1 = pd.read_csv('files/companies_1.csv')\n",
    "df2 = pd.read_csv('files/companies_2.csv')"
   ]
  },
  {
   "cell_type": "code",
   "execution_count": 3,
   "metadata": {},
   "outputs": [
    {
     "data": {
      "text/html": [
       "<div>\n",
       "<style scoped>\n",
       "    .dataframe tbody tr th:only-of-type {\n",
       "        vertical-align: middle;\n",
       "    }\n",
       "\n",
       "    .dataframe tbody tr th {\n",
       "        vertical-align: top;\n",
       "    }\n",
       "\n",
       "    .dataframe thead th {\n",
       "        text-align: right;\n",
       "    }\n",
       "</style>\n",
       "<table border=\"1\" class=\"dataframe\">\n",
       "  <thead>\n",
       "    <tr style=\"text-align: right;\">\n",
       "      <th></th>\n",
       "      <th>CLIENT</th>\n",
       "    </tr>\n",
       "  </thead>\n",
       "  <tbody>\n",
       "    <tr>\n",
       "      <th>0</th>\n",
       "      <td>Adobe Systems, Inc.</td>\n",
       "    </tr>\n",
       "    <tr>\n",
       "      <th>1</th>\n",
       "      <td>Adventist Health</td>\n",
       "    </tr>\n",
       "    <tr>\n",
       "      <th>2</th>\n",
       "      <td>AECOM</td>\n",
       "    </tr>\n",
       "    <tr>\n",
       "      <th>3</th>\n",
       "      <td>Aerojet Rockedyne Holdings (GenCorp)</td>\n",
       "    </tr>\n",
       "    <tr>\n",
       "      <th>4</th>\n",
       "      <td>Alameda-Contra Costa Transit District</td>\n",
       "    </tr>\n",
       "    <tr>\n",
       "      <th>5</th>\n",
       "      <td>Alaska Community Foundation</td>\n",
       "    </tr>\n",
       "    <tr>\n",
       "      <th>6</th>\n",
       "      <td>Alaska Retirement Management Board</td>\n",
       "    </tr>\n",
       "    <tr>\n",
       "      <th>7</th>\n",
       "      <td>Alexander &amp; Baldwin, Inc.</td>\n",
       "    </tr>\n",
       "    <tr>\n",
       "      <th>8</th>\n",
       "      <td>Allergan, Inc.</td>\n",
       "    </tr>\n",
       "    <tr>\n",
       "      <th>9</th>\n",
       "      <td>Alyeska Pipeline Service Company</td>\n",
       "    </tr>\n",
       "  </tbody>\n",
       "</table>\n",
       "</div>"
      ],
      "text/plain": [
       "                                  CLIENT\n",
       "0                    Adobe Systems, Inc.\n",
       "1                       Adventist Health\n",
       "2                                  AECOM\n",
       "3   Aerojet Rockedyne Holdings (GenCorp)\n",
       "4  Alameda-Contra Costa Transit District\n",
       "5            Alaska Community Foundation\n",
       "6     Alaska Retirement Management Board\n",
       "7              Alexander & Baldwin, Inc.\n",
       "8                         Allergan, Inc.\n",
       "9       Alyeska Pipeline Service Company"
      ]
     },
     "execution_count": 3,
     "metadata": {},
     "output_type": "execute_result"
    }
   ],
   "source": [
    "df1.head(10)"
   ]
  },
  {
   "cell_type": "code",
   "execution_count": 4,
   "metadata": {},
   "outputs": [
    {
     "data": {
      "text/html": [
       "<div>\n",
       "<style scoped>\n",
       "    .dataframe tbody tr th:only-of-type {\n",
       "        vertical-align: middle;\n",
       "    }\n",
       "\n",
       "    .dataframe tbody tr th {\n",
       "        vertical-align: top;\n",
       "    }\n",
       "\n",
       "    .dataframe thead th {\n",
       "        text-align: right;\n",
       "    }\n",
       "</style>\n",
       "<table border=\"1\" class=\"dataframe\">\n",
       "  <thead>\n",
       "    <tr style=\"text-align: right;\">\n",
       "      <th></th>\n",
       "      <th>Firm Name</th>\n",
       "    </tr>\n",
       "  </thead>\n",
       "  <tbody>\n",
       "    <tr>\n",
       "      <th>0</th>\n",
       "      <td>AAA Northern California, Nevada &amp; Utah Auto Ex...</td>\n",
       "    </tr>\n",
       "    <tr>\n",
       "      <th>1</th>\n",
       "      <td>ACCO Engineered Systems</td>\n",
       "    </tr>\n",
       "    <tr>\n",
       "      <th>2</th>\n",
       "      <td>Adams County Retirement Plan</td>\n",
       "    </tr>\n",
       "    <tr>\n",
       "      <th>3</th>\n",
       "      <td>Adidas America, Inc.</td>\n",
       "    </tr>\n",
       "    <tr>\n",
       "      <th>4</th>\n",
       "      <td>Adobe Systems, Inc.</td>\n",
       "    </tr>\n",
       "    <tr>\n",
       "      <th>5</th>\n",
       "      <td>Advanced Micro Devices, Inc.</td>\n",
       "    </tr>\n",
       "    <tr>\n",
       "      <th>6</th>\n",
       "      <td>AECOM Technology Corporation</td>\n",
       "    </tr>\n",
       "    <tr>\n",
       "      <th>7</th>\n",
       "      <td>Aera Energy LLC</td>\n",
       "    </tr>\n",
       "    <tr>\n",
       "      <th>8</th>\n",
       "      <td>Aerojet Rocketdyne Holdings, Inc.</td>\n",
       "    </tr>\n",
       "    <tr>\n",
       "      <th>9</th>\n",
       "      <td>Agilent Technologies, Inc.</td>\n",
       "    </tr>\n",
       "  </tbody>\n",
       "</table>\n",
       "</div>"
      ],
      "text/plain": [
       "                                           Firm Name\n",
       "0  AAA Northern California, Nevada & Utah Auto Ex...\n",
       "1                            ACCO Engineered Systems\n",
       "2                       Adams County Retirement Plan\n",
       "3                               Adidas America, Inc.\n",
       "4                                Adobe Systems, Inc.\n",
       "5                       Advanced Micro Devices, Inc.\n",
       "6                       AECOM Technology Corporation\n",
       "7                                    Aera Energy LLC\n",
       "8                  Aerojet Rocketdyne Holdings, Inc.\n",
       "9                         Agilent Technologies, Inc."
      ]
     },
     "execution_count": 4,
     "metadata": {},
     "output_type": "execute_result"
    }
   ],
   "source": [
    "df2.head(10)"
   ]
  },
  {
   "cell_type": "code",
   "execution_count": 5,
   "metadata": {},
   "outputs": [
    {
     "name": "stdout",
     "output_type": "stream",
     "text": [
      "(266, 1)\n",
      "(368, 1)\n"
     ]
    }
   ],
   "source": [
    "print(df1.shape)\n",
    "print(df2.shape)"
   ]
  },
  {
   "cell_type": "markdown",
   "metadata": {},
   "source": [
    "You can see that the company ***AECOM*** appears as ``AECOM`` in CSV1, but as ``AECOM Technology Corporation`` in CSV2.\n",
    "\n",
    "To do so, we're going to use an external library called ``thefuzz`` that contains functionality to compute the Levenshtein distance between two strings. More on this later.\n",
    "\n",
    "Your job will be cleaning this data and matching the columns in both CSVs. Let's get started."
   ]
  },
  {
   "cell_type": "markdown",
   "metadata": {},
   "source": [
    "## Data Preprocessing\n",
    "\n",
    "Before we can compare the company names, we need to read the data and align the companies for comparison. To do so, we'll need to use the ``itertools.product`` function to create the \"cartesian product\" between the two CSVs. Very briefly, the Cartesian Product of two coll\n",
    "ections ``A`` and ``B``, returns a combination of ALL the elements in both ``A`` and ``B``.\n",
    "\n",
    "Example:\n",
    "```py\n",
    ">>> A = [\"Apple\", \"Alphabet\", \"Microsoft\"]\n",
    ">>> B = [\"MSFT\", \"Alphabet/Google\", \"Apple inc.\"]\n",
    "\n",
    ">>> list(itertools.product(A, B))\n",
    "[('Apple', 'MSFT'),\n",
    " ('Apple', 'Alphabet/Google'),\n",
    " ('Apple', 'Apple inc.'),\n",
    " ('Alphabet', 'MSFT'),\n",
    " ('Alphabet', 'Alphabet/Google'),\n",
    " ('Alphabet', 'Apple inc.'),\n",
    " ('Microsoft', 'MSFT'),\n",
    " ('Microsoft', 'Alphabet/Google'),\n",
    " ('Microsoft', 'Apple inc.')]\n",
    "\n",
    "```\n",
    "As you can see, every element in A is matched with every element in B."
   ]
  },
  {
   "cell_type": "code",
   "execution_count": 6,
   "metadata": {},
   "outputs": [
    {
     "data": {
      "text/plain": [
       "36"
      ]
     },
     "execution_count": 6,
     "metadata": {},
     "output_type": "execute_result"
    }
   ],
   "source": [
    "## Para el lanzamiento de dos dados la combinatoria sería de la siguiente manera\n",
    "\n",
    "dado_1 =  [1,2,3,4,5,6]\n",
    "dado_2 =  [1,2,3,4,5,6]\n",
    "\n",
    "len(list(itertools.product(dado_1, dado_2)))\n"
   ]
  },
  {
   "cell_type": "markdown",
   "metadata": {},
   "source": [
    "> **NOTA** ``itertools.product``: Funciona para calcular las posibles combinaciones usando un producto cartesiano de dos series"
   ]
  },
  {
   "cell_type": "markdown",
   "metadata": {},
   "source": [
    "1. Create the ``df`` dataframe containing the product of the two CSVs\n",
    "\n",
    "    We have already read the 2 CSVs into the ``df1`` and ``df2`` variables. Now, use the ``itertools.product`` method to create a resulting dataframe ``df`` that will contain the product of the two CSVs. The columns should be named ``CSV 1`` and ``CSV 2``.\n",
    "\n",
    "    As we have ``266`` rows in ``df1`` and ``368`` in ``df2``, the resulting ``df`` will have ``97,888`` rows (266 * 368), and it'll look something like:"
   ]
  },
  {
   "cell_type": "code",
   "execution_count": 7,
   "metadata": {},
   "outputs": [],
   "source": [
    "lista = list(itertools.product(list(df1.iloc[:,0]), list(df2.iloc[:,0])))\n",
    "\n",
    "df = pd.DataFrame(lista, columns=['CSV 1', 'CSV 2'])"
   ]
  },
  {
   "cell_type": "markdown",
   "metadata": {},
   "source": [
    "Otra solución"
   ]
  },
  {
   "cell_type": "code",
   "execution_count": null,
   "metadata": {},
   "outputs": [],
   "source": [
    "csv_1 = df1['CLIENT'].values\n",
    "csv_2 = df2['Firm Name'].values\n",
    "\n",
    "companies = itertools.product(csv_1, csv_2)\n",
    "\n",
    "df = pd.DataFrame(companies, columns=['CSV 1', 'CSV 2'])"
   ]
  },
  {
   "cell_type": "markdown",
   "metadata": {},
   "source": [
    "## Calculating the Levenshtein distance\n",
    "\n",
    "We're going to use the ``partial_ratio`` function from the ``fuzz`` module to compute the \"distance\" between two strings. The result is a number between 0 and ``100``, with ``100`` indicating a \"perfect\" match. Please keep in mind that this method is not perfect, as shown in the examples about ``Microsoft`` in the notebook."
   ]
  },
  {
   "cell_type": "markdown",
   "metadata": {},
   "source": [
    "Now, we will learn how to calculate the Levenshtein distance between two strings. Here we will user ``partial_ratio`` function from the fuzz module to compute the \"ratio\" between two strings. The result is a number between 0 and 100, with 100 indicating a \"perfect\" match. Please note that ``partial_ratio`` gives ratio of the shortest string length to the longest string length. For example, if the first string is ``ABC`` and the second string is ``ABDC``, then the ratio will be 4/5 = 0.80."
   ]
  },
  {
   "cell_type": "code",
   "execution_count": 8,
   "metadata": {},
   "outputs": [
    {
     "data": {
      "text/plain": [
       "100"
      ]
     },
     "execution_count": 8,
     "metadata": {},
     "output_type": "execute_result"
    }
   ],
   "source": [
    "fuzz.partial_ratio(\"Apple\", \"Apple Inc.\")"
   ]
  },
  {
   "cell_type": "code",
   "execution_count": 9,
   "metadata": {},
   "outputs": [
    {
     "data": {
      "text/plain": [
       "11"
      ]
     },
     "execution_count": 9,
     "metadata": {},
     "output_type": "execute_result"
    }
   ],
   "source": [
    "fuzz.partial_ratio(\"Microsoft\", \"Apple Inc.\")"
   ]
  },
  {
   "cell_type": "code",
   "execution_count": 10,
   "metadata": {},
   "outputs": [
    {
     "data": {
      "text/plain": [
       "25"
      ]
     },
     "execution_count": 10,
     "metadata": {},
     "output_type": "execute_result"
    }
   ],
   "source": [
    "fuzz.partial_ratio(\"Microsoft\", \"MSFT\")"
   ]
  },
  {
   "cell_type": "markdown",
   "metadata": {},
   "source": [
    "If we have list of strings, we can calculate the Levenshtein distance between each pair of strings in the list."
   ]
  },
  {
   "cell_type": "code",
   "execution_count": 11,
   "metadata": {},
   "outputs": [],
   "source": [
    "A = [\"Apple\", \"Alphabet\", \"Microsoft\"]\n",
    "B = [\"MSFT\", \"Alphabet/Google\", \"Apple inc.\"]"
   ]
  },
  {
   "cell_type": "markdown",
   "metadata": {},
   "source": [
    "Below, we combined the two list ``A`` and ``B`` into a list of tuples ``companies`` using product function from ``itertools`` module.\n",
    "\n",
    "Then, we calculated the partial ratio for each pair of strings in the list companies using ``partial_ratio`` function from ``fuzz``."
   ]
  },
  {
   "cell_type": "code",
   "execution_count": 12,
   "metadata": {},
   "outputs": [
    {
     "data": {
      "text/plain": [
       "[('Apple', 'MSFT'),\n",
       " ('Apple', 'Alphabet/Google'),\n",
       " ('Apple', 'Apple inc.'),\n",
       " ('Alphabet', 'MSFT'),\n",
       " ('Alphabet', 'Alphabet/Google'),\n",
       " ('Alphabet', 'Apple inc.'),\n",
       " ('Microsoft', 'MSFT'),\n",
       " ('Microsoft', 'Alphabet/Google'),\n",
       " ('Microsoft', 'Apple inc.')]"
      ]
     },
     "execution_count": 12,
     "metadata": {},
     "output_type": "execute_result"
    }
   ],
   "source": [
    "companies = list(itertools.product(A, B))\n",
    "companies"
   ]
  },
  {
   "cell_type": "code",
   "execution_count": 13,
   "metadata": {},
   "outputs": [
    {
     "name": "stdout",
     "output_type": "stream",
     "text": [
      "Apple > MSFT: 0\n",
      "Apple > Alphabet/Google: 40\n",
      "Apple > Apple inc.: 100\n",
      "Alphabet > MSFT: 0\n",
      "Alphabet > Alphabet/Google: 100\n",
      "Alphabet > Apple inc.: 38\n",
      "Microsoft > MSFT: 25\n",
      "Microsoft > Alphabet/Google: 22\n",
      "Microsoft > Apple inc.: 22\n"
     ]
    }
   ],
   "source": [
    "for c1, c2 in companies:\n",
    "    ratio = fuzz.partial_ratio(c1, c2)\n",
    "    print(f\"{c1} > {c2}: {ratio}\")"
   ]
  },
  {
   "cell_type": "markdown",
   "metadata": {},
   "source": [
    "You will see the greater the ratio, the more similar the strings are."
   ]
  },
  {
   "cell_type": "markdown",
   "metadata": {},
   "source": [
    "2. Create a new column ``Ratio Score`` that contains the distance for all the rows in df\n",
    "\n",
    "    Now apply the function ``fuzz.partial_ratio`` to all the companies in ``df`` to calculate the distance between them. Store the distance in a new column named ``Ratio Score``. It'll look similar to:"
   ]
  },
  {
   "cell_type": "markdown",
   "metadata": {},
   "source": [
    "For the simplest solution, we can use list comprehension to generate the scores from the dataframe ``df``:"
   ]
  },
  {
   "cell_type": "code",
   "execution_count": null,
   "metadata": {},
   "outputs": [],
   "source": [
    "scores = [fuzz.partial_ratio(c1, c2) for c1, c2 in df.values]\n",
    "df['Ratio Score'] = scores"
   ]
  },
  {
   "cell_type": "markdown",
   "metadata": {},
   "source": [
    "Or, we can use the apply method to apply the function to all the rows in df:"
   ]
  },
  {
   "cell_type": "code",
   "execution_count": 15,
   "metadata": {},
   "outputs": [],
   "source": [
    "df['Ratio Score'] = df.apply(lambda row: fuzz.partial_ratio(row['CSV 1'], row['CSV 2']), axis=1)"
   ]
  },
  {
   "cell_type": "code",
   "execution_count": 16,
   "metadata": {},
   "outputs": [
    {
     "data": {
      "text/plain": [
       "array(['Adobe Systems, Inc.',\n",
       "       'AAA Northern California, Nevada & Utah Auto Exchange', 26],\n",
       "      dtype=object)"
      ]
     },
     "execution_count": 16,
     "metadata": {},
     "output_type": "execute_result"
    }
   ],
   "source": [
    "df.values[0]"
   ]
  },
  {
   "cell_type": "markdown",
   "metadata": {},
   "source": [
    "3. How many rows have a Ratio score of 90 or more?"
   ]
  },
  {
   "cell_type": "code",
   "execution_count": 21,
   "metadata": {},
   "outputs": [
    {
     "data": {
      "text/plain": [
       "106"
      ]
     },
     "execution_count": 21,
     "metadata": {},
     "output_type": "execute_result"
    }
   ],
   "source": [
    "len(df[df['Ratio Score'] >= 90])"
   ]
  },
  {
   "cell_type": "markdown",
   "metadata": {},
   "source": [
    "4. What's the corresponding company in CSV2 to ``AECOM`` in CSV1?\n",
    "\n",
    "    We saw that in ``CSV 1`` there's a company ``AECOM``, what's the corresponding value in ``CSV 2``? The higher the Ratio Score, the more likely it is to be a match. So, use "
   ]
  },
  {
   "cell_type": "code",
   "execution_count": 25,
   "metadata": {},
   "outputs": [
    {
     "data": {
      "text/plain": [
       "742    AECOM Technology Corporation\n",
       "Name: CSV 2, dtype: object"
      ]
     },
     "execution_count": 25,
     "metadata": {},
     "output_type": "execute_result"
    }
   ],
   "source": [
    "df[(df['CSV 1'] == 'AECOM') & (df['Ratio Score'] > 90)]['CSV 2']"
   ]
  },
  {
   "cell_type": "markdown",
   "metadata": {},
   "source": [
    "5. What's the corresponding ``CSV 2`` company of Starbucks?\n",
    "\n",
    "    ``CSV 1`` company is ``Starbucks``, what's the corresponding name in ``CSV 2``?"
   ]
  },
  {
   "cell_type": "code",
   "execution_count": 26,
   "metadata": {},
   "outputs": [
    {
     "data": {
      "text/plain": [
       "77948    Starbucks Corporation\n",
       "Name: CSV 2, dtype: object"
      ]
     },
     "execution_count": 26,
     "metadata": {},
     "output_type": "execute_result"
    }
   ],
   "source": [
    "df[(df['CSV 1'] == 'Starbucks') & (df['Ratio Score'] > 90)]['CSV 2']"
   ]
  },
  {
   "cell_type": "markdown",
   "metadata": {},
   "source": [
    "6. Is there a matching company for ``Pinnacle West Capital Corporation`` in column ``CSV 2``?\n",
    "\n",
    "    Column ``CSV 1`` contains ``Pinnacle West Capital Corporation``, name a matching company in column ``CSV 2`` with a ratio score more than ``90``?"
   ]
  },
  {
   "cell_type": "code",
   "execution_count": 29,
   "metadata": {},
   "outputs": [
    {
     "data": {
      "text/html": [
       "<div>\n",
       "<style scoped>\n",
       "    .dataframe tbody tr th:only-of-type {\n",
       "        vertical-align: middle;\n",
       "    }\n",
       "\n",
       "    .dataframe tbody tr th {\n",
       "        vertical-align: top;\n",
       "    }\n",
       "\n",
       "    .dataframe thead th {\n",
       "        text-align: right;\n",
       "    }\n",
       "</style>\n",
       "<table border=\"1\" class=\"dataframe\">\n",
       "  <thead>\n",
       "    <tr style=\"text-align: right;\">\n",
       "      <th></th>\n",
       "      <th>CSV 1</th>\n",
       "      <th>CSV 2</th>\n",
       "      <th>Ratio Score</th>\n",
       "    </tr>\n",
       "  </thead>\n",
       "  <tbody>\n",
       "    <tr>\n",
       "      <th>61128</th>\n",
       "      <td>Pinnacle West Capital Corporation</td>\n",
       "      <td>Avista Corporation</td>\n",
       "      <td>83</td>\n",
       "    </tr>\n",
       "    <tr>\n",
       "      <th>61130</th>\n",
       "      <td>Pinnacle West Capital Corporation</td>\n",
       "      <td>Ball Corporation</td>\n",
       "      <td>88</td>\n",
       "    </tr>\n",
       "  </tbody>\n",
       "</table>\n",
       "</div>"
      ],
      "text/plain": [
       "                                   CSV 1               CSV 2  Ratio Score\n",
       "61128  Pinnacle West Capital Corporation  Avista Corporation           83\n",
       "61130  Pinnacle West Capital Corporation    Ball Corporation           88"
      ]
     },
     "execution_count": 29,
     "metadata": {},
     "output_type": "execute_result"
    }
   ],
   "source": [
    "df[(df['CSV 1'] == 'Pinnacle West Capital Corporation') & (df['Ratio Score'] >= 80)]"
   ]
  },
  {
   "cell_type": "markdown",
   "metadata": {},
   "source": [
    "7. How many matching companies are there for ``County of Los Angeles Deferred Compensation Program``?\n",
    "\n",
    "    ``CSV 1`` contains the ``County of Los Angeles Deferred Compensation Program``. How many matching companies seem to be in ``CSV 2``?"
   ]
  },
  {
   "cell_type": "code",
   "execution_count": 31,
   "metadata": {},
   "outputs": [
    {
     "data": {
      "text/html": [
       "<div>\n",
       "<style scoped>\n",
       "    .dataframe tbody tr th:only-of-type {\n",
       "        vertical-align: middle;\n",
       "    }\n",
       "\n",
       "    .dataframe tbody tr th {\n",
       "        vertical-align: top;\n",
       "    }\n",
       "\n",
       "    .dataframe thead th {\n",
       "        text-align: right;\n",
       "    }\n",
       "</style>\n",
       "<table border=\"1\" class=\"dataframe\">\n",
       "  <thead>\n",
       "    <tr style=\"text-align: right;\">\n",
       "      <th></th>\n",
       "      <th>CSV 1</th>\n",
       "      <th>CSV 2</th>\n",
       "      <th>Ratio Score</th>\n",
       "    </tr>\n",
       "  </thead>\n",
       "  <tbody>\n",
       "    <tr>\n",
       "      <th>26206</th>\n",
       "      <td>County of Los Angeles Deferred Compensation Pr...</td>\n",
       "      <td>City of Los Angeles Deferred Compensation</td>\n",
       "      <td>95</td>\n",
       "    </tr>\n",
       "    <tr>\n",
       "      <th>26227</th>\n",
       "      <td>County of Los Angeles Deferred Compensation Pr...</td>\n",
       "      <td>County of Los Angeles Deferred Compensation Pr...</td>\n",
       "      <td>100</td>\n",
       "    </tr>\n",
       "  </tbody>\n",
       "</table>\n",
       "</div>"
      ],
      "text/plain": [
       "                                                   CSV 1  \\\n",
       "26206  County of Los Angeles Deferred Compensation Pr...   \n",
       "26227  County of Los Angeles Deferred Compensation Pr...   \n",
       "\n",
       "                                                   CSV 2  Ratio Score  \n",
       "26206          City of Los Angeles Deferred Compensation           95  \n",
       "26227  County of Los Angeles Deferred Compensation Pr...          100  "
      ]
     },
     "execution_count": 31,
     "metadata": {},
     "output_type": "execute_result"
    }
   ],
   "source": [
    "df[(df['CSV 1'] == 'County of Los Angeles Deferred Compensation Program') & (df['Ratio Score'] > 90)]"
   ]
  },
  {
   "cell_type": "markdown",
   "metadata": {},
   "source": [
    "8. Is there a matching company for ``The Queens Health Systems``?\n",
    "\n",
    "    ``CSV 1`` contains ``The Queens Health Systems``, is there a matching in CSV 2?"
   ]
  },
  {
   "cell_type": "code",
   "execution_count": 32,
   "metadata": {},
   "outputs": [
    {
     "data": {
      "text/html": [
       "<div>\n",
       "<style scoped>\n",
       "    .dataframe tbody tr th:only-of-type {\n",
       "        vertical-align: middle;\n",
       "    }\n",
       "\n",
       "    .dataframe tbody tr th {\n",
       "        vertical-align: top;\n",
       "    }\n",
       "\n",
       "    .dataframe thead th {\n",
       "        text-align: right;\n",
       "    }\n",
       "</style>\n",
       "<table border=\"1\" class=\"dataframe\">\n",
       "  <thead>\n",
       "    <tr style=\"text-align: right;\">\n",
       "      <th></th>\n",
       "      <th>CSV 1</th>\n",
       "      <th>CSV 2</th>\n",
       "      <th>Ratio Score</th>\n",
       "    </tr>\n",
       "  </thead>\n",
       "  <tbody>\n",
       "    <tr>\n",
       "      <th>84220</th>\n",
       "      <td>The Queens Health Systems</td>\n",
       "      <td>The Queen's Health Systems</td>\n",
       "      <td>96</td>\n",
       "    </tr>\n",
       "  </tbody>\n",
       "</table>\n",
       "</div>"
      ],
      "text/plain": [
       "                           CSV 1                       CSV 2  Ratio Score\n",
       "84220  The Queens Health Systems  The Queen's Health Systems           96"
      ]
     },
     "execution_count": 32,
     "metadata": {},
     "output_type": "execute_result"
    }
   ],
   "source": [
    "df[(df['CSV 1'] == 'The Queens Health Systems') & (df['Ratio Score'] > 90)]"
   ]
  },
  {
   "cell_type": "markdown",
   "metadata": {},
   "source": [
    "# String pre-processing for Sentiment Analysis in NLP"
   ]
  },
  {
   "cell_type": "markdown",
   "metadata": {},
   "source": [
    "In this project, we'll use NLTK, the de-facto and most popular NLP Python library to perform some Sentiment Analysis on a corpus of +22K tweets scraped during the 2022 FIFA world cup.\n",
    "\n",
    "But the objective of this project is not to perform Sentiment Analysis or NLP, as that's outside of the scope of this skill track. The goal of this project is to perform several pre-processing and cleaning tasks to the text of the tweets in order to render them ready for the Sentiment Analysis task.\n",
    "\n",
    "The dataset we're using already includes the classification of Sentiment which was performed with an advanced Deep Learning model based on on [Meta's AI RoBERTa](https://ai.meta.com/blog/roberta-an-optimized-method-for-pretraining-self-supervised-nlp-systems/).\n",
    "\n",
    "Our goal will be to perform the right pre-processing tasks and then use NLTK's built-in [VADER](https://www.nltk.org/howto/sentiment.html) module to perform a very rudimentary version of Sentiment Analysis, and compare its performance with the original's Sentiment column included in the dataset.\n",
    "\n",
    "Most NLP projects require several cleaning and pre-processing tasks, like tokenization, stemming, lemmatization, etc. Don't worry if you don't understand what they are, we'll explain them as they're required in the project. The important part is to understand that the complexity of NLP usually relies mostly on the pre-processing and cleaning, than the NLP models themselves.\n",
    "\n",
    "Let's get started!"
   ]
  },
  {
   "cell_type": "markdown",
   "metadata": {},
   "source": [
    "1. Read dataset, but only the ``Tweet`` and ``Sentiment`` columns\n",
    "\n",
    "    Read the data in ``fifa_world_cup_2022_tweets.csv`` into a dataframe, but only the columns ``Tweet`` and ``Sentiment``.\n",
    "\n",
    "    Your ``df`` should look something like:"
   ]
  },
  {
   "cell_type": "code",
   "execution_count": 4,
   "metadata": {},
   "outputs": [],
   "source": [
    "import re\n",
    "\n",
    "import pandas as pd\n",
    "import numpy as np"
   ]
  },
  {
   "cell_type": "code",
   "execution_count": 34,
   "metadata": {},
   "outputs": [
    {
     "name": "stderr",
     "output_type": "stream",
     "text": [
      "[nltk_data] Downloading package punkt to\n",
      "[nltk_data]     C:\\Users\\DVadeus\\AppData\\Roaming\\nltk_data...\n",
      "[nltk_data]   Unzipping tokenizers\\punkt.zip.\n"
     ]
    }
   ],
   "source": [
    "import nltk\n",
    "nltk.download('punkt')\n",
    "from nltk.sentiment.vader import SentimentIntensityAnalyzer\n",
    "from nltk.corpus import stopwords\n",
    "from nltk.tokenize import word_tokenize\n",
    "from nltk.stem import WordNetLemmatizer"
   ]
  },
  {
   "cell_type": "markdown",
   "metadata": {},
   "source": [
    "1. Read dataset, but only the Tweet and Sentiment columns\n",
    "\n",
    "    Read the data in ``fifa_world_cup_2022_tweets.csv`` into a dataframe, but only the columns ``Tweet`` and ``Sentiment``.\n",
    "\n",
    "    Your ``df`` should look something like:"
   ]
  },
  {
   "cell_type": "code",
   "execution_count": 56,
   "metadata": {},
   "outputs": [],
   "source": [
    "df = pd.read_csv('files/fifa_world_cup_2022_tweets.csv', usecols =['Tweet', 'Sentiment'])"
   ]
  },
  {
   "cell_type": "markdown",
   "metadata": {},
   "source": [
    "2. Lowercase the column ``Tweet`` in the new column ``Tweet Lower``\n",
    "\n",
    "    Create a new column Tweet Lower that contains the contents of the ``Tweet`` column, but all lowercased."
   ]
  },
  {
   "cell_type": "code",
   "execution_count": 57,
   "metadata": {},
   "outputs": [],
   "source": [
    "df['Tweet Lower'] = df['Tweet'].str.lower()"
   ]
  },
  {
   "cell_type": "code",
   "execution_count": 58,
   "metadata": {},
   "outputs": [
    {
     "name": "stdout",
     "output_type": "stream",
     "text": [
      "what are we drinking today @tucantribe \n",
      "@madbears_ \n",
      "@lkinc_algo \n",
      "@al_goanna \n",
      "\n",
      "#worldcup2022 https://t.co/oga3tzvg5h\n"
     ]
    }
   ],
   "source": [
    "print(df.iloc[0]['Tweet Lower'])"
   ]
  },
  {
   "cell_type": "markdown",
   "metadata": {},
   "source": [
    "3. Remove all URLs from ``Tweet Lower`` in ``Tweet Clean``\n",
    "\n",
    "    URLs, hashtags, mentions are mostly useless elements when it comes to sentiment analysis. We'll start by removing all the URLs. Remove all the URLs from Tweet Lower and store your results in Tweet Clean.\n",
    "\n",
    "    Warning! Don't forget to remove any leading or trailing whitespaces. For example, if you remove the URL from the following tweet:\n",
    "\n",
    "    ```py\n",
    "    what are we drinking today @tucantribe \n",
    "    @madbears_ \n",
    "    @lkinc_algo \n",
    "    @al_goanna \n",
    "    \n",
    "    #worldcup2022 https://t.co/oga3tzvg5h\n",
    "    ```\n",
    "\n",
    "    The result should be:\n",
    "    \n",
    "    ``` py\n",
    "    \"\"\"what are we drinking today @tucantribe \n",
    "    @madbears_ \n",
    "    @lkinc_algo \n",
    "    @al_goanna \n",
    "\n",
    "    #worldcup2022\"\"\"\n",
    "    ```\n",
    "    \n",
    "    Without a trailing space after the #worldcup2022 hashtag.\n",
    "\n",
    "    > *Use this pattern for matching the url: ``https?:\\/\\/[^\\s]*``*"
   ]
  },
  {
   "cell_type": "code",
   "execution_count": 59,
   "metadata": {},
   "outputs": [],
   "source": [
    "df['Tweet Clean'] = df.apply(lambda row: re.sub('https?:\\/\\/[^\\s]*', \"\", row['Tweet Lower'], flags=re.MULTILINE).strip(), axis=1)"
   ]
  },
  {
   "cell_type": "code",
   "execution_count": 60,
   "metadata": {},
   "outputs": [
    {
     "data": {
      "text/plain": [
       "'what are we drinking today @tucantribe \\n@madbears_ \\n@lkinc_algo \\n@al_goanna \\n\\n#worldcup2022'"
      ]
     },
     "execution_count": 60,
     "metadata": {},
     "output_type": "execute_result"
    }
   ],
   "source": [
    "df['Tweet Clean'][0]"
   ]
  },
  {
   "cell_type": "markdown",
   "metadata": {},
   "source": [
    "4. Remove username mentions in ``Tweet Clean``\n",
    "\n",
    "    Still in ``Tweet Clean``, remove any twitter mentions (in the form ``@datawars_io``). In this case, we're modifying the original column Tweet Clean, so if you make a mistake, you'll have to re-run your previous code and start over.\n",
    "\n",
    "    Remember to strip any trailing or leading whitespaces."
   ]
  },
  {
   "cell_type": "code",
   "execution_count": 61,
   "metadata": {},
   "outputs": [],
   "source": [
    "df['Tweet Clean'] = df['Tweet Clean'].str.replace('@[\\w]*', '',regex = True, flags = re.MULTILINE).str.strip()"
   ]
  },
  {
   "cell_type": "markdown",
   "metadata": {},
   "source": [
    "5. Remove Hashtags from Tweet Clean\n",
    "\n",
    "    Still in Tweet Clean, remove any hashtags."
   ]
  },
  {
   "cell_type": "code",
   "execution_count": 62,
   "metadata": {},
   "outputs": [],
   "source": [
    "df['Tweet Clean'] = df['Tweet Clean'].str.replace('#[\\w]*', '',regex = True, flags = re.MULTILINE).str.strip()"
   ]
  },
  {
   "cell_type": "markdown",
   "metadata": {},
   "source": [
    "## Tokenizing Tweets\n",
    "\n",
    "6. Create the list ``tokenized_tweets`` by applying the function ``word_tokenize`` to the values of the column ``Tweet Clean``\n",
    "\n",
    "    We'll now start using the ``nltk`` module. Don't worry if you've never used it before, as these are all simple functions that don't require an NLP background.\n",
    "\n",
    "    We'll start by \"tokenizing\" the tweets. Tokenizing means basically splitting a corpus of text into different words or tokens.\n",
    "\n",
    "    Your task is to use the ``word_tokenize`` function to create a list of tweet tokens and store the result in ``tokenized_tweets``. This means that ``tokenized_tweets`` is a list of lists, a list of tokens in the following form:\n",
    "    ```py\n",
    "    [\n",
    "        ['what', 'are', 'we', 'drinking', 'today'], # tweet\n",
    "        ['worth', 'reading', 'while', 'watching'],  # tweet\n",
    "    ]\n",
    "    ```"
   ]
  },
  {
   "cell_type": "code",
   "execution_count": 64,
   "metadata": {},
   "outputs": [],
   "source": [
    "tokenized_tweets = [word_tokenize(w) for w in df['Tweet Clean'].values]"
   ]
  },
  {
   "cell_type": "markdown",
   "metadata": {},
   "source": [
    "7. Filter stop words\n",
    "\n",
    "    Stop words are words that don't contribute much to the meaning of a sentence, like conjunctions (\"for\", \"and\") or the word \"the\", \"a\", etc. The ``nltk`` module contains stop words for english, that we can get with ``stopwords.words('english')``.\n",
    "\n",
    "    Your task is to remove any stop words from the tokens you have previously generated. Store your results in the variable ``filtered_tokenized_tweets``, which continues to be a list of lists, but with the stop words filtered out."
   ]
  },
  {
   "cell_type": "code",
   "execution_count": 42,
   "metadata": {},
   "outputs": [
    {
     "name": "stderr",
     "output_type": "stream",
     "text": [
      "[nltk_data] Downloading package stopwords to\n",
      "[nltk_data]     C:\\Users\\DVadeus\\AppData\\Roaming\\nltk_data...\n",
      "[nltk_data]   Unzipping corpora\\stopwords.zip.\n"
     ]
    },
    {
     "data": {
      "text/plain": [
       "True"
      ]
     },
     "execution_count": 42,
     "metadata": {},
     "output_type": "execute_result"
    }
   ],
   "source": [
    "nltk.download('stopwords')"
   ]
  },
  {
   "cell_type": "code",
   "execution_count": 53,
   "metadata": {},
   "outputs": [],
   "source": [
    "stop_words_english = set(stopwords.words('english'))"
   ]
  },
  {
   "cell_type": "code",
   "execution_count": 69,
   "metadata": {},
   "outputs": [],
   "source": [
    "filtered_tokenized_tweets = [[w for w in tweet if w not in stop_words_english] for tweet in tokenized_tweets]"
   ]
  },
  {
   "cell_type": "markdown",
   "metadata": {},
   "source": [
    "## Performing Sentiment Analysis\n",
    "\n",
    "We'll now start the process of sentiment analysis using the builtin ``SentimentIntensityAnalyzer`` NLTK class, also known as VADER.\n",
    "\n",
    "Vader works well for the basic tasks, for example this will be classified mostly as a positive sentence:\n",
    "\n",
    "```py\n",
    ">>> analyzer.polarity_scores(\"DataWars is awesome! I love it so much!\")\n",
    "{'neg': 0.0, 'neu': 0.36, 'pos': 0.64, 'compound': 0.8715}\n",
    "```\n",
    "\n",
    "But it can't handle things like sarcasm or rethorical questions. For example, sarcasm is completely lost to the analyzer, this is clearly a negative sentence:\n",
    "\n",
    "```py\n",
    ">>> analyzer.polarity_scores(\"Yeah, R is sure a great programming language. If you are 80 years old\")\n",
    "{'neg': 0.0, 'neu': 0.511, 'pos': 0.489, 'compound': 0.8225}\n",
    "```\n",
    "\n",
    "While the following one, which is not as extreme as the previous one, could also be arguably classified as negative. Instead, it's found to be completely neutral:\n",
    "```py\n",
    ">>> analyzer.polarity_scores(\"I can't believe how people still program in R in 2019, what is going on?\")\n",
    "{'neg': 0.0, 'neu': 1.0, 'pos': 0.0, 'compound': 0.0}\n",
    "```\n",
    "\n",
    "Don't worry too much about the contents of the resulting dictionary, we'll explain them in the following activities."
   ]
  },
  {
   "cell_type": "markdown",
   "metadata": {},
   "source": [
    "8. Glue all the tweets back again\n",
    "\n",
    "    Use a single space to concat the tokens that we have preprocessed in our previous tasks and build the tweet again. Store your results in the variable ``cleaned_tweets``. In this case, it'll no longer be a list of lists, but a list of strings, the tweets we have assembled again, and it'll look something like:\n",
    "    ```py\n",
    "    ['drinking today',\n",
    "    'amazing launch video . shows much face canada men ’ national team changed since last world cup entry 1986. ’ wait see boys action ! canada : fifa world cup opening video',\n",
    "    'worth reading watching']\n",
    "    ```"
   ]
  },
  {
   "cell_type": "code",
   "execution_count": 83,
   "metadata": {},
   "outputs": [],
   "source": [
    "cleaned_tweets = []\n",
    "for tweet in filtered_tokenized_tweets:\n",
    "    word = ''\n",
    "    for t in tweet:\n",
    "        word += t+' '\n",
    "    cleaned_tweets.append(word.strip())"
   ]
  },
  {
   "cell_type": "markdown",
   "metadata": {},
   "source": [
    "Mejor solución"
   ]
  },
  {
   "cell_type": "code",
   "execution_count": 85,
   "metadata": {},
   "outputs": [
    {
     "data": {
      "text/plain": [
       "['drinking today',\n",
       " 'amazing launch video . shows much face canada men ’ national team changed since last world cup entry 1986. ’ wait see boys action ! canada : fifa world cup opening video',\n",
       " 'worth reading watching',\n",
       " 'golden maknae shinning bright',\n",
       " 'bbc cares much human rights , homosexual rights , women rights say opening ceremony ? ? saying opening ceremony ? ? bbc censor opening ceremony ? ?']"
      ]
     },
     "execution_count": 85,
     "metadata": {},
     "output_type": "execute_result"
    }
   ],
   "source": [
    "cleaned_tweets = [' '.join(tweet) for tweet in filtered_tokenized_tweets]\n",
    "cleaned_tweets[:5]"
   ]
  },
  {
   "cell_type": "markdown",
   "metadata": {},
   "source": [
    "9. Apply VADER to all the words\n",
    "\n",
    "    Use the ``analyzer.polarity_scores`` method to perform sentiment analysis on all the tweets in ``cleaned_tweets``. Store the list of results in the variable ``tweet_sentiment_scores``.\n",
    "\n",
    "    As we mentioned before, this requires just a method invocation:\n",
    "    ```py\n",
    "    >>> analyzer.polarity_scores(YOUR_TWEET)\n",
    "    ```\n",
    "    Your ``tweet_sentiment_scores`` variable will look something like:\n",
    "    ```py\n",
    "    [\n",
    "        {'neg': 0.0, 'neu': 1.0, 'pos': 0.0, 'compound': 0.0},\n",
    "        {'neg': 0.0, 'neu': 0.864, 'pos': 0.136, 'compound': 0.6239},\n",
    "        {'neg': 0.0, 'neu': 0.513, 'pos': 0.487, 'compound': 0.2263},\n",
    "        ...\n",
    "    ]\n",
    "    ```"
   ]
  },
  {
   "cell_type": "code",
   "execution_count": 92,
   "metadata": {},
   "outputs": [
    {
     "name": "stderr",
     "output_type": "stream",
     "text": [
      "[nltk_data] Downloading package vader_lexicon to\n",
      "[nltk_data]     C:\\Users\\DVadeus\\AppData\\Roaming\\nltk_data...\n"
     ]
    },
    {
     "data": {
      "text/plain": [
       "True"
      ]
     },
     "execution_count": 92,
     "metadata": {},
     "output_type": "execute_result"
    }
   ],
   "source": [
    "nltk.download('vader_lexicon')"
   ]
  },
  {
   "cell_type": "code",
   "execution_count": 93,
   "metadata": {},
   "outputs": [],
   "source": [
    "analyzer = SentimentIntensityAnalyzer()"
   ]
  },
  {
   "cell_type": "code",
   "execution_count": 96,
   "metadata": {},
   "outputs": [],
   "source": [
    "tweet_sentiment_scores = [analyzer.polarity_scores(tweet) for tweet in cleaned_tweets]"
   ]
  },
  {
   "cell_type": "code",
   "execution_count": 97,
   "metadata": {},
   "outputs": [
    {
     "data": {
      "text/plain": [
       "[{'neg': 0.0, 'neu': 1.0, 'pos': 0.0, 'compound': 0.0},\n",
       " {'neg': 0.0, 'neu': 0.864, 'pos': 0.136, 'compound': 0.6239},\n",
       " {'neg': 0.0, 'neu': 0.513, 'pos': 0.487, 'compound': 0.2263},\n",
       " {'neg': 0.0, 'neu': 0.508, 'pos': 0.492, 'compound': 0.4404},\n",
       " {'neg': 0.13, 'neu': 0.739, 'pos': 0.13, 'compound': 0.0}]"
      ]
     },
     "execution_count": 97,
     "metadata": {},
     "output_type": "execute_result"
    }
   ],
   "source": [
    "tweet_sentiment_scores[:5]"
   ]
  },
  {
   "cell_type": "markdown",
   "metadata": {},
   "source": [
    "10. Calculate the sentiment of each tweet based on the following rule....\n",
    "\n",
    "    The result of ``analyzer.polarity_scores`` is a dictionary with several keys:\n",
    "    \n",
    "    ```py\n",
    "    >>> analyzer.polarity_scores(\"DataWars is awesome! I love it so much!\")\n",
    "    {'neg': 0.0, 'neu': 0.36, 'pos': 0.64, 'compound': 0.8715}\n",
    "    ```\n",
    "    \n",
    "    The ``neg``, ``neu`` and ``pos`` keys represent the proportions of the text that fall in each category (Negative, Neutral and Positive). They add up to 1.\n",
    "\n",
    "    But the key that we're really interested in is ``compound``, which is a weighted composite score that has been normalized between -1 (most extreme negative) and +1 (most extreme positive). In this case, the ``compound`` score of 0.8715 indicates a very high positive sentiment.\n",
    "\n",
    "    The general rule of thumb for interpreting the ``compound`` score is:\n",
    "\n",
    "    - Positive sentiment: ``compound`` score > 0.05\n",
    "    - Neutral sentiment: ``compound`` score between -0.05 and 0.05\n",
    "    - Negative sentiment: ``compound`` score < -0.05\n",
    "    \n",
    "    Calculate the sentiment of each score and store it in the variable ``tweet_sentiment_results`` that should look something like: ``['neutral', 'positive', 'positive', ...]``."
   ]
  },
  {
   "cell_type": "code",
   "execution_count": 100,
   "metadata": {},
   "outputs": [],
   "source": [
    "tweet_sentiment_results = ['positive' if score['compound'] > 0.05 else 'negative' if score['compound'] < -0.05 else 'neutral' for score in tweet_sentiment_scores]"
   ]
  },
  {
   "cell_type": "markdown",
   "metadata": {},
   "source": [
    "Otra opción"
   ]
  },
  {
   "cell_type": "code",
   "execution_count": null,
   "metadata": {},
   "outputs": [],
   "source": [
    "def get_sentiment(res):\n",
    "    comp = res['compound']\n",
    "    if comp > .05:\n",
    "        return \"positive\"\n",
    "    elif comp < -.05:\n",
    "        return \"negative\"\n",
    "    return \"neutral\"\n"
   ]
  },
  {
   "cell_type": "code",
   "execution_count": null,
   "metadata": {},
   "outputs": [],
   "source": [
    "tweet_sentiment_results = [get_sentiment(score) for score in tweet_sentiment_scores]\n",
    "tweet_sentiment_results[:3]"
   ]
  },
  {
   "cell_type": "markdown",
   "metadata": {},
   "source": [
    "11. Delete the columns ``Tweet Lower`` and ``Tweet Clean`` from and add the new column ``Calculated Sentiment``\n",
    "\n",
    "    Remove the columns we previously used (``Tweet Lower``, ``Tweet Clean``) and create a new one named ``Calculated Sentiment`` with the results of ``tweet_sentiment_results``."
   ]
  },
  {
   "cell_type": "code",
   "execution_count": 102,
   "metadata": {},
   "outputs": [],
   "source": [
    "df.drop(columns=['Tweet Lower', 'Tweet Clean'], inplace = True)\n",
    "df['Calculated Sentiment'] = tweet_sentiment_results"
   ]
  },
  {
   "cell_type": "markdown",
   "metadata": {},
   "source": [
    "12. How many tweets were incorrectly classified?\n",
    "\n",
    "    Assuming the column ``Sentiment`` had the correct sentiment, how many did we classified erroneously in our ``Calculated Sentiment`` column?"
   ]
  },
  {
   "cell_type": "code",
   "execution_count": 104,
   "metadata": {},
   "outputs": [
    {
     "data": {
      "text/html": [
       "<div>\n",
       "<style scoped>\n",
       "    .dataframe tbody tr th:only-of-type {\n",
       "        vertical-align: middle;\n",
       "    }\n",
       "\n",
       "    .dataframe tbody tr th {\n",
       "        vertical-align: top;\n",
       "    }\n",
       "\n",
       "    .dataframe thead th {\n",
       "        text-align: right;\n",
       "    }\n",
       "</style>\n",
       "<table border=\"1\" class=\"dataframe\">\n",
       "  <thead>\n",
       "    <tr style=\"text-align: right;\">\n",
       "      <th></th>\n",
       "      <th>Tweet</th>\n",
       "      <th>Sentiment</th>\n",
       "      <th>Calculated Sentiment</th>\n",
       "    </tr>\n",
       "  </thead>\n",
       "  <tbody>\n",
       "    <tr>\n",
       "      <th>4</th>\n",
       "      <td>If the BBC cares so much about human rights, h...</td>\n",
       "      <td>negative</td>\n",
       "      <td>neutral</td>\n",
       "    </tr>\n",
       "    <tr>\n",
       "      <th>6</th>\n",
       "      <td>Look like a only me and the Jamaican football ...</td>\n",
       "      <td>neutral</td>\n",
       "      <td>positive</td>\n",
       "    </tr>\n",
       "    <tr>\n",
       "      <th>7</th>\n",
       "      <td>Really? Football on a Monday morning at 9 and ...</td>\n",
       "      <td>negative</td>\n",
       "      <td>neutral</td>\n",
       "    </tr>\n",
       "    <tr>\n",
       "      <th>8</th>\n",
       "      <td>As the World Cup starts in Qatar, it’s Black A...</td>\n",
       "      <td>positive</td>\n",
       "      <td>negative</td>\n",
       "    </tr>\n",
       "    <tr>\n",
       "      <th>10</th>\n",
       "      <td>#Qatar tried to help its useless soccer team 5...</td>\n",
       "      <td>negative</td>\n",
       "      <td>positive</td>\n",
       "    </tr>\n",
       "    <tr>\n",
       "      <th>...</th>\n",
       "      <td>...</td>\n",
       "      <td>...</td>\n",
       "      <td>...</td>\n",
       "    </tr>\n",
       "    <tr>\n",
       "      <th>22514</th>\n",
       "      <td>#WorldCup2022 is starting tonight\\nAnd with th...</td>\n",
       "      <td>negative</td>\n",
       "      <td>positive</td>\n",
       "    </tr>\n",
       "    <tr>\n",
       "      <th>22517</th>\n",
       "      <td>The World Cup starts TODAY!\\n\\n#Qatar2022 #Foo...</td>\n",
       "      <td>positive</td>\n",
       "      <td>neutral</td>\n",
       "    </tr>\n",
       "    <tr>\n",
       "      <th>22519</th>\n",
       "      <td>Here We go World cup 2022 #WorldCup2022</td>\n",
       "      <td>positive</td>\n",
       "      <td>neutral</td>\n",
       "    </tr>\n",
       "    <tr>\n",
       "      <th>22520</th>\n",
       "      <td>Anderlecht confirms former Viborg FF's Jesper ...</td>\n",
       "      <td>neutral</td>\n",
       "      <td>positive</td>\n",
       "    </tr>\n",
       "    <tr>\n",
       "      <th>22523</th>\n",
       "      <td>How to buy $SOT on PinkSale?🤔\\n\\nHave you been...</td>\n",
       "      <td>neutral</td>\n",
       "      <td>negative</td>\n",
       "    </tr>\n",
       "  </tbody>\n",
       "</table>\n",
       "<p>9508 rows × 3 columns</p>\n",
       "</div>"
      ],
      "text/plain": [
       "                                                   Tweet Sentiment  \\\n",
       "4      If the BBC cares so much about human rights, h...  negative   \n",
       "6      Look like a only me and the Jamaican football ...   neutral   \n",
       "7      Really? Football on a Monday morning at 9 and ...  negative   \n",
       "8      As the World Cup starts in Qatar, it’s Black A...  positive   \n",
       "10     #Qatar tried to help its useless soccer team 5...  negative   \n",
       "...                                                  ...       ...   \n",
       "22514  #WorldCup2022 is starting tonight\\nAnd with th...  negative   \n",
       "22517  The World Cup starts TODAY!\\n\\n#Qatar2022 #Foo...  positive   \n",
       "22519            Here We go World cup 2022 #WorldCup2022  positive   \n",
       "22520  Anderlecht confirms former Viborg FF's Jesper ...   neutral   \n",
       "22523  How to buy $SOT on PinkSale?🤔\\n\\nHave you been...   neutral   \n",
       "\n",
       "      Calculated Sentiment  \n",
       "4                  neutral  \n",
       "6                 positive  \n",
       "7                  neutral  \n",
       "8                 negative  \n",
       "10                positive  \n",
       "...                    ...  \n",
       "22514             positive  \n",
       "22517              neutral  \n",
       "22519              neutral  \n",
       "22520             positive  \n",
       "22523             negative  \n",
       "\n",
       "[9508 rows x 3 columns]"
      ]
     },
     "execution_count": 104,
     "metadata": {},
     "output_type": "execute_result"
    }
   ],
   "source": [
    "df[df['Sentiment'] != df['Calculated Sentiment']]"
   ]
  },
  {
   "cell_type": "markdown",
   "metadata": {},
   "source": [
    "13. How many Negative tweets were incorrectly classified (either as ``Neutral`` or ``Positive``)?"
   ]
  },
  {
   "cell_type": "code",
   "execution_count": 105,
   "metadata": {},
   "outputs": [
    {
     "data": {
      "text/html": [
       "<div>\n",
       "<style scoped>\n",
       "    .dataframe tbody tr th:only-of-type {\n",
       "        vertical-align: middle;\n",
       "    }\n",
       "\n",
       "    .dataframe tbody tr th {\n",
       "        vertical-align: top;\n",
       "    }\n",
       "\n",
       "    .dataframe thead th {\n",
       "        text-align: right;\n",
       "    }\n",
       "</style>\n",
       "<table border=\"1\" class=\"dataframe\">\n",
       "  <thead>\n",
       "    <tr style=\"text-align: right;\">\n",
       "      <th></th>\n",
       "      <th>Tweet</th>\n",
       "      <th>Sentiment</th>\n",
       "      <th>Calculated Sentiment</th>\n",
       "    </tr>\n",
       "  </thead>\n",
       "  <tbody>\n",
       "    <tr>\n",
       "      <th>4</th>\n",
       "      <td>If the BBC cares so much about human rights, h...</td>\n",
       "      <td>negative</td>\n",
       "      <td>neutral</td>\n",
       "    </tr>\n",
       "    <tr>\n",
       "      <th>7</th>\n",
       "      <td>Really? Football on a Monday morning at 9 and ...</td>\n",
       "      <td>negative</td>\n",
       "      <td>neutral</td>\n",
       "    </tr>\n",
       "    <tr>\n",
       "      <th>10</th>\n",
       "      <td>#Qatar tried to help its useless soccer team 5...</td>\n",
       "      <td>negative</td>\n",
       "      <td>positive</td>\n",
       "    </tr>\n",
       "    <tr>\n",
       "      <th>36</th>\n",
       "      <td>If the BBC cares so much about human rights, g...</td>\n",
       "      <td>negative</td>\n",
       "      <td>neutral</td>\n",
       "    </tr>\n",
       "    <tr>\n",
       "      <th>38</th>\n",
       "      <td>With your looks, you couldn't even get with a ...</td>\n",
       "      <td>negative</td>\n",
       "      <td>neutral</td>\n",
       "    </tr>\n",
       "    <tr>\n",
       "      <th>...</th>\n",
       "      <td>...</td>\n",
       "      <td>...</td>\n",
       "      <td>...</td>\n",
       "    </tr>\n",
       "    <tr>\n",
       "      <th>22448</th>\n",
       "      <td>If the Royal Family can pressure the Supreme C...</td>\n",
       "      <td>negative</td>\n",
       "      <td>positive</td>\n",
       "    </tr>\n",
       "    <tr>\n",
       "      <th>22449</th>\n",
       "      <td>I can’t believe the World Cup starts tomorrow....</td>\n",
       "      <td>negative</td>\n",
       "      <td>neutral</td>\n",
       "    </tr>\n",
       "    <tr>\n",
       "      <th>22455</th>\n",
       "      <td>The World Cup should have started today so the...</td>\n",
       "      <td>negative</td>\n",
       "      <td>neutral</td>\n",
       "    </tr>\n",
       "    <tr>\n",
       "      <th>22496</th>\n",
       "      <td>#Qatar doing to the #WorldCup2022 what @elonmu...</td>\n",
       "      <td>negative</td>\n",
       "      <td>positive</td>\n",
       "    </tr>\n",
       "    <tr>\n",
       "      <th>22514</th>\n",
       "      <td>#WorldCup2022 is starting tonight\\nAnd with th...</td>\n",
       "      <td>negative</td>\n",
       "      <td>positive</td>\n",
       "    </tr>\n",
       "  </tbody>\n",
       "</table>\n",
       "<p>3026 rows × 3 columns</p>\n",
       "</div>"
      ],
      "text/plain": [
       "                                                   Tweet Sentiment  \\\n",
       "4      If the BBC cares so much about human rights, h...  negative   \n",
       "7      Really? Football on a Monday morning at 9 and ...  negative   \n",
       "10     #Qatar tried to help its useless soccer team 5...  negative   \n",
       "36     If the BBC cares so much about human rights, g...  negative   \n",
       "38     With your looks, you couldn't even get with a ...  negative   \n",
       "...                                                  ...       ...   \n",
       "22448  If the Royal Family can pressure the Supreme C...  negative   \n",
       "22449  I can’t believe the World Cup starts tomorrow....  negative   \n",
       "22455  The World Cup should have started today so the...  negative   \n",
       "22496  #Qatar doing to the #WorldCup2022 what @elonmu...  negative   \n",
       "22514  #WorldCup2022 is starting tonight\\nAnd with th...  negative   \n",
       "\n",
       "      Calculated Sentiment  \n",
       "4                  neutral  \n",
       "7                  neutral  \n",
       "10                positive  \n",
       "36                 neutral  \n",
       "38                 neutral  \n",
       "...                    ...  \n",
       "22448             positive  \n",
       "22449              neutral  \n",
       "22455              neutral  \n",
       "22496             positive  \n",
       "22514             positive  \n",
       "\n",
       "[3026 rows x 3 columns]"
      ]
     },
     "execution_count": 105,
     "metadata": {},
     "output_type": "execute_result"
    }
   ],
   "source": [
    "df[(df['Sentiment'] == 'negative') & (df['Sentiment'] != df['Calculated Sentiment'])]"
   ]
  },
  {
   "cell_type": "markdown",
   "metadata": {},
   "source": [
    "# Practicing identifyin and dealing with invalid values"
   ]
  },
  {
   "cell_type": "markdown",
   "metadata": {},
   "source": [
    "In this project, we will be working with a Human Resources dataset containing information about employees from a fictional company. The dataset includes details such as employee ID, date of birth, gender, marital status, job title, department, salary, performance score, and other columns.\n",
    "\n",
    "Invalid or missing values are common issues that can arise in datasets like these, and it's important to be able to identify and clean these invalid values to avoid biased or inaccurate analyses. In this lab, we will be focusing on cleaning invalid values in selected columns using different methods in pandas.\n",
    "\n",
    "We will start by exploring the dataset and identifying any invalid or missing values in the selected columns using different methods to clean the data, based on the data type. We will focus on 4 different types: - Invalid numeric column - Invalid categories - Invalid datetimes - Invalid patterns in strings\n",
    "\n",
    "By the end of this lab, you should feel comfortable using pandas to clean invalid values in a dataset, and have a better understanding of how to use different methods and techniques to achieve the desired outcome. The lab includes basic activities and advanced activities, focusing on different aspects of cleaning invalid values in the Human Resources dataset."
   ]
  },
  {
   "cell_type": "code",
   "execution_count": 1,
   "metadata": {},
   "outputs": [],
   "source": [
    "import pandas as pd"
   ]
  },
  {
   "cell_type": "code",
   "execution_count": 2,
   "metadata": {},
   "outputs": [],
   "source": [
    "df = pd.read_csv('files/HRDataset.csv')"
   ]
  },
  {
   "cell_type": "code",
   "execution_count": 3,
   "metadata": {},
   "outputs": [
    {
     "data": {
      "text/html": [
       "<div>\n",
       "<style scoped>\n",
       "    .dataframe tbody tr th:only-of-type {\n",
       "        vertical-align: middle;\n",
       "    }\n",
       "\n",
       "    .dataframe tbody tr th {\n",
       "        vertical-align: top;\n",
       "    }\n",
       "\n",
       "    .dataframe thead th {\n",
       "        text-align: right;\n",
       "    }\n",
       "</style>\n",
       "<table border=\"1\" class=\"dataframe\">\n",
       "  <thead>\n",
       "    <tr style=\"text-align: right;\">\n",
       "      <th></th>\n",
       "      <th>Employee_Name</th>\n",
       "      <th>EmpID</th>\n",
       "      <th>DeptID</th>\n",
       "      <th>Salary</th>\n",
       "      <th>PositionID</th>\n",
       "      <th>Position</th>\n",
       "      <th>State</th>\n",
       "      <th>Zip</th>\n",
       "      <th>DOB</th>\n",
       "      <th>Sex</th>\n",
       "      <th>...</th>\n",
       "      <th>RecruitmentSource</th>\n",
       "      <th>PerformanceScore</th>\n",
       "      <th>EngagementSurvey</th>\n",
       "      <th>EmpSatisfaction</th>\n",
       "      <th>SpecialProjectsCount</th>\n",
       "      <th>LastPerformanceReview_Date</th>\n",
       "      <th>DaysLateLast30</th>\n",
       "      <th>Absences</th>\n",
       "      <th>Email</th>\n",
       "      <th>Phone</th>\n",
       "    </tr>\n",
       "  </thead>\n",
       "  <tbody>\n",
       "    <tr>\n",
       "      <th>0</th>\n",
       "      <td>Adinolfi, Wilson  K</td>\n",
       "      <td>10026</td>\n",
       "      <td>5</td>\n",
       "      <td>62506</td>\n",
       "      <td>19</td>\n",
       "      <td>Production Technician I</td>\n",
       "      <td>MA</td>\n",
       "      <td>1960</td>\n",
       "      <td>07/10/83</td>\n",
       "      <td>M</td>\n",
       "      <td>...</td>\n",
       "      <td>LinkedIn</td>\n",
       "      <td>Exceeds</td>\n",
       "      <td>4.60</td>\n",
       "      <td>5</td>\n",
       "      <td>0</td>\n",
       "      <td>1/17/2019</td>\n",
       "      <td>0</td>\n",
       "      <td>1</td>\n",
       "      <td>Adinolfi@company.com</td>\n",
       "      <td>+62 199-807-6651</td>\n",
       "    </tr>\n",
       "    <tr>\n",
       "      <th>1</th>\n",
       "      <td>Ait Sidi, Karthikeyan</td>\n",
       "      <td>10084</td>\n",
       "      <td>3</td>\n",
       "      <td>104437</td>\n",
       "      <td>27</td>\n",
       "      <td>Sr. DBA</td>\n",
       "      <td>MA</td>\n",
       "      <td>2148</td>\n",
       "      <td>05/05/75</td>\n",
       "      <td>M</td>\n",
       "      <td>...</td>\n",
       "      <td>Indeed</td>\n",
       "      <td>Fully Meets</td>\n",
       "      <td>4.96</td>\n",
       "      <td>3</td>\n",
       "      <td>6</td>\n",
       "      <td>2/24/2016</td>\n",
       "      <td>0</td>\n",
       "      <td>17</td>\n",
       "      <td>Ait Sidi@company.com</td>\n",
       "      <td>+358 128-157-9500</td>\n",
       "    </tr>\n",
       "    <tr>\n",
       "      <th>2</th>\n",
       "      <td>Akinkuolie, Sarah</td>\n",
       "      <td>10196</td>\n",
       "      <td>5</td>\n",
       "      <td>64955</td>\n",
       "      <td>20</td>\n",
       "      <td>Production Technician II</td>\n",
       "      <td>MA</td>\n",
       "      <td>1810</td>\n",
       "      <td>09/19/88</td>\n",
       "      <td>F</td>\n",
       "      <td>...</td>\n",
       "      <td>LinkedIn</td>\n",
       "      <td>Fully Meets</td>\n",
       "      <td>3.02</td>\n",
       "      <td>3</td>\n",
       "      <td>0</td>\n",
       "      <td>5/15/2012</td>\n",
       "      <td>0</td>\n",
       "      <td>3</td>\n",
       "      <td>Akinkuolie@company.com</td>\n",
       "      <td>+474 737-382-6683</td>\n",
       "    </tr>\n",
       "    <tr>\n",
       "      <th>3</th>\n",
       "      <td>Alagbe,Trina</td>\n",
       "      <td>10088</td>\n",
       "      <td>5</td>\n",
       "      <td>64991</td>\n",
       "      <td>19</td>\n",
       "      <td>Production Technician I</td>\n",
       "      <td>MA</td>\n",
       "      <td>1886</td>\n",
       "      <td>09/27/88</td>\n",
       "      <td>F</td>\n",
       "      <td>...</td>\n",
       "      <td>Indeed</td>\n",
       "      <td>Fully Meets</td>\n",
       "      <td>4.84</td>\n",
       "      <td>5</td>\n",
       "      <td>0</td>\n",
       "      <td>1/3/2019</td>\n",
       "      <td>0</td>\n",
       "      <td>15</td>\n",
       "      <td>Alagbe@company.com</td>\n",
       "      <td>+806 538-458-2517</td>\n",
       "    </tr>\n",
       "    <tr>\n",
       "      <th>4</th>\n",
       "      <td>Anderson, Carol</td>\n",
       "      <td>10069</td>\n",
       "      <td>5</td>\n",
       "      <td>50825</td>\n",
       "      <td>19</td>\n",
       "      <td>Production Technician I</td>\n",
       "      <td>MA</td>\n",
       "      <td>2169</td>\n",
       "      <td>09/08/89</td>\n",
       "      <td>F</td>\n",
       "      <td>...</td>\n",
       "      <td>Google Search</td>\n",
       "      <td>Fully Meets</td>\n",
       "      <td>5.00</td>\n",
       "      <td>4</td>\n",
       "      <td>0</td>\n",
       "      <td>2/1/2016</td>\n",
       "      <td>0</td>\n",
       "      <td>2</td>\n",
       "      <td>Anderson@company.com</td>\n",
       "      <td>+148 658-824-9500</td>\n",
       "    </tr>\n",
       "  </tbody>\n",
       "</table>\n",
       "<p>5 rows × 31 columns</p>\n",
       "</div>"
      ],
      "text/plain": [
       "              Employee_Name  EmpID  DeptID  Salary  PositionID  \\\n",
       "0       Adinolfi, Wilson  K  10026       5   62506          19   \n",
       "1  Ait Sidi, Karthikeyan     10084       3  104437          27   \n",
       "2         Akinkuolie, Sarah  10196       5   64955          20   \n",
       "3              Alagbe,Trina  10088       5   64991          19   \n",
       "4          Anderson, Carol   10069       5   50825          19   \n",
       "\n",
       "                   Position State   Zip       DOB Sex  ... RecruitmentSource  \\\n",
       "0   Production Technician I    MA  1960  07/10/83   M  ...          LinkedIn   \n",
       "1                   Sr. DBA    MA  2148  05/05/75   M  ...            Indeed   \n",
       "2  Production Technician II    MA  1810  09/19/88   F  ...          LinkedIn   \n",
       "3   Production Technician I    MA  1886  09/27/88   F  ...            Indeed   \n",
       "4   Production Technician I    MA  2169  09/08/89   F  ...     Google Search   \n",
       "\n",
       "  PerformanceScore EngagementSurvey EmpSatisfaction SpecialProjectsCount  \\\n",
       "0          Exceeds             4.60               5                    0   \n",
       "1      Fully Meets             4.96               3                    6   \n",
       "2      Fully Meets             3.02               3                    0   \n",
       "3      Fully Meets             4.84               5                    0   \n",
       "4      Fully Meets             5.00               4                    0   \n",
       "\n",
       "  LastPerformanceReview_Date DaysLateLast30 Absences                   Email  \\\n",
       "0                  1/17/2019              0        1    Adinolfi@company.com   \n",
       "1                  2/24/2016              0       17    Ait Sidi@company.com   \n",
       "2                  5/15/2012              0        3  Akinkuolie@company.com   \n",
       "3                   1/3/2019              0       15      Alagbe@company.com   \n",
       "4                   2/1/2016              0        2    Anderson@company.com   \n",
       "\n",
       "               Phone  \n",
       "0   +62 199-807-6651  \n",
       "1  +358 128-157-9500  \n",
       "2  +474 737-382-6683  \n",
       "3  +806 538-458-2517  \n",
       "4  +148 658-824-9500  \n",
       "\n",
       "[5 rows x 31 columns]"
      ]
     },
     "execution_count": 3,
     "metadata": {},
     "output_type": "execute_result"
    }
   ],
   "source": [
    "df.head()"
   ]
  },
  {
   "cell_type": "code",
   "execution_count": 4,
   "metadata": {},
   "outputs": [
    {
     "data": {
      "text/html": [
       "<div>\n",
       "<style scoped>\n",
       "    .dataframe tbody tr th:only-of-type {\n",
       "        vertical-align: middle;\n",
       "    }\n",
       "\n",
       "    .dataframe tbody tr th {\n",
       "        vertical-align: top;\n",
       "    }\n",
       "\n",
       "    .dataframe thead th {\n",
       "        text-align: right;\n",
       "    }\n",
       "</style>\n",
       "<table border=\"1\" class=\"dataframe\">\n",
       "  <thead>\n",
       "    <tr style=\"text-align: right;\">\n",
       "      <th></th>\n",
       "      <th>0</th>\n",
       "      <th>1</th>\n",
       "      <th>2</th>\n",
       "      <th>3</th>\n",
       "      <th>4</th>\n",
       "    </tr>\n",
       "  </thead>\n",
       "  <tbody>\n",
       "    <tr>\n",
       "      <th>Employee_Name</th>\n",
       "      <td>Adinolfi, Wilson  K</td>\n",
       "      <td>Ait Sidi, Karthikeyan</td>\n",
       "      <td>Akinkuolie, Sarah</td>\n",
       "      <td>Alagbe,Trina</td>\n",
       "      <td>Anderson, Carol</td>\n",
       "    </tr>\n",
       "    <tr>\n",
       "      <th>EmpID</th>\n",
       "      <td>10026</td>\n",
       "      <td>10084</td>\n",
       "      <td>10196</td>\n",
       "      <td>10088</td>\n",
       "      <td>10069</td>\n",
       "    </tr>\n",
       "    <tr>\n",
       "      <th>DeptID</th>\n",
       "      <td>5</td>\n",
       "      <td>3</td>\n",
       "      <td>5</td>\n",
       "      <td>5</td>\n",
       "      <td>5</td>\n",
       "    </tr>\n",
       "    <tr>\n",
       "      <th>Salary</th>\n",
       "      <td>62506</td>\n",
       "      <td>104437</td>\n",
       "      <td>64955</td>\n",
       "      <td>64991</td>\n",
       "      <td>50825</td>\n",
       "    </tr>\n",
       "    <tr>\n",
       "      <th>PositionID</th>\n",
       "      <td>19</td>\n",
       "      <td>27</td>\n",
       "      <td>20</td>\n",
       "      <td>19</td>\n",
       "      <td>19</td>\n",
       "    </tr>\n",
       "    <tr>\n",
       "      <th>Position</th>\n",
       "      <td>Production Technician I</td>\n",
       "      <td>Sr. DBA</td>\n",
       "      <td>Production Technician II</td>\n",
       "      <td>Production Technician I</td>\n",
       "      <td>Production Technician I</td>\n",
       "    </tr>\n",
       "    <tr>\n",
       "      <th>State</th>\n",
       "      <td>MA</td>\n",
       "      <td>MA</td>\n",
       "      <td>MA</td>\n",
       "      <td>MA</td>\n",
       "      <td>MA</td>\n",
       "    </tr>\n",
       "    <tr>\n",
       "      <th>Zip</th>\n",
       "      <td>1960</td>\n",
       "      <td>2148</td>\n",
       "      <td>1810</td>\n",
       "      <td>1886</td>\n",
       "      <td>2169</td>\n",
       "    </tr>\n",
       "    <tr>\n",
       "      <th>DOB</th>\n",
       "      <td>07/10/83</td>\n",
       "      <td>05/05/75</td>\n",
       "      <td>09/19/88</td>\n",
       "      <td>09/27/88</td>\n",
       "      <td>09/08/89</td>\n",
       "    </tr>\n",
       "    <tr>\n",
       "      <th>Sex</th>\n",
       "      <td>M</td>\n",
       "      <td>M</td>\n",
       "      <td>F</td>\n",
       "      <td>F</td>\n",
       "      <td>F</td>\n",
       "    </tr>\n",
       "    <tr>\n",
       "      <th>MaritalDesc</th>\n",
       "      <td>Single</td>\n",
       "      <td>Married</td>\n",
       "      <td>Married</td>\n",
       "      <td>Married</td>\n",
       "      <td>Divorced</td>\n",
       "    </tr>\n",
       "    <tr>\n",
       "      <th>CitizenDesc</th>\n",
       "      <td>US Citizen</td>\n",
       "      <td>US Citizen</td>\n",
       "      <td>US Citizen</td>\n",
       "      <td>US Citizen</td>\n",
       "      <td>US Citizen</td>\n",
       "    </tr>\n",
       "    <tr>\n",
       "      <th>HispanicLatino</th>\n",
       "      <td>No</td>\n",
       "      <td>No</td>\n",
       "      <td>No</td>\n",
       "      <td>No</td>\n",
       "      <td>No</td>\n",
       "    </tr>\n",
       "    <tr>\n",
       "      <th>RaceDesc</th>\n",
       "      <td>White</td>\n",
       "      <td>White</td>\n",
       "      <td>White</td>\n",
       "      <td>White</td>\n",
       "      <td>White</td>\n",
       "    </tr>\n",
       "    <tr>\n",
       "      <th>DateofHire</th>\n",
       "      <td>7/5/2011</td>\n",
       "      <td>3/30/2015</td>\n",
       "      <td>7/5/2011</td>\n",
       "      <td>1/7/2008</td>\n",
       "      <td>7/11/2011</td>\n",
       "    </tr>\n",
       "    <tr>\n",
       "      <th>DateofTermination</th>\n",
       "      <td>NaN</td>\n",
       "      <td>6/16/2016</td>\n",
       "      <td>9/24/2012</td>\n",
       "      <td>NaN</td>\n",
       "      <td>9/6/2016</td>\n",
       "    </tr>\n",
       "    <tr>\n",
       "      <th>TermReason</th>\n",
       "      <td>N/A-StillEmployed</td>\n",
       "      <td>career change</td>\n",
       "      <td>hours</td>\n",
       "      <td>N/A-StillEmployed</td>\n",
       "      <td>return to school</td>\n",
       "    </tr>\n",
       "    <tr>\n",
       "      <th>EmploymentStatus</th>\n",
       "      <td>Active</td>\n",
       "      <td>Voluntarily Terminated</td>\n",
       "      <td>Voluntarily Terminated</td>\n",
       "      <td>Active</td>\n",
       "      <td>Voluntarily Terminated</td>\n",
       "    </tr>\n",
       "    <tr>\n",
       "      <th>Department</th>\n",
       "      <td>Production</td>\n",
       "      <td>IT/IS</td>\n",
       "      <td>Production</td>\n",
       "      <td>Production</td>\n",
       "      <td>Production</td>\n",
       "    </tr>\n",
       "    <tr>\n",
       "      <th>ManagerName</th>\n",
       "      <td>Michael Albert</td>\n",
       "      <td>Simon Roup</td>\n",
       "      <td>Kissy Sullivan</td>\n",
       "      <td>Elijiah Gray</td>\n",
       "      <td>Webster Butler</td>\n",
       "    </tr>\n",
       "    <tr>\n",
       "      <th>ManagerID</th>\n",
       "      <td>22.0</td>\n",
       "      <td>4.0</td>\n",
       "      <td>20.0</td>\n",
       "      <td>16.0</td>\n",
       "      <td>No</td>\n",
       "    </tr>\n",
       "    <tr>\n",
       "      <th>RecruitmentSource</th>\n",
       "      <td>LinkedIn</td>\n",
       "      <td>Indeed</td>\n",
       "      <td>LinkedIn</td>\n",
       "      <td>Indeed</td>\n",
       "      <td>Google Search</td>\n",
       "    </tr>\n",
       "    <tr>\n",
       "      <th>PerformanceScore</th>\n",
       "      <td>Exceeds</td>\n",
       "      <td>Fully Meets</td>\n",
       "      <td>Fully Meets</td>\n",
       "      <td>Fully Meets</td>\n",
       "      <td>Fully Meets</td>\n",
       "    </tr>\n",
       "    <tr>\n",
       "      <th>EngagementSurvey</th>\n",
       "      <td>4.6</td>\n",
       "      <td>4.96</td>\n",
       "      <td>3.02</td>\n",
       "      <td>4.84</td>\n",
       "      <td>5.0</td>\n",
       "    </tr>\n",
       "    <tr>\n",
       "      <th>EmpSatisfaction</th>\n",
       "      <td>5</td>\n",
       "      <td>3</td>\n",
       "      <td>3</td>\n",
       "      <td>5</td>\n",
       "      <td>4</td>\n",
       "    </tr>\n",
       "    <tr>\n",
       "      <th>SpecialProjectsCount</th>\n",
       "      <td>0</td>\n",
       "      <td>6</td>\n",
       "      <td>0</td>\n",
       "      <td>0</td>\n",
       "      <td>0</td>\n",
       "    </tr>\n",
       "    <tr>\n",
       "      <th>LastPerformanceReview_Date</th>\n",
       "      <td>1/17/2019</td>\n",
       "      <td>2/24/2016</td>\n",
       "      <td>5/15/2012</td>\n",
       "      <td>1/3/2019</td>\n",
       "      <td>2/1/2016</td>\n",
       "    </tr>\n",
       "    <tr>\n",
       "      <th>DaysLateLast30</th>\n",
       "      <td>0</td>\n",
       "      <td>0</td>\n",
       "      <td>0</td>\n",
       "      <td>0</td>\n",
       "      <td>0</td>\n",
       "    </tr>\n",
       "    <tr>\n",
       "      <th>Absences</th>\n",
       "      <td>1</td>\n",
       "      <td>17</td>\n",
       "      <td>3</td>\n",
       "      <td>15</td>\n",
       "      <td>2</td>\n",
       "    </tr>\n",
       "    <tr>\n",
       "      <th>Email</th>\n",
       "      <td>Adinolfi@company.com</td>\n",
       "      <td>Ait Sidi@company.com</td>\n",
       "      <td>Akinkuolie@company.com</td>\n",
       "      <td>Alagbe@company.com</td>\n",
       "      <td>Anderson@company.com</td>\n",
       "    </tr>\n",
       "    <tr>\n",
       "      <th>Phone</th>\n",
       "      <td>+62 199-807-6651</td>\n",
       "      <td>+358 128-157-9500</td>\n",
       "      <td>+474 737-382-6683</td>\n",
       "      <td>+806 538-458-2517</td>\n",
       "      <td>+148 658-824-9500</td>\n",
       "    </tr>\n",
       "  </tbody>\n",
       "</table>\n",
       "</div>"
      ],
      "text/plain": [
       "                                                  0                         1  \\\n",
       "Employee_Name                   Adinolfi, Wilson  K  Ait Sidi, Karthikeyan      \n",
       "EmpID                                         10026                     10084   \n",
       "DeptID                                            5                         3   \n",
       "Salary                                        62506                    104437   \n",
       "PositionID                                       19                        27   \n",
       "Position                    Production Technician I                   Sr. DBA   \n",
       "State                                            MA                        MA   \n",
       "Zip                                            1960                      2148   \n",
       "DOB                                        07/10/83                  05/05/75   \n",
       "Sex                                               M                         M   \n",
       "MaritalDesc                                  Single                   Married   \n",
       "CitizenDesc                              US Citizen                US Citizen   \n",
       "HispanicLatino                                   No                        No   \n",
       "RaceDesc                                      White                     White   \n",
       "DateofHire                                 7/5/2011                 3/30/2015   \n",
       "DateofTermination                               NaN                 6/16/2016   \n",
       "TermReason                        N/A-StillEmployed             career change   \n",
       "EmploymentStatus                             Active    Voluntarily Terminated   \n",
       "Department                        Production                            IT/IS   \n",
       "ManagerName                          Michael Albert                Simon Roup   \n",
       "ManagerID                                      22.0                       4.0   \n",
       "RecruitmentSource                          LinkedIn                    Indeed   \n",
       "PerformanceScore                            Exceeds               Fully Meets   \n",
       "EngagementSurvey                                4.6                      4.96   \n",
       "EmpSatisfaction                                   5                         3   \n",
       "SpecialProjectsCount                              0                         6   \n",
       "LastPerformanceReview_Date                1/17/2019                 2/24/2016   \n",
       "DaysLateLast30                                    0                         0   \n",
       "Absences                                          1                        17   \n",
       "Email                          Adinolfi@company.com      Ait Sidi@company.com   \n",
       "Phone                              +62 199-807-6651         +358 128-157-9500   \n",
       "\n",
       "                                                   2                        3  \\\n",
       "Employee_Name                      Akinkuolie, Sarah             Alagbe,Trina   \n",
       "EmpID                                          10196                    10088   \n",
       "DeptID                                             5                        5   \n",
       "Salary                                         64955                    64991   \n",
       "PositionID                                        20                       19   \n",
       "Position                    Production Technician II  Production Technician I   \n",
       "State                                             MA                       MA   \n",
       "Zip                                             1810                     1886   \n",
       "DOB                                         09/19/88                 09/27/88   \n",
       "Sex                                                F                        F   \n",
       "MaritalDesc                                  Married                  Married   \n",
       "CitizenDesc                               US Citizen               US Citizen   \n",
       "HispanicLatino                                    No                       No   \n",
       "RaceDesc                                       White                    White   \n",
       "DateofHire                                  7/5/2011                 1/7/2008   \n",
       "DateofTermination                          9/24/2012                      NaN   \n",
       "TermReason                                     hours        N/A-StillEmployed   \n",
       "EmploymentStatus              Voluntarily Terminated                   Active   \n",
       "Department                         Production               Production          \n",
       "ManagerName                           Kissy Sullivan             Elijiah Gray   \n",
       "ManagerID                                       20.0                     16.0   \n",
       "RecruitmentSource                           LinkedIn                   Indeed   \n",
       "PerformanceScore                         Fully Meets              Fully Meets   \n",
       "EngagementSurvey                                3.02                     4.84   \n",
       "EmpSatisfaction                                    3                        5   \n",
       "SpecialProjectsCount                               0                        0   \n",
       "LastPerformanceReview_Date                 5/15/2012                 1/3/2019   \n",
       "DaysLateLast30                                     0                        0   \n",
       "Absences                                           3                       15   \n",
       "Email                         Akinkuolie@company.com       Alagbe@company.com   \n",
       "Phone                              +474 737-382-6683        +806 538-458-2517   \n",
       "\n",
       "                                                  4  \n",
       "Employee_Name                      Anderson, Carol   \n",
       "EmpID                                         10069  \n",
       "DeptID                                            5  \n",
       "Salary                                        50825  \n",
       "PositionID                                       19  \n",
       "Position                    Production Technician I  \n",
       "State                                            MA  \n",
       "Zip                                            2169  \n",
       "DOB                                        09/08/89  \n",
       "Sex                                               F  \n",
       "MaritalDesc                                Divorced  \n",
       "CitizenDesc                              US Citizen  \n",
       "HispanicLatino                                   No  \n",
       "RaceDesc                                      White  \n",
       "DateofHire                                7/11/2011  \n",
       "DateofTermination                          9/6/2016  \n",
       "TermReason                         return to school  \n",
       "EmploymentStatus             Voluntarily Terminated  \n",
       "Department                        Production         \n",
       "ManagerName                          Webster Butler  \n",
       "ManagerID                                        No  \n",
       "RecruitmentSource                     Google Search  \n",
       "PerformanceScore                        Fully Meets  \n",
       "EngagementSurvey                                5.0  \n",
       "EmpSatisfaction                                   4  \n",
       "SpecialProjectsCount                              0  \n",
       "LastPerformanceReview_Date                 2/1/2016  \n",
       "DaysLateLast30                                    0  \n",
       "Absences                                          2  \n",
       "Email                          Anderson@company.com  \n",
       "Phone                             +148 658-824-9500  "
      ]
     },
     "execution_count": 4,
     "metadata": {},
     "output_type": "execute_result"
    }
   ],
   "source": [
    "df.head().T"
   ]
  },
  {
   "cell_type": "markdown",
   "metadata": {},
   "source": [
    "## Discovering the dataset"
   ]
  },
  {
   "cell_type": "code",
   "execution_count": 5,
   "metadata": {},
   "outputs": [
    {
     "name": "stdout",
     "output_type": "stream",
     "text": [
      "dataset size:  9641\n",
      "number of employees:  311\n",
      "number of features:  31\n"
     ]
    }
   ],
   "source": [
    "#show the number of cells in the dataframe\n",
    "print(\"dataset size: \", df.size)\n",
    "\n",
    "#show the number of records (rows) in the dataframe\n",
    "print(\"number of employees: \", len(df))\n",
    "\n",
    "#show the number of features (columns) in the dataframe\n",
    "print(\"number of features: \", len(df.columns)) "
   ]
  },
  {
   "cell_type": "markdown",
   "metadata": {},
   "source": [
    "1. Clean the column Salary by removing invalid values\n",
    "\n",
    "    Invalid values are defined as any value that is not an integer.\n",
    "\n",
    "    Perform the selection of valid values and store them in column ``Salary_Fixed`` while invalid values should be ``NaN``. Then select invalid values and store the results in the variable ``df_invalid_salaries``."
   ]
  },
  {
   "cell_type": "code",
   "execution_count": 6,
   "metadata": {},
   "outputs": [],
   "source": [
    "df['Salary_Fixed'] = df[df['Salary'].str.isnumeric()]['Salary']"
   ]
  },
  {
   "cell_type": "code",
   "execution_count": 7,
   "metadata": {},
   "outputs": [],
   "source": [
    "df_invalid_salaries = df.loc[df['Salary_Fixed'].isna(), ['Salary']]"
   ]
  },
  {
   "cell_type": "code",
   "execution_count": 8,
   "metadata": {},
   "outputs": [
    {
     "data": {
      "text/html": [
       "<div>\n",
       "<style scoped>\n",
       "    .dataframe tbody tr th:only-of-type {\n",
       "        vertical-align: middle;\n",
       "    }\n",
       "\n",
       "    .dataframe tbody tr th {\n",
       "        vertical-align: top;\n",
       "    }\n",
       "\n",
       "    .dataframe thead th {\n",
       "        text-align: right;\n",
       "    }\n",
       "</style>\n",
       "<table border=\"1\" class=\"dataframe\">\n",
       "  <thead>\n",
       "    <tr style=\"text-align: right;\">\n",
       "      <th></th>\n",
       "      <th>Salary</th>\n",
       "    </tr>\n",
       "  </thead>\n",
       "  <tbody>\n",
       "    <tr>\n",
       "      <th>22</th>\n",
       "      <td>oFtFtkls</td>\n",
       "    </tr>\n",
       "    <tr>\n",
       "      <th>41</th>\n",
       "      <td>HEbELLmj</td>\n",
       "    </tr>\n",
       "    <tr>\n",
       "      <th>62</th>\n",
       "      <td>DMZIQhGz</td>\n",
       "    </tr>\n",
       "    <tr>\n",
       "      <th>71</th>\n",
       "      <td>XSfelyZh</td>\n",
       "    </tr>\n",
       "    <tr>\n",
       "      <th>117</th>\n",
       "      <td>RxhGvEBX</td>\n",
       "    </tr>\n",
       "    <tr>\n",
       "      <th>138</th>\n",
       "      <td>xqCStzCF</td>\n",
       "    </tr>\n",
       "    <tr>\n",
       "      <th>165</th>\n",
       "      <td>gHNxOVWk</td>\n",
       "    </tr>\n",
       "    <tr>\n",
       "      <th>216</th>\n",
       "      <td>WXrOyJEO</td>\n",
       "    </tr>\n",
       "    <tr>\n",
       "      <th>220</th>\n",
       "      <td>OAWNTcGQ</td>\n",
       "    </tr>\n",
       "    <tr>\n",
       "      <th>259</th>\n",
       "      <td>dvCsKwyl</td>\n",
       "    </tr>\n",
       "    <tr>\n",
       "      <th>291</th>\n",
       "      <td>ZGEoVKAo</td>\n",
       "    </tr>\n",
       "    <tr>\n",
       "      <th>304</th>\n",
       "      <td>KFpwkWHX</td>\n",
       "    </tr>\n",
       "  </tbody>\n",
       "</table>\n",
       "</div>"
      ],
      "text/plain": [
       "       Salary\n",
       "22   oFtFtkls\n",
       "41   HEbELLmj\n",
       "62   DMZIQhGz\n",
       "71   XSfelyZh\n",
       "117  RxhGvEBX\n",
       "138  xqCStzCF\n",
       "165  gHNxOVWk\n",
       "216  WXrOyJEO\n",
       "220  OAWNTcGQ\n",
       "259  dvCsKwyl\n",
       "291  ZGEoVKAo\n",
       "304  KFpwkWHX"
      ]
     },
     "execution_count": 8,
     "metadata": {},
     "output_type": "execute_result"
    }
   ],
   "source": [
    "df_invalid_salaries"
   ]
  },
  {
   "cell_type": "markdown",
   "metadata": {},
   "source": [
    "2. Clean the column ``Zip`` by removing invalid values\n",
    "\n",
    "    Invalid values are defined as any value that is not an integer.\n",
    "\n",
    "    Perform the selection of valid values and store them in column ``Zip_Fixed`` while invalid values should be ``NaN``. Then select invalid values and store the results in the variable ``df_invalid_zip``."
   ]
  },
  {
   "cell_type": "code",
   "execution_count": 9,
   "metadata": {},
   "outputs": [
    {
     "name": "stdout",
     "output_type": "stream",
     "text": [
      "<class 'pandas.core.frame.DataFrame'>\n",
      "RangeIndex: 311 entries, 0 to 310\n",
      "Data columns (total 32 columns):\n",
      " #   Column                      Non-Null Count  Dtype  \n",
      "---  ------                      --------------  -----  \n",
      " 0   Employee_Name               311 non-null    object \n",
      " 1   EmpID                       311 non-null    int64  \n",
      " 2   DeptID                      311 non-null    int64  \n",
      " 3   Salary                      311 non-null    object \n",
      " 4   PositionID                  311 non-null    int64  \n",
      " 5   Position                    311 non-null    object \n",
      " 6   State                       311 non-null    object \n",
      " 7   Zip                         311 non-null    object \n",
      " 8   DOB                         310 non-null    object \n",
      " 9   Sex                         311 non-null    object \n",
      " 10  MaritalDesc                 311 non-null    object \n",
      " 11  CitizenDesc                 311 non-null    object \n",
      " 12  HispanicLatino              311 non-null    object \n",
      " 13  RaceDesc                    311 non-null    object \n",
      " 14  DateofHire                  310 non-null    object \n",
      " 15  DateofTermination           104 non-null    object \n",
      " 16  TermReason                  311 non-null    object \n",
      " 17  EmploymentStatus            311 non-null    object \n",
      " 18  Department                  311 non-null    object \n",
      " 19  ManagerName                 311 non-null    object \n",
      " 20  ManagerID                   303 non-null    object \n",
      " 21  RecruitmentSource           311 non-null    object \n",
      " 22  PerformanceScore            311 non-null    object \n",
      " 23  EngagementSurvey            311 non-null    float64\n",
      " 24  EmpSatisfaction             311 non-null    int64  \n",
      " 25  SpecialProjectsCount        311 non-null    int64  \n",
      " 26  LastPerformanceReview_Date  311 non-null    object \n",
      " 27  DaysLateLast30              311 non-null    int64  \n",
      " 28  Absences                    311 non-null    int64  \n",
      " 29  Email                       311 non-null    object \n",
      " 30  Phone                       311 non-null    object \n",
      " 31  Salary_Fixed                299 non-null    object \n",
      "dtypes: float64(1), int64(7), object(24)\n",
      "memory usage: 77.9+ KB\n"
     ]
    }
   ],
   "source": [
    "df.info()"
   ]
  },
  {
   "cell_type": "code",
   "execution_count": 15,
   "metadata": {},
   "outputs": [],
   "source": [
    "df['Zip_Fixed'] = df.loc[df['Zip'].str.isnumeric(), ['Zip']]\n",
    "\n",
    "df_invalid_zip = df.loc[df['Zip_Fixed'].isna(), ['Zip']]"
   ]
  },
  {
   "cell_type": "markdown",
   "metadata": {},
   "source": [
    "3. Clean the column ``ManagerID`` by removing invalid values.\n",
    "\n",
    "    Invalid values are defined as any value that is not an integer or is an integer below 1.\n",
    "\n",
    "    Perform the selection of valid values and store them in column ``ManagerID_Fixed`` while invalid values should be ``NaN``. Then select invalid values and store the results in the variable ``df_invalid_managerID``."
   ]
  },
  {
   "cell_type": "code",
   "execution_count": 9,
   "metadata": {},
   "outputs": [
    {
     "data": {
      "text/plain": [
       "0      22.0\n",
       "1       4.0\n",
       "2      20.0\n",
       "3      16.0\n",
       "4        No\n",
       "       ... \n",
       "306    20.0\n",
       "307    12.0\n",
       "308     2.0\n",
       "309     4.0\n",
       "310    14.0\n",
       "Name: ManagerID, Length: 311, dtype: object"
      ]
     },
     "execution_count": 9,
     "metadata": {},
     "output_type": "execute_result"
    }
   ],
   "source": [
    "df['ManagerID']"
   ]
  },
  {
   "cell_type": "markdown",
   "metadata": {},
   "source": [
    "- Convierto los datos a int"
   ]
  },
  {
   "cell_type": "code",
   "execution_count": 10,
   "metadata": {},
   "outputs": [],
   "source": [
    "df['ManagerID_Fixed'] = pd.to_numeric(df['ManagerID'], errors = 'coerce')"
   ]
  },
  {
   "cell_type": "code",
   "execution_count": 15,
   "metadata": {},
   "outputs": [],
   "source": [
    "df_invalid_managerID = df.loc[(df['ManagerID_Fixed'].isna()) | (df['ManagerID_Fixed'] < 1),['ManagerID']]"
   ]
  },
  {
   "cell_type": "markdown",
   "metadata": {},
   "source": [
    "## Invalid Categories"
   ]
  },
  {
   "cell_type": "markdown",
   "metadata": {},
   "source": [
    "4. Clean the column ``Sex`` by removing invalid values\n",
    "\n",
    "    Invalid values are defined as any value other than ``M`` or ``F``.\n",
    "\n",
    "    Perform the selection of valid values and store them in column ``Sex_Fixed`` while invalid values should be ``NaN``. Then select invalid values and store the results in the variable ``df_invalid_sex``."
   ]
  },
  {
   "cell_type": "code",
   "execution_count": 18,
   "metadata": {},
   "outputs": [],
   "source": [
    "valid_sex = ['F', 'M']"
   ]
  },
  {
   "cell_type": "code",
   "execution_count": 23,
   "metadata": {},
   "outputs": [],
   "source": [
    "df['Sex_Fixed'] = df.loc[df['Sex'].isin(valid_sex)]['Sex']"
   ]
  },
  {
   "cell_type": "code",
   "execution_count": 31,
   "metadata": {},
   "outputs": [],
   "source": [
    "df_invalid_sex = df.loc[df['Sex_Fixed'].isna(), ['Sex']]"
   ]
  },
  {
   "cell_type": "markdown",
   "metadata": {},
   "source": [
    "5. Clean the column ``RaceDesc`` by removing invalid values\n",
    "\n",
    "    Invalid values are defined as any value other than [``White``, ``Black or African American``, ``Asian``, ``Two or more races``, ``American Indian or Alaska Native``, ``Hispanic``].\n",
    "\n",
    "    Perform the selection of valid values and store them in column ``RaceDesc_Fixed`` while invalid values should be ``NaN``. Then select invalid values and store the results in the variable ``df_invalid_race``."
   ]
  },
  {
   "cell_type": "code",
   "execution_count": 38,
   "metadata": {},
   "outputs": [],
   "source": [
    "valid_races = ['White', 'Black or African American', 'Asian', 'Two or more races', 'American Indian or Alaska Native', 'Hispanic']\n",
    "\n",
    "df['RaceDesc_Fixed'] = df[df['RaceDesc'].isin(valid_races)]['RaceDesc']\n",
    "\n",
    "df_invalid_race = df.loc[df['RaceDesc_Fixed'].isna(), ['RaceDesc']]\n"
   ]
  },
  {
   "cell_type": "markdown",
   "metadata": {},
   "source": [
    "6. Clean the column ``MaritalDesc`` by removing invalid values\n",
    "\n",
    "    Invalid values are defined as any value other than ``Single``, ``Married``, ``Divorced``, ``Separated``, or ``Widowed``.\n",
    "\n",
    "    Perform the selection of valid values and store them in column ``MaritalDesc_Fixed`` while invalid values should be ``NaN``. Then select invalid values and store the results in the variable ``df_invalid_marital_status``."
   ]
  },
  {
   "cell_type": "code",
   "execution_count": 45,
   "metadata": {},
   "outputs": [],
   "source": [
    "valid_MaritalDesc = ['Single', 'Married', 'Divorced', 'Separated', 'Widowed']\n",
    "\n",
    "df['MaritalDesc_Fixed'] = df[df['MaritalDesc'].isin(valid_MaritalDesc)]['MaritalDesc']\n",
    "\n",
    "df_invalid_marital_status = df.loc[df['MaritalDesc_Fixed'].isna(),['MaritalDesc']]"
   ]
  },
  {
   "cell_type": "markdown",
   "metadata": {},
   "source": [
    "## Invalid Datetimes"
   ]
  },
  {
   "cell_type": "markdown",
   "metadata": {},
   "source": [
    "7. Clean the column ``DOB`` by removing invalid values\n",
    "\n",
    "    Invalid values are defined as any value that is not a datetime(%m/%d/%y).\n",
    "\n",
    "    Perform the selection of valid values and store them in column ``DOB_Fixed`` while invalid values should be ``NaN``. Then select invalid values and store the results in the variable ``df_invalid_DOB``."
   ]
  },
  {
   "cell_type": "code",
   "execution_count": 51,
   "metadata": {},
   "outputs": [],
   "source": [
    "df['DOB_Fixed'] = pd.to_datetime(df['DOB'], format = '%m/%d/%y', errors='coerce')\n",
    "\n",
    "df_invalid_DOB = df.loc[df['DOB_Fixed'].isna(),['DOB']]"
   ]
  },
  {
   "cell_type": "markdown",
   "metadata": {},
   "source": [
    "8. Clean the column ``DateofHire`` by removing invalid values\n",
    "\n",
    "    Invalid values are defined as any value that is not a datetime.\n",
    "\n",
    "    Perform the selection of valid values and store them in column ``DateofHire_Fixed`` while invalid values should be ``NaN``. Then select invalid values and store the results in the variable ``df_invalid_HireDate``."
   ]
  },
  {
   "cell_type": "code",
   "execution_count": 54,
   "metadata": {},
   "outputs": [
    {
     "data": {
      "text/plain": [
       "0       7/5/2011\n",
       "1      3/30/2015\n",
       "2       7/5/2011\n",
       "3       1/7/2008\n",
       "4      7/11/2011\n",
       "         ...    \n",
       "306     7/7/2014\n",
       "307     9/2/2008\n",
       "308    4/10/2010\n",
       "309    3/30/2015\n",
       "310    9/29/2014\n",
       "Name: DateofHire, Length: 311, dtype: object"
      ]
     },
     "execution_count": 54,
     "metadata": {},
     "output_type": "execute_result"
    }
   ],
   "source": [
    "df['DateofHire']"
   ]
  },
  {
   "cell_type": "code",
   "execution_count": 57,
   "metadata": {},
   "outputs": [],
   "source": [
    "df['DateofHire_Fixed'] = pd.to_datetime(df['DateofHire'], errors='coerce')\n",
    "\n",
    "df_invalid_HireDate = df.loc[df['DateofHire_Fixed'].isna(),['DateofHire']]"
   ]
  },
  {
   "cell_type": "markdown",
   "metadata": {},
   "source": [
    "## Invalid patterns in strings"
   ]
  },
  {
   "cell_type": "markdown",
   "metadata": {},
   "source": [
    "9. Clean the column ``Email`` by removing invalid values\n",
    "\n",
    "    Invalid values are defined as any value that does not contain ``@``.\n",
    "\n",
    "    Perform the selection of valid values and store them in column ``Email_Fixed`` while invalid values should be ``NaN``. Then select invalid values and store the results in the variable ``df_invalid_Email``.       "
   ]
  },
  {
   "cell_type": "code",
   "execution_count": 62,
   "metadata": {},
   "outputs": [],
   "source": [
    "df['Email_Fixed'] = df[df['Email'].str.contains('@')]['Email']\n",
    "\n",
    "df_invalid_Email = df.loc[df['Email_Fixed'].isna(),['Email']]"
   ]
  },
  {
   "cell_type": "code",
   "execution_count": 63,
   "metadata": {},
   "outputs": [
    {
     "data": {
      "text/html": [
       "<div>\n",
       "<style scoped>\n",
       "    .dataframe tbody tr th:only-of-type {\n",
       "        vertical-align: middle;\n",
       "    }\n",
       "\n",
       "    .dataframe tbody tr th {\n",
       "        vertical-align: top;\n",
       "    }\n",
       "\n",
       "    .dataframe thead th {\n",
       "        text-align: right;\n",
       "    }\n",
       "</style>\n",
       "<table border=\"1\" class=\"dataframe\">\n",
       "  <thead>\n",
       "    <tr style=\"text-align: right;\">\n",
       "      <th></th>\n",
       "      <th>Email</th>\n",
       "    </tr>\n",
       "  </thead>\n",
       "  <tbody>\n",
       "    <tr>\n",
       "      <th>109</th>\n",
       "      <td>test.com</td>\n",
       "    </tr>\n",
       "    <tr>\n",
       "      <th>242</th>\n",
       "      <td>myemail</td>\n",
       "    </tr>\n",
       "  </tbody>\n",
       "</table>\n",
       "</div>"
      ],
      "text/plain": [
       "        Email\n",
       "109  test.com\n",
       "242   myemail"
      ]
     },
     "execution_count": 63,
     "metadata": {},
     "output_type": "execute_result"
    }
   ],
   "source": [
    "df_invalid_Email"
   ]
  },
  {
   "cell_type": "markdown",
   "metadata": {},
   "source": [
    "10. Clean the column ``Phone`` by removing invalid values\n",
    "\n",
    "    Invalid values are defined as any value that does not contain ``+``.\n",
    "\n",
    "    Perform the selection of valid values and store them in column ``Phone_Fixed`` while invalid values should be ``NaN``. Then select invalid values and store the results in the variable ``df_invalid_Phone``."
   ]
  },
  {
   "cell_type": "code",
   "execution_count": 65,
   "metadata": {},
   "outputs": [
    {
     "data": {
      "text/plain": [
       "0       +62 199-807-6651\n",
       "1      +358 128-157-9500\n",
       "2      +474 737-382-6683\n",
       "3      +806 538-458-2517\n",
       "4      +148 658-824-9500\n",
       "             ...        \n",
       "306    +346 569-742-3347\n",
       "307    +662 252-740-5156\n",
       "308    +906 560-943-6189\n",
       "309    +576 550-884-2326\n",
       "310    +464 505-330-3803\n",
       "Name: Phone, Length: 311, dtype: object"
      ]
     },
     "execution_count": 65,
     "metadata": {},
     "output_type": "execute_result"
    }
   ],
   "source": [
    "df['Phone']"
   ]
  },
  {
   "cell_type": "code",
   "execution_count": 73,
   "metadata": {},
   "outputs": [],
   "source": [
    "df['Phone_Fixed'] = df[df['Phone'].str.contains('\\+')]['Phone']\n",
    "\n",
    "\n",
    "df_invalid_Phone = df.loc[df['Phone_Fixed'].isna(),['Phone']]"
   ]
  },
  {
   "cell_type": "code",
   "execution_count": 74,
   "metadata": {},
   "outputs": [
    {
     "data": {
      "text/html": [
       "<div>\n",
       "<style scoped>\n",
       "    .dataframe tbody tr th:only-of-type {\n",
       "        vertical-align: middle;\n",
       "    }\n",
       "\n",
       "    .dataframe tbody tr th {\n",
       "        vertical-align: top;\n",
       "    }\n",
       "\n",
       "    .dataframe thead th {\n",
       "        text-align: right;\n",
       "    }\n",
       "</style>\n",
       "<table border=\"1\" class=\"dataframe\">\n",
       "  <thead>\n",
       "    <tr style=\"text-align: right;\">\n",
       "      <th></th>\n",
       "      <th>Phone</th>\n",
       "    </tr>\n",
       "  </thead>\n",
       "  <tbody>\n",
       "    <tr>\n",
       "      <th>282</th>\n",
       "      <td>236</td>\n",
       "    </tr>\n",
       "    <tr>\n",
       "      <th>291</th>\n",
       "      <td>658-824-9500</td>\n",
       "    </tr>\n",
       "  </tbody>\n",
       "</table>\n",
       "</div>"
      ],
      "text/plain": [
       "            Phone\n",
       "282           236\n",
       "291  658-824-9500"
      ]
     },
     "execution_count": 74,
     "metadata": {},
     "output_type": "execute_result"
    }
   ],
   "source": [
    "df_invalid_Phone"
   ]
  },
  {
   "cell_type": "markdown",
   "metadata": {},
   "source": [
    "# Dealing with invalid value by statistical definitions"
   ]
  },
  {
   "cell_type": "markdown",
   "metadata": {},
   "source": [
    "In this project, we will be working with a Google Play Store dataset containing information about more than 300K applications. The dataset includes details such as app name, category, rating, rating count, installs, minimum installs, maximum installs, free, price, currency, size, minimum Android, developer ID, developer website, developer email, released, privacy policy, last updated, content rating, ad-supported, in-app purchases, and editor's choice.\n",
    "\n",
    "Invalid range and outliers are common issues that can arise in datasets like these, and it's important to be able to identify and clean these invalid values to avoid biased or inaccurate analyses. In this lab, we will be focusing on cleaning invalid range and outliers in selected columns using different methods in pandas.\n",
    "\n",
    "We will start by exploring the dataset and identifying any invalid range or outlier values in the selected columns. Once we have identified them, we will use different methods to clean the data, such as setting the invalid values to NaN or dropping the rows containing these values. Also, the lab includes using different techniques for defining and identifying outliers, such as standard deviation, interquartile range, percentiles/quantiles, or fixed values provided by us.\n",
    "\n",
    "By the end of this lab, you should feel comfortable using pandas to clean invalid range and outliers in a dataset, and have a better understanding of how to use different methods and techniques to achieve the desired outcome. The lab includes basic activities and advanced activities, focusing on different aspects of cleaning invalid range and outliers in the Google Play Store dataset."
   ]
  },
  {
   "cell_type": "code",
   "execution_count": 1,
   "metadata": {},
   "outputs": [],
   "source": [
    "#to read the dataframe\n",
    "import pandas as pd\n",
    "#to plot\n",
    "import matplotlib.pyplot as plt\n",
    "#to deal with date\n",
    "from datetime import datetime"
   ]
  },
  {
   "cell_type": "code",
   "execution_count": 2,
   "metadata": {},
   "outputs": [],
   "source": [
    "# Reading dataframe\n",
    "df = pd.read_csv('files/GooglePlayStore.csv')"
   ]
  },
  {
   "cell_type": "code",
   "execution_count": 3,
   "metadata": {},
   "outputs": [
    {
     "data": {
      "text/html": [
       "<div>\n",
       "<style scoped>\n",
       "    .dataframe tbody tr th:only-of-type {\n",
       "        vertical-align: middle;\n",
       "    }\n",
       "\n",
       "    .dataframe tbody tr th {\n",
       "        vertical-align: top;\n",
       "    }\n",
       "\n",
       "    .dataframe thead th {\n",
       "        text-align: right;\n",
       "    }\n",
       "</style>\n",
       "<table border=\"1\" class=\"dataframe\">\n",
       "  <thead>\n",
       "    <tr style=\"text-align: right;\">\n",
       "      <th></th>\n",
       "      <th>App Name</th>\n",
       "      <th>App Id</th>\n",
       "      <th>Category</th>\n",
       "      <th>Rating</th>\n",
       "      <th>Rating Count</th>\n",
       "      <th>Installs</th>\n",
       "      <th>Minimum Installs</th>\n",
       "      <th>Maximum Installs</th>\n",
       "      <th>Free</th>\n",
       "      <th>Price</th>\n",
       "      <th>Currency</th>\n",
       "      <th>Size</th>\n",
       "      <th>Minimum Android</th>\n",
       "      <th>Developer Id</th>\n",
       "      <th>Developer Email</th>\n",
       "      <th>Released</th>\n",
       "      <th>Last Updated</th>\n",
       "      <th>Content Rating</th>\n",
       "      <th>Ad Supported</th>\n",
       "      <th>In App Purchases</th>\n",
       "    </tr>\n",
       "  </thead>\n",
       "  <tbody>\n",
       "    <tr>\n",
       "      <th>0</th>\n",
       "      <td>Google Chrome: Fast &amp; Secure</td>\n",
       "      <td>com.android.chrome</td>\n",
       "      <td>Communication</td>\n",
       "      <td>4.1</td>\n",
       "      <td>31481796.0</td>\n",
       "      <td>5.000000e+09</td>\n",
       "      <td>5.000000e+09</td>\n",
       "      <td>8925640788</td>\n",
       "      <td>True</td>\n",
       "      <td>0.0</td>\n",
       "      <td>USD</td>\n",
       "      <td>Varies with device</td>\n",
       "      <td>Varies with device</td>\n",
       "      <td>Google LLC</td>\n",
       "      <td>apps-help@google.com</td>\n",
       "      <td>2012-02-07</td>\n",
       "      <td>2021-06-14</td>\n",
       "      <td>Everyone</td>\n",
       "      <td>False</td>\n",
       "      <td>False</td>\n",
       "    </tr>\n",
       "    <tr>\n",
       "      <th>1</th>\n",
       "      <td>Hangouts</td>\n",
       "      <td>com.google.android.talk</td>\n",
       "      <td>Communication</td>\n",
       "      <td>4.0</td>\n",
       "      <td>5072462.0</td>\n",
       "      <td>5.000000e+09</td>\n",
       "      <td>5.000000e+09</td>\n",
       "      <td>5019518222</td>\n",
       "      <td>True</td>\n",
       "      <td>0.0</td>\n",
       "      <td>USD</td>\n",
       "      <td>Varies with device</td>\n",
       "      <td>Varies with device</td>\n",
       "      <td>Google LLC</td>\n",
       "      <td>apps-help@google.com</td>\n",
       "      <td>2013-05-15</td>\n",
       "      <td>2021-05-14</td>\n",
       "      <td>Everyone</td>\n",
       "      <td>False</td>\n",
       "      <td>False</td>\n",
       "    </tr>\n",
       "    <tr>\n",
       "      <th>2</th>\n",
       "      <td>Facebook</td>\n",
       "      <td>com.facebook.katana</td>\n",
       "      <td>Social</td>\n",
       "      <td>2.3</td>\n",
       "      <td>117850066.0</td>\n",
       "      <td>5.000000e+09</td>\n",
       "      <td>5.000000e+09</td>\n",
       "      <td>6782619635</td>\n",
       "      <td>True</td>\n",
       "      <td>0.0</td>\n",
       "      <td>USD</td>\n",
       "      <td>Varies with device</td>\n",
       "      <td>Varies with device</td>\n",
       "      <td>Facebook</td>\n",
       "      <td>facebook.android@fb.com</td>\n",
       "      <td>NaN</td>\n",
       "      <td>2021-06-16</td>\n",
       "      <td>Teen</td>\n",
       "      <td>True</td>\n",
       "      <td>True</td>\n",
       "    </tr>\n",
       "    <tr>\n",
       "      <th>3</th>\n",
       "      <td>YouTube</td>\n",
       "      <td>com.google.android.youtube</td>\n",
       "      <td>Video Players &amp; Editors</td>\n",
       "      <td>4.4</td>\n",
       "      <td>112440547.0</td>\n",
       "      <td>5.000000e+09</td>\n",
       "      <td>5.000000e+09</td>\n",
       "      <td>9766230924</td>\n",
       "      <td>True</td>\n",
       "      <td>0.0</td>\n",
       "      <td>USD</td>\n",
       "      <td>Varies with device</td>\n",
       "      <td>Varies with device</td>\n",
       "      <td>Google LLC</td>\n",
       "      <td>ytandroid-support@google.com</td>\n",
       "      <td>2010-10-20</td>\n",
       "      <td>2021-06-16</td>\n",
       "      <td>Teen</td>\n",
       "      <td>True</td>\n",
       "      <td>False</td>\n",
       "    </tr>\n",
       "    <tr>\n",
       "      <th>4</th>\n",
       "      <td>Google Photos</td>\n",
       "      <td>com.google.android.apps.photos</td>\n",
       "      <td>Photography</td>\n",
       "      <td>4.5</td>\n",
       "      <td>35369236.0</td>\n",
       "      <td>5.000000e+09</td>\n",
       "      <td>5.000000e+09</td>\n",
       "      <td>5754179589</td>\n",
       "      <td>True</td>\n",
       "      <td>0.0</td>\n",
       "      <td>USD</td>\n",
       "      <td>Varies with device</td>\n",
       "      <td>Varies with device</td>\n",
       "      <td>Google LLC</td>\n",
       "      <td>apps-help@google.com</td>\n",
       "      <td>2015-05-28</td>\n",
       "      <td>2021-06-14</td>\n",
       "      <td>Everyone</td>\n",
       "      <td>False</td>\n",
       "      <td>False</td>\n",
       "    </tr>\n",
       "  </tbody>\n",
       "</table>\n",
       "</div>"
      ],
      "text/plain": [
       "                       App Name                          App Id  \\\n",
       "0  Google Chrome: Fast & Secure              com.android.chrome   \n",
       "1                      Hangouts         com.google.android.talk   \n",
       "2                      Facebook             com.facebook.katana   \n",
       "3                       YouTube      com.google.android.youtube   \n",
       "4                 Google Photos  com.google.android.apps.photos   \n",
       "\n",
       "                  Category  Rating  Rating Count      Installs  \\\n",
       "0            Communication     4.1    31481796.0  5.000000e+09   \n",
       "1            Communication     4.0     5072462.0  5.000000e+09   \n",
       "2                   Social     2.3   117850066.0  5.000000e+09   \n",
       "3  Video Players & Editors     4.4   112440547.0  5.000000e+09   \n",
       "4              Photography     4.5    35369236.0  5.000000e+09   \n",
       "\n",
       "   Minimum Installs  Maximum Installs  Free  Price Currency  \\\n",
       "0      5.000000e+09        8925640788  True    0.0      USD   \n",
       "1      5.000000e+09        5019518222  True    0.0      USD   \n",
       "2      5.000000e+09        6782619635  True    0.0      USD   \n",
       "3      5.000000e+09        9766230924  True    0.0      USD   \n",
       "4      5.000000e+09        5754179589  True    0.0      USD   \n",
       "\n",
       "                 Size     Minimum Android Developer Id  \\\n",
       "0  Varies with device  Varies with device   Google LLC   \n",
       "1  Varies with device  Varies with device   Google LLC   \n",
       "2  Varies with device  Varies with device     Facebook   \n",
       "3  Varies with device  Varies with device   Google LLC   \n",
       "4  Varies with device  Varies with device   Google LLC   \n",
       "\n",
       "                Developer Email    Released Last Updated Content Rating  \\\n",
       "0          apps-help@google.com  2012-02-07   2021-06-14       Everyone   \n",
       "1          apps-help@google.com  2013-05-15   2021-05-14       Everyone   \n",
       "2       facebook.android@fb.com         NaN   2021-06-16           Teen   \n",
       "3  ytandroid-support@google.com  2010-10-20   2021-06-16           Teen   \n",
       "4          apps-help@google.com  2015-05-28   2021-06-14       Everyone   \n",
       "\n",
       "   Ad Supported  In App Purchases  \n",
       "0         False             False  \n",
       "1         False             False  \n",
       "2          True              True  \n",
       "3          True             False  \n",
       "4         False             False  "
      ]
     },
     "execution_count": 3,
     "metadata": {},
     "output_type": "execute_result"
    }
   ],
   "source": [
    "df.head()"
   ]
  },
  {
   "cell_type": "code",
   "execution_count": 4,
   "metadata": {},
   "outputs": [
    {
     "name": "stdout",
     "output_type": "stream",
     "text": [
      "dataset size:  6172920\n",
      "number of apps:  308646\n",
      "number of features:  20\n"
     ]
    }
   ],
   "source": [
    "#show the number of cells in the dataframe\n",
    "print(\"dataset size: \", df.size)\n",
    "\n",
    "#show the number of records (rows) in the dataframe\n",
    "print(\"number of apps: \", len(df))\n",
    "\n",
    "#show the number of features (coulmns) in the dataframe\n",
    "print(\"number of features: \", len(df.columns)) "
   ]
  },
  {
   "cell_type": "code",
   "execution_count": 5,
   "metadata": {},
   "outputs": [
    {
     "data": {
      "text/plain": [
       "App Name             object\n",
       "App Id               object\n",
       "Category             object\n",
       "Rating              float64\n",
       "Rating Count        float64\n",
       "Installs            float64\n",
       "Minimum Installs    float64\n",
       "Maximum Installs      int64\n",
       "Free                   bool\n",
       "Price               float64\n",
       "Currency             object\n",
       "Size                 object\n",
       "Minimum Android      object\n",
       "Developer Id         object\n",
       "Developer Email      object\n",
       "Released             object\n",
       "Last Updated         object\n",
       "Content Rating       object\n",
       "Ad Supported           bool\n",
       "In App Purchases       bool\n",
       "dtype: object"
      ]
     },
     "execution_count": 5,
     "metadata": {},
     "output_type": "execute_result"
    }
   ],
   "source": [
    "df.dtypes"
   ]
  },
  {
   "cell_type": "markdown",
   "metadata": {},
   "source": [
    "## Basic Activities: Invalid Values\n",
    "\n",
    "1. Clean the column ``Rating`` by removing invalid values\n",
    "\n",
    "    As ratings in Google Play Store fall in the range of 0-5; However by observing the histogram, you will find invalid values that lie oustide this range.\n",
    "\n",
    "    Perform the selection of rows with invalid values and store the results in the variable ``df_invalid_ratings``."
   ]
  },
  {
   "cell_type": "code",
   "execution_count": 6,
   "metadata": {},
   "outputs": [
    {
     "data": {
      "text/plain": [
       "Text(0, 0.5, 'Frequency')"
      ]
     },
     "execution_count": 6,
     "metadata": {},
     "output_type": "execute_result"
    },
    {
     "data": {
      "image/png": "[encoded data removed]",
      "text/plain": [
       "<Figure size 640x480 with 1 Axes>"
      ]
     },
     "metadata": {},
     "output_type": "display_data"
    }
   ],
   "source": [
    "Rating_plot = df['Rating'].plot(kind='hist')\n",
    "Rating_plot.set_yscale('log')\n",
    "Rating_plot.set_xlabel('Rating')\n",
    "Rating_plot.set_ylabel('Frequency')"
   ]
  },
  {
   "cell_type": "code",
   "execution_count": 7,
   "metadata": {},
   "outputs": [],
   "source": [
    "df_invalid_ratings = df.loc[(df['Rating'] < 0) | (df['Rating'] > 5)]"
   ]
  },
  {
   "cell_type": "markdown",
   "metadata": {},
   "source": [
    "2. Clean the dataset by removing rows with invalid installs and ratings\n",
    "\n",
    "    As it is not reasonable for an app to have a rating greater than 0 without being installed, invalid values are defined as any app with maximum installs of 0 and has a rating above 0.\n",
    "\n",
    "    Perform the selection of rows with invalid values and store the results in the variable ``df_invalid_install_ratings``."
   ]
  },
  {
   "cell_type": "code",
   "execution_count": 8,
   "metadata": {},
   "outputs": [],
   "source": [
    "df_invalid_install_ratings = df[(df['Installs'] == 0) & (df['Rating'] > 0)]"
   ]
  },
  {
   "cell_type": "markdown",
   "metadata": {},
   "source": [
    "3. Clean the column ``Installs`` by removing invalid values\n",
    "\n",
    "    As the whole population in the world now is around 10 billion people, invalid values are defined as any value above or equal to 10 billion.\n",
    "\n",
    "    Perform the selection of rows with invalid values and store the results in the variable ``df_invalid_installs``."
   ]
  },
  {
   "cell_type": "code",
   "execution_count": 9,
   "metadata": {},
   "outputs": [],
   "source": [
    "df_invalid_installs  = df[df['Installs'] >= 10_000_000_000]"
   ]
  },
  {
   "cell_type": "markdown",
   "metadata": {},
   "source": [
    "## Basic Activities: Outliers\n",
    "\n",
    "Now, let's use statsitical definitions to identify and clean outliers.\n",
    "\n",
    "4. Clean the column ``Ratings`` by removing outliers\n",
    "\n",
    "    Take a look at the histogram that is in the Notebook. By analyzing it, outliers are defined as any values 3 or more std to the left or right of the mean.\n",
    "\n",
    "    Calculate te Z-Score\n",
    "\n",
    "    Perform the outlier identification and store the results in a new column ``df_rating['Rating_cleaned']``."
   ]
  },
  {
   "cell_type": "code",
   "execution_count": 10,
   "metadata": {},
   "outputs": [
    {
     "data": {
      "text/plain": [
       "<Axes: ylabel='Frequency'>"
      ]
     },
     "execution_count": 10,
     "metadata": {},
     "output_type": "execute_result"
    },
    {
     "data": {
      "image/png": "[encoded data removed]",
      "text/plain": [
       "<Figure size 640x480 with 1 Axes>"
      ]
     },
     "metadata": {},
     "output_type": "display_data"
    }
   ],
   "source": [
    "df_rating = df.copy()\n",
    "df_rating = df_rating[(df_rating['Rating'] > 0) & (df_rating['Rating'] <= 5)]\n",
    "df_rating['Rating'].plot(kind='hist')"
   ]
  },
  {
   "cell_type": "markdown",
   "metadata": {},
   "source": [
    "Z - Score"
   ]
  },
  {
   "cell_type": "code",
   "execution_count": 11,
   "metadata": {},
   "outputs": [],
   "source": [
    "df_rating['Rating_cleaned'] = ((df_rating['Rating'] - df_rating['Rating'].mean()) / df_rating['Rating'].std()).abs() > 3"
   ]
  },
  {
   "cell_type": "markdown",
   "metadata": {},
   "source": [
    "5. Clean the column ``Price`` by removing outliers\n",
    "\n",
    "    Take a look at the box plot that is in the Notebook. By analyzing it, outliers are defined as any values that are 1.5 IQR to the left or right.\n",
    "\n",
    "    - Note: Here, we are interested only in Paid apps not Free apps.\n",
    "\n",
    "    Perform the outlier identification and store the results in a new column ``df_Price['Price_cleaned']``."
   ]
  },
  {
   "cell_type": "code",
   "execution_count": 12,
   "metadata": {},
   "outputs": [
    {
     "data": {
      "image/png": "[encoded data removed]",
      "text/plain": [
       "<Figure size 640x480 with 1 Axes>"
      ]
     },
     "metadata": {},
     "output_type": "display_data"
    }
   ],
   "source": [
    "df_Price = df.copy()\n",
    "df_Price = df_Price[df_Price['Free'] == False]\n",
    "Price_plot = df_Price['Price'].plot(kind='box')\n",
    "Price_plot.set_yscale('log')"
   ]
  },
  {
   "cell_type": "code",
   "execution_count": 13,
   "metadata": {},
   "outputs": [],
   "source": [
    "Q1 = df_Price['Price'].quantile(0.25)\n",
    "Q3 = df_Price['Price'].quantile(0.75)\n",
    "\n",
    "IQR = Q3 - Q1"
   ]
  },
  {
   "cell_type": "code",
   "execution_count": 14,
   "metadata": {},
   "outputs": [],
   "source": [
    "df_Price['Price_cleaned'] = ((df_Price['Price'] < Q1 - (IQR * 1.5)) | (df_Price['Price'] > Q3 + (IQR * 1.5)))"
   ]
  },
  {
   "cell_type": "markdown",
   "metadata": {},
   "source": [
    "6. Clean the column ``Size`` by removing outliers\n",
    "\n",
    "    Take a look at the size counts that is in the Notebook. By analyzing it, outliers are defined as any value that is more than or equal to GigaByte ``G``.\n",
    "\n",
    "    Perform the outlier identification and store the results in a new column ``df['Size_cleaned']``."
   ]
  },
  {
   "cell_type": "code",
   "execution_count": 15,
   "metadata": {},
   "outputs": [
    {
     "data": {
      "text/plain": [
       "1\n",
       "M        293764\n",
       "k          4757\n",
       "Bytes       140\n",
       "G             4\n",
       "Name: count, dtype: int64"
      ]
     },
     "execution_count": 15,
     "metadata": {},
     "output_type": "execute_result"
    }
   ],
   "source": [
    "size_counts = df['Size'].str.extract(r'([0-9\\.]+)([MkG]?)')[1].value_counts()\n",
    "\n",
    "if '' in size_counts:\n",
    "    size_counts = size_counts.rename(index={'': 'Bytes'})\n",
    "\n",
    "size_counts"
   ]
  },
  {
   "cell_type": "code",
   "execution_count": 16,
   "metadata": {},
   "outputs": [],
   "source": [
    "df['Size_cleaned'] = df['Size'].str.contains('G', na = False)"
   ]
  },
  {
   "cell_type": "markdown",
   "metadata": {},
   "source": [
    "## Advanced Activities: Invalid Values\n",
    "\n",
    "7. Clean the column ``Released`` by removing invalid values.\n",
    "\n",
    "    Invalid values are defined as any value that contains a date in the future (later than now).\n",
    "\n",
    "    Perform the selection of rows with invalid values and store the results in the variable ``df_invalid_release_date``."
   ]
  },
  {
   "cell_type": "code",
   "execution_count": 17,
   "metadata": {},
   "outputs": [],
   "source": [
    "df['Released'] = pd.to_datetime(df['Released'])\n",
    "\n",
    "df_invalid_release_date = df[df['Released'] > datetime.now()]"
   ]
  },
  {
   "cell_type": "markdown",
   "metadata": {},
   "source": [
    "8. Clean the column ``Developer Email`` by removing invalid values\n",
    "\n",
    "    Invalid values are defined as any value that does not contain ``@`` in the email.\n",
    "\n",
    "    Perform the selection of rows with invalid values and store the results in the variable ``invalid_emails``."
   ]
  },
  {
   "cell_type": "code",
   "execution_count": 18,
   "metadata": {},
   "outputs": [],
   "source": [
    "invalid_emails = df[~df['Developer Email'].str.contains('@')]"
   ]
  },
  {
   "cell_type": "markdown",
   "metadata": {},
   "source": [
    "9. Clean the column ``Size`` by removing invalid values\n",
    "\n",
    "    Take a look at the histogram that is in the Notebook. By analyzing it, you will find different size units. As the mobile phones nowadays have a maximum storage of 1TB, let's define invalid values as any value above or equal 1TB.\n",
    "\n",
    "    Perform the selection of rows with invalid values and store the results in the variable ``df_invalid_size``.\n",
    "\n",
    "    - Note: do not forget to consider only not (NA / NaN) values."
   ]
  },
  {
   "cell_type": "code",
   "execution_count": 19,
   "metadata": {},
   "outputs": [
    {
     "data": {
      "image/png": "[encoded data removed]",
      "text/plain": [
       "<Figure size 600x600 with 1 Axes>"
      ]
     },
     "metadata": {},
     "output_type": "display_data"
    }
   ],
   "source": [
    "size_counts = df['Size'].str.extract(r'([0-9\\.]+)([MkGT]?)')[1].value_counts()\n",
    "\n",
    "if '' in size_counts:\n",
    "    size_counts = size_counts.rename(index={'': 'Bytes'})\n",
    "    \n",
    "size_percents = size_counts / size_counts.sum() * 100\n",
    "\n",
    "# Plot the percentages in a histogram\n",
    "fig, ax = plt.subplots(figsize=(6, 6))\n",
    "ax.bar(size_percents.index, size_percents, color='skyblue')\n",
    "ax.set_xlabel('Size Unit')\n",
    "ax.set_ylabel('Percentage')\n",
    "ax.set_title('Percentage Distribution of App Sizes')\n",
    "ax.grid(axis='y', linestyle='--', alpha=0.7)\n",
    "ax.set_yscale('log')\n",
    "plt.show()"
   ]
  },
  {
   "cell_type": "code",
   "execution_count": 20,
   "metadata": {},
   "outputs": [],
   "source": [
    "df_invalid_size = df[df['Size'].str.contains('T', na = False)]"
   ]
  },
  {
   "cell_type": "markdown",
   "metadata": {},
   "source": [
    "## Advanced Activities: Outliers\n",
    "\n",
    "Now, let's go deep using statistical definitions to identify and clean outliers.\n",
    "\n",
    "10. Clean the column ``Installs`` by removing outliers\n",
    "\n",
    "    Take a look at the box plot that is in the Notebook. By analyzing it, outliers are defined as any values that are to the right of the 95% percentile (>= 95% percentile).\n",
    "\n",
    "    Perform the outlier identification and store the results in a new column ``df_installs['Installs_cleaned']``."
   ]
  },
  {
   "cell_type": "code",
   "execution_count": 21,
   "metadata": {},
   "outputs": [
    {
     "data": {
      "image/png": "[encoded data removed]",
      "text/plain": [
       "<Figure size 640x480 with 1 Axes>"
      ]
     },
     "metadata": {},
     "output_type": "display_data"
    }
   ],
   "source": [
    "df_installs = df.copy()\n",
    "installs_plot = df_installs['Installs'].plot(kind='box')\n",
    "installs_plot.set_yscale('log')"
   ]
  },
  {
   "cell_type": "code",
   "execution_count": 22,
   "metadata": {},
   "outputs": [],
   "source": [
    "df_installs['Installs_cleaned'] = (df_installs['Installs'] >= df_installs['Installs'].quantile(0.95))"
   ]
  },
  {
   "cell_type": "markdown",
   "metadata": {},
   "source": [
    "11. Clean the column ``Category`` by removing outliers\n",
    "\n",
    "    Take a look at the box plot that is in the Notebook. By analyzing it, outliers are defined as any values 2.5 or more std deviations to the left or right of the mean.\n",
    "\n",
    "    Perform the outlier identification and store the results in a new series ``Category_outliers``."
   ]
  },
  {
   "cell_type": "code",
   "execution_count": 23,
   "metadata": {},
   "outputs": [
    {
     "data": {
      "text/plain": [
       "<Axes: >"
      ]
     },
     "execution_count": 23,
     "metadata": {},
     "output_type": "execute_result"
    },
    {
     "data": {
      "image/png": "[encoded data removed]",
      "text/plain": [
       "<Figure size 640x480 with 1 Axes>"
      ]
     },
     "metadata": {},
     "output_type": "display_data"
    }
   ],
   "source": [
    "Category_counts = df['Category'].value_counts()\n",
    "Category_counts.plot(kind='box')"
   ]
  },
  {
   "cell_type": "code",
   "execution_count": 37,
   "metadata": {},
   "outputs": [],
   "source": [
    "Category_outliers = ((Category_counts - Category_counts.mean()) / Category_counts.std() > 2.5)"
   ]
  },
  {
   "cell_type": "markdown",
   "metadata": {},
   "source": [
    "12. Clean the column ``Release Year`` by removing outliers\n",
    "\n",
    "    Take a look at the box plot that is in the Notebook. By analyzing it, outliers are defined as any values that are 1.8 IQR to the left or right.\n",
    "\n",
    "    Perform the outlier identification and store the results in a new column ``df_release_year['Release_Year_cleaned']``.\n",
    "\n",
    "    > *Define ``Q1_year`` as the value dividing the lowest 25%, ``Q3_year`` dividing the lowest 75%, and ``IQR_year`` as the range between them.*"
   ]
  },
  {
   "cell_type": "code",
   "execution_count": 38,
   "metadata": {},
   "outputs": [
    {
     "data": {
      "image/png": "[encoded data removed]",
      "text/plain": [
       "<Figure size 640x480 with 1 Axes>"
      ]
     },
     "metadata": {},
     "output_type": "display_data"
    }
   ],
   "source": [
    "df['Released'] = pd.to_datetime(df['Released'])\n",
    "df_release_year = df.copy()\n",
    "df_release_year['Release_Year'] = df_release_year['Released'].dt.year\n",
    "\n",
    "Release_plot = df_release_year['Release_Year'].plot(kind='box')"
   ]
  },
  {
   "cell_type": "code",
   "execution_count": 39,
   "metadata": {},
   "outputs": [],
   "source": [
    "# Calculate IQR\n",
    "Q1_year = df_release_year['Release_Year'].quantile(0.25)\n",
    "Q3_year = df_release_year['Release_Year'].quantile(0.75)\n",
    "IQR_year = Q3 - Q1"
   ]
  },
  {
   "cell_type": "code",
   "execution_count": 41,
   "metadata": {},
   "outputs": [],
   "source": [
    "# Define outliers\n",
    "df_release_year['Release_Year_cleaned'] = ((df_release_year['Release_Year'] < (Q1_year - 1.8 * IQR_year)) | (df_release_year['Release_Year'] > (Q3_year + 1.8 * IQR_year)))"
   ]
  },
  {
   "cell_type": "code",
   "execution_count": 42,
   "metadata": {},
   "outputs": [
    {
     "data": {
      "text/plain": [
       "0         False\n",
       "1         False\n",
       "2         False\n",
       "3          True\n",
       "4         False\n",
       "          ...  \n",
       "308641    False\n",
       "308642    False\n",
       "308643    False\n",
       "308644    False\n",
       "308645    False\n",
       "Name: Release_Year_cleaned, Length: 308646, dtype: bool"
      ]
     },
     "execution_count": 42,
     "metadata": {},
     "output_type": "execute_result"
    }
   ],
   "source": [
    "df_release_year['Release_Year_cleaned']"
   ]
  },
  {
   "cell_type": "markdown",
   "metadata": {},
   "source": [
    "# Cleaning Google Playstore data"
   ]
  },
  {
   "cell_type": "markdown",
   "metadata": {},
   "source": [
    "This project covers all the most common aspects of Data Cleaning with Pandas, using a dataset scraped from the Google Playstore.\n",
    "\n",
    "As you might know, scraping data usually produces incorrect results.\n",
    "\n",
    "This project includes several cleaning tasks (ranging from invalid values, to missing / duplicate values) and finished with several analysis tasks.\n",
    "\n",
    "We encourage you to use visualizations as much as possible to understand the data as well as the missingno library, which is already ``installed``, imported and ready to use.\n",
    "\n",
    "> ***Important! Please make sure to resolve activities in order for them to work properly. Some of the latest activities rely on the first ones to be completed to work.***"
   ]
  },
  {
   "cell_type": "code",
   "execution_count": 1,
   "metadata": {},
   "outputs": [],
   "source": [
    "import pandas as pd\n",
    "import numpy as np\n",
    "import seaborn as sns\n",
    "import missingno as msno"
   ]
  },
  {
   "cell_type": "code",
   "execution_count": 17,
   "metadata": {},
   "outputs": [
    {
     "data": {
      "text/html": [
       "<div>\n",
       "<style scoped>\n",
       "    .dataframe tbody tr th:only-of-type {\n",
       "        vertical-align: middle;\n",
       "    }\n",
       "\n",
       "    .dataframe tbody tr th {\n",
       "        vertical-align: top;\n",
       "    }\n",
       "\n",
       "    .dataframe thead th {\n",
       "        text-align: right;\n",
       "    }\n",
       "</style>\n",
       "<table border=\"1\" class=\"dataframe\">\n",
       "  <thead>\n",
       "    <tr style=\"text-align: right;\">\n",
       "      <th></th>\n",
       "      <th>App</th>\n",
       "      <th>Category</th>\n",
       "      <th>Rating</th>\n",
       "      <th>Reviews</th>\n",
       "      <th>Size</th>\n",
       "      <th>Installs</th>\n",
       "      <th>Type</th>\n",
       "      <th>Price</th>\n",
       "      <th>Content Rating</th>\n",
       "      <th>Genres</th>\n",
       "      <th>Last Updated</th>\n",
       "      <th>Current Ver</th>\n",
       "      <th>Android Ver</th>\n",
       "    </tr>\n",
       "  </thead>\n",
       "  <tbody>\n",
       "    <tr>\n",
       "      <th>786</th>\n",
       "      <td>Coursera: Online courses</td>\n",
       "      <td>EDUCATION</td>\n",
       "      <td>4.4</td>\n",
       "      <td>90481</td>\n",
       "      <td>Varies with device</td>\n",
       "      <td>5,000,000+</td>\n",
       "      <td>Free</td>\n",
       "      <td>0</td>\n",
       "      <td>Everyone</td>\n",
       "      <td>Education</td>\n",
       "      <td>27-Jul-18</td>\n",
       "      <td>Varies with device</td>\n",
       "      <td>Varies with device</td>\n",
       "    </tr>\n",
       "    <tr>\n",
       "      <th>3413</th>\n",
       "      <td>Waterfall Live Wallpaper</td>\n",
       "      <td>PERSONALIZATION</td>\n",
       "      <td>4.1</td>\n",
       "      <td>112977</td>\n",
       "      <td>13M</td>\n",
       "      <td>10,000,000+</td>\n",
       "      <td>Free</td>\n",
       "      <td>0</td>\n",
       "      <td>Everyone</td>\n",
       "      <td>Personalization</td>\n",
       "      <td>22-May-18</td>\n",
       "      <td>3.6</td>\n",
       "      <td>4.1 and up</td>\n",
       "    </tr>\n",
       "    <tr>\n",
       "      <th>7451</th>\n",
       "      <td>FANDOM for: GTA</td>\n",
       "      <td>FAMILY</td>\n",
       "      <td>3.9</td>\n",
       "      <td>39038</td>\n",
       "      <td>9.5M</td>\n",
       "      <td>5,000,000+</td>\n",
       "      <td>Free</td>\n",
       "      <td>0</td>\n",
       "      <td>Mature 17+</td>\n",
       "      <td>Entertainment</td>\n",
       "      <td>6-Jun-18</td>\n",
       "      <td>2.9.8</td>\n",
       "      <td>4.4 and up</td>\n",
       "    </tr>\n",
       "    <tr>\n",
       "      <th>4611</th>\n",
       "      <td>AT&amp;T Call Protect</td>\n",
       "      <td>COMMUNICATION</td>\n",
       "      <td>4.2</td>\n",
       "      <td>6454</td>\n",
       "      <td>15M</td>\n",
       "      <td>5,000,000+</td>\n",
       "      <td>Free</td>\n",
       "      <td>0</td>\n",
       "      <td>Everyone</td>\n",
       "      <td>Communication</td>\n",
       "      <td>3-May-18</td>\n",
       "      <td>1.5.13-3598</td>\n",
       "      <td>5.0 and up</td>\n",
       "    </tr>\n",
       "    <tr>\n",
       "      <th>9359</th>\n",
       "      <td>Miraculous Ladybug &amp; Cat Noir - The Official Game</td>\n",
       "      <td>GAME</td>\n",
       "      <td>4.5</td>\n",
       "      <td>185382</td>\n",
       "      <td>99M</td>\n",
       "      <td>10,000,000+</td>\n",
       "      <td>Free</td>\n",
       "      <td>0</td>\n",
       "      <td>Everyone</td>\n",
       "      <td>Action</td>\n",
       "      <td>30-Jul-18</td>\n",
       "      <td>1.0.6</td>\n",
       "      <td>4.4 and up</td>\n",
       "    </tr>\n",
       "  </tbody>\n",
       "</table>\n",
       "</div>"
      ],
      "text/plain": [
       "                                                    App         Category  \\\n",
       "786                            Coursera: Online courses        EDUCATION   \n",
       "3413                           Waterfall Live Wallpaper  PERSONALIZATION   \n",
       "7451                                    FANDOM for: GTA           FAMILY   \n",
       "4611                                  AT&T Call Protect    COMMUNICATION   \n",
       "9359  Miraculous Ladybug & Cat Noir - The Official Game             GAME   \n",
       "\n",
       "      Rating Reviews                Size     Installs  Type Price  \\\n",
       "786      4.4   90481  Varies with device   5,000,000+  Free     0   \n",
       "3413     4.1  112977                 13M  10,000,000+  Free     0   \n",
       "7451     3.9   39038                9.5M   5,000,000+  Free     0   \n",
       "4611     4.2    6454                 15M   5,000,000+  Free     0   \n",
       "9359     4.5  185382                 99M  10,000,000+  Free     0   \n",
       "\n",
       "     Content Rating           Genres Last Updated         Current Ver  \\\n",
       "786        Everyone        Education    27-Jul-18  Varies with device   \n",
       "3413       Everyone  Personalization    22-May-18                 3.6   \n",
       "7451     Mature 17+    Entertainment     6-Jun-18               2.9.8   \n",
       "4611       Everyone    Communication     3-May-18         1.5.13-3598   \n",
       "9359       Everyone           Action    30-Jul-18               1.0.6   \n",
       "\n",
       "             Android Ver  \n",
       "786   Varies with device  \n",
       "3413          4.1 and up  \n",
       "7451          4.4 and up  \n",
       "4611          5.0 and up  \n",
       "9359          4.4 and up  "
      ]
     },
     "execution_count": 17,
     "metadata": {},
     "output_type": "execute_result"
    }
   ],
   "source": [
    "df = pd.read_csv('files/googleplaystore2.csv')\n",
    "df.sample(5)"
   ]
  },
  {
   "cell_type": "markdown",
   "metadata": {},
   "source": [
    "## Data cleaning"
   ]
  },
  {
   "cell_type": "markdown",
   "metadata": {},
   "source": [
    "1. Which of the following column(s) has/have null values?\n",
    "\n",
    "    Select the columns that you have identified having null/missing values. We encourage you to use the ``missingno`` library."
   ]
  },
  {
   "cell_type": "code",
   "execution_count": 18,
   "metadata": {},
   "outputs": [
    {
     "data": {
      "text/plain": [
       "App                  0\n",
       "Category             0\n",
       "Rating            1474\n",
       "Reviews              0\n",
       "Size                 0\n",
       "Installs             0\n",
       "Type                 1\n",
       "Price                0\n",
       "Content Rating       1\n",
       "Genres               0\n",
       "Last Updated         0\n",
       "Current Ver          8\n",
       "Android Ver          3\n",
       "dtype: int64"
      ]
     },
     "execution_count": 18,
     "metadata": {},
     "output_type": "execute_result"
    }
   ],
   "source": [
    "df.isna().sum()"
   ]
  },
  {
   "cell_type": "code",
   "execution_count": 19,
   "metadata": {},
   "outputs": [
    {
     "data": {
      "text/plain": [
       "<Axes: >"
      ]
     },
     "execution_count": 19,
     "metadata": {},
     "output_type": "execute_result"
    },
    {
     "data": {
      "image/png": "[encoded data removed]",
      "text/plain": [
       "<Figure size 2400x1000 with 3 Axes>"
      ]
     },
     "metadata": {},
     "output_type": "display_data"
    }
   ],
   "source": [
    "msno.bar(df)"
   ]
  },
  {
   "cell_type": "markdown",
   "metadata": {},
   "source": [
    "2. Clean the Rating column and the other columns containing null values\n",
    "\n",
    "    This is a 3-part activity:\n",
    "\n",
    "    - Remove the invalid values from ``Rating`` (if any). Just set them as NaN.\n",
    "    - Fill the null values in the ``Rating`` column using the ``mean()``\n",
    "    - Clean any other non-numerical columns by just dropping the values.\n",
    "    \n",
    "    Perform the modifications \"in place\", modifying ``df``. If you make a mistake, re-load the data.\n",
    "\n",
    "    > All the ratings that are not in the range of 0 to 5 should be replaced with ``NaN``.\n",
    "    \n",
    "    > For the other columns, just drop the rows that contain null values."
   ]
  },
  {
   "cell_type": "markdown",
   "metadata": {},
   "source": [
    "Invalid Values"
   ]
  },
  {
   "cell_type": "code",
   "execution_count": 20,
   "metadata": {},
   "outputs": [],
   "source": [
    "df.loc[((df['Rating'] > 5) | (df['Rating'] < 0)), ['Rating']] = np.nan"
   ]
  },
  {
   "cell_type": "markdown",
   "metadata": {},
   "source": [
    "Fill Null Values"
   ]
  },
  {
   "cell_type": "code",
   "execution_count": 21,
   "metadata": {},
   "outputs": [],
   "source": [
    "df['Rating'].fillna(value = df['Rating'].mean(), inplace = True)"
   ]
  },
  {
   "cell_type": "markdown",
   "metadata": {},
   "source": [
    "Drop the rows for any other columns with Nan values"
   ]
  },
  {
   "cell_type": "code",
   "execution_count": 22,
   "metadata": {},
   "outputs": [],
   "source": [
    "df.dropna(inplace = True)"
   ]
  },
  {
   "cell_type": "code",
   "execution_count": 23,
   "metadata": {},
   "outputs": [
    {
     "data": {
      "text/plain": [
       "<Axes: >"
      ]
     },
     "execution_count": 23,
     "metadata": {},
     "output_type": "execute_result"
    },
    {
     "data": {
      "image/png": "[encoded data removed]",
      "text/plain": [
       "<Figure size 2400x1000 with 3 Axes>"
      ]
     },
     "metadata": {},
     "output_type": "display_data"
    }
   ],
   "source": [
    "msno.bar(df)"
   ]
  },
  {
   "cell_type": "markdown",
   "metadata": {},
   "source": [
    "3. Clean the column ``Reviews`` and make it numeric\n",
    "\n",
    "    You'll notice that some columns from this dataframe which should be numeric, were parsed as ``object`` (string). That's because sometimes the numbers are expressed with ``M``, or ``k`` to indicate ``Mega`` or ``kilo``.\n",
    "\n",
    "    Clean the ``Reviews`` column by transforming the values to the correct numeric representation. For example, ``5M`` should be ``5000000``."
   ]
  },
  {
   "cell_type": "code",
   "execution_count": 24,
   "metadata": {},
   "outputs": [],
   "source": [
    "df.loc[df['Reviews'].str.contains('M'), 'Reviews']  = pd.to_numeric(df.loc[df['Reviews'].str.contains('M'), 'Reviews'].str.replace('M','')) * 1_000_000"
   ]
  },
  {
   "cell_type": "code",
   "execution_count": 25,
   "metadata": {},
   "outputs": [],
   "source": [
    "df['Reviews'] = pd.to_numeric(df['Reviews'])"
   ]
  },
  {
   "cell_type": "code",
   "execution_count": 26,
   "metadata": {},
   "outputs": [
    {
     "data": {
      "text/plain": [
       "App               Trivia Crack\n",
       "Category                  GAME\n",
       "Rating                     4.5\n",
       "Reviews              6400000.0\n",
       "Size                       95M\n",
       "Installs          100,000,000+\n",
       "Type                      Free\n",
       "Price                        0\n",
       "Content Rating        Everyone\n",
       "Genres                  Trivia\n",
       "Last Updated          3-Aug-18\n",
       "Current Ver             2.79.0\n",
       "Android Ver         4.1 and up\n",
       "Name: 1781, dtype: object"
      ]
     },
     "execution_count": 26,
     "metadata": {},
     "output_type": "execute_result"
    }
   ],
   "source": [
    "df.loc[1781]"
   ]
  },
  {
   "cell_type": "markdown",
   "metadata": {},
   "source": [
    "4. How many duplicated apps are there?\n",
    "\n",
    "    Count the number of duplicated rows. That is, if the app ``Twitter`` appears 2 times, that counts as 2."
   ]
  },
  {
   "cell_type": "code",
   "execution_count": 27,
   "metadata": {},
   "outputs": [],
   "source": [
    "series = df.groupby(df['App']).size().sort_values(ascending = False) \n",
    "\n",
    "series = series[series > 1]"
   ]
  },
  {
   "cell_type": "code",
   "execution_count": 28,
   "metadata": {},
   "outputs": [
    {
     "data": {
      "text/plain": [
       "1979"
      ]
     },
     "execution_count": 28,
     "metadata": {},
     "output_type": "execute_result"
    }
   ],
   "source": [
    "series.sum()"
   ]
  },
  {
   "cell_type": "code",
   "execution_count": 29,
   "metadata": {},
   "outputs": [
    {
     "data": {
      "text/plain": [
       "1979"
      ]
     },
     "execution_count": 29,
     "metadata": {},
     "output_type": "execute_result"
    }
   ],
   "source": [
    "df['App'].duplicated(keep=False).sum()"
   ]
  },
  {
   "cell_type": "code",
   "execution_count": 30,
   "metadata": {},
   "outputs": [
    {
     "data": {
      "text/plain": [
       "1181"
      ]
     },
     "execution_count": 30,
     "metadata": {},
     "output_type": "execute_result"
    }
   ],
   "source": [
    "df['App'].duplicated().sum()"
   ]
  },
  {
   "cell_type": "markdown",
   "metadata": {},
   "source": [
    "5. Drop duplicated apps keeping only the ones with the greatest number of reviews\n",
    "\n",
    "    Now that the ``Reviews`` column is numeric, we can use it to clean duplicated apps. Drop duplicated apps, keeping just one copy of each, the one with the greatest number of reviews.\n",
    "\n",
    "    Hint: you'll need to sort the dataframe by ``App`` and ``Reviews``, and that will change the order of your ``df``."
   ]
  },
  {
   "cell_type": "code",
   "execution_count": 31,
   "metadata": {},
   "outputs": [],
   "source": [
    "df.sort_values(['App', 'Reviews'], inplace=True)\n",
    "\n",
    "index = df[df.duplicated(subset=['App'], keep='last') == True].index\n",
    "\n",
    "df.drop(index, inplace=True)"
   ]
  },
  {
   "cell_type": "markdown",
   "metadata": {},
   "source": [
    "Otra solución"
   ]
  },
  {
   "cell_type": "code",
   "execution_count": null,
   "metadata": {},
   "outputs": [],
   "source": [
    "df_sorted = df.sort_values(by=['App', 'Reviews'])\n",
    "\n",
    "df_sorted.loc[\n",
    "    df_sorted['App'].duplicated(keep=False) & ~df_sorted.duplicated(keep=False),\n",
    "    ['App', 'Reviews']\n",
    "].head(5)\n",
    "\n",
    "df_sorted.drop_duplicates(subset=['App'], keep='last', inplace=True)\n",
    "df = df_sorted"
   ]
  },
  {
   "cell_type": "markdown",
   "metadata": {},
   "source": [
    "6. Format the ``Category`` column\n",
    "\n",
    "    Categories are all uppercase and words are separated using underscores. Instead, we want them with capitalized in the first character and the underscores transformed as whitespaces.\n",
    "\n",
    "    Example, the category ``AUTO_AND_VEHICLES`` should be transformed to: ``Auto and vehicles``. Also, if you find any other wrong value transform it into an ``Unknown`` category."
   ]
  },
  {
   "cell_type": "code",
   "execution_count": 32,
   "metadata": {},
   "outputs": [],
   "source": [
    "df['Category'] = df['Category'].str.capitalize().str.replace(\"_\",\" \")"
   ]
  },
  {
   "cell_type": "code",
   "execution_count": 33,
   "metadata": {},
   "outputs": [],
   "source": [
    "df.loc[df['Category'] == \"1.9\", 'Category'] = 'Unknown'"
   ]
  },
  {
   "cell_type": "markdown",
   "metadata": {},
   "source": [
    "7. Clean and convert the ``Installs`` column to numeric type\n",
    "\n",
    "    Clean and transform ``Installs`` as a numeric type. Some values in ``Installs`` will have a ``+`` modifier. Just remove the string and honor the original number (for example ``+2,500`` or ``2,500+`` should be transformed to the number ``2500``)."
   ]
  },
  {
   "cell_type": "code",
   "execution_count": 34,
   "metadata": {},
   "outputs": [],
   "source": [
    "df['Installs'] = df['Installs'].str.replace('+','').str.replace(',','').astype('int64')"
   ]
  },
  {
   "cell_type": "markdown",
   "metadata": {},
   "source": [
    "8. Clean and convert the ``Size`` column to numeric (representing bytes)\n",
    "\n",
    "    The ``Size`` column is of type object. Some values contain either a ``M`` or a ``k`` that indicate Kilobytes (1024 bytes) or Megabytes (1024 kb). These values should be transformed to their corresponding value in bytes. For example, ``898k`` will become ``919552`` (``898 * 1024``).\n",
    "\n",
    "    Some other values are completely invalid (there's no way to infer the numeric type from them). For these, just replace the value for 0.\n",
    "\n",
    "    Some other rules are related to ``+`` modifiers, apply the same rules as the previous task."
   ]
  },
  {
   "cell_type": "code",
   "execution_count": 38,
   "metadata": {},
   "outputs": [],
   "source": [
    "df.loc[~df['Size'].str.contains(r'[Mk]'), 'Size'] = '0'\n",
    "\n",
    "df['Size'] = df['Size'].str.replace('+','')\n",
    "\n",
    "df.loc[df['Size'].str.contains('M'), 'Size'] = (pd.to_numeric(df.loc[df['Size'].str.contains('M'), 'Size'].str.replace('M',''))*1_048_576).astype('str')\n",
    "\n",
    "df.loc[df['Size'].str.contains('k'), 'Size'] = (pd.to_numeric(df.loc[df['Size'].str.contains('k'), 'Size'].str.replace('k',''))*1024).astype('str')\n",
    "\n",
    "df['Size'] = df['Size'].astype('float64')"
   ]
  },
  {
   "cell_type": "markdown",
   "metadata": {},
   "source": [
    "9. Clean and convert the ``Price`` column to numeric\n",
    "\n",
    "    Values of the ``Price`` column are strings representing price with special symbol ``'$'``."
   ]
  },
  {
   "cell_type": "code",
   "execution_count": 54,
   "metadata": {},
   "outputs": [],
   "source": [
    "df['Price'] = df['Price'].str.replace('$', '')\n",
    "\n",
    "df.loc[df['Price'].str.contains(r'[A-Za-z]'), 'Price'] = 0\n",
    "\n",
    "df['Price'] = pd.to_numeric(df['Price'])"
   ]
  },
  {
   "cell_type": "markdown",
   "metadata": {},
   "source": [
    "10. Paid or free?\n",
    "\n",
    "    Now that you have cleaned the ``Price`` column, let's create another auxiliary ``Distribution`` column.\n",
    "\n",
    "    This column should contain ``Free/Paid`` values depending on the app's price."
   ]
  },
  {
   "cell_type": "code",
   "execution_count": 62,
   "metadata": {},
   "outputs": [],
   "source": [
    "df['Distribution'] = df['Price'].apply(lambda x: 'Free' if x == 0 else 'Paid')"
   ]
  },
  {
   "cell_type": "markdown",
   "metadata": {},
   "source": [
    "## Analysis"
   ]
  },
  {
   "cell_type": "markdown",
   "metadata": {},
   "source": [
    "11. Which app has the most reviews?\n",
    "\n",
    "    Which app has the greatest number of reviews?"
   ]
  },
  {
   "cell_type": "code",
   "execution_count": 75,
   "metadata": {},
   "outputs": [
    {
     "data": {
      "text/html": [
       "<div>\n",
       "<style scoped>\n",
       "    .dataframe tbody tr th:only-of-type {\n",
       "        vertical-align: middle;\n",
       "    }\n",
       "\n",
       "    .dataframe tbody tr th {\n",
       "        vertical-align: top;\n",
       "    }\n",
       "\n",
       "    .dataframe thead th {\n",
       "        text-align: right;\n",
       "    }\n",
       "</style>\n",
       "<table border=\"1\" class=\"dataframe\">\n",
       "  <thead>\n",
       "    <tr style=\"text-align: right;\">\n",
       "      <th></th>\n",
       "      <th>App</th>\n",
       "      <th>Reviews</th>\n",
       "    </tr>\n",
       "  </thead>\n",
       "  <tbody>\n",
       "    <tr>\n",
       "      <th>2544</th>\n",
       "      <td>Facebook</td>\n",
       "      <td>78158306.0</td>\n",
       "    </tr>\n",
       "    <tr>\n",
       "      <th>381</th>\n",
       "      <td>WhatsApp Messenger</td>\n",
       "      <td>69119316.0</td>\n",
       "    </tr>\n",
       "    <tr>\n",
       "      <th>2604</th>\n",
       "      <td>Instagram</td>\n",
       "      <td>66577446.0</td>\n",
       "    </tr>\n",
       "    <tr>\n",
       "      <th>382</th>\n",
       "      <td>Messenger – Text and Video Chat for Free</td>\n",
       "      <td>56646578.0</td>\n",
       "    </tr>\n",
       "    <tr>\n",
       "      <th>1879</th>\n",
       "      <td>Clash of Clans</td>\n",
       "      <td>44893888.0</td>\n",
       "    </tr>\n",
       "  </tbody>\n",
       "</table>\n",
       "</div>"
      ],
      "text/plain": [
       "                                           App     Reviews\n",
       "2544                                  Facebook  78158306.0\n",
       "381                         WhatsApp Messenger  69119316.0\n",
       "2604                                 Instagram  66577446.0\n",
       "382   Messenger – Text and Video Chat for Free  56646578.0\n",
       "1879                            Clash of Clans  44893888.0"
      ]
     },
     "execution_count": 75,
     "metadata": {},
     "output_type": "execute_result"
    }
   ],
   "source": [
    "df[['App', 'Reviews']].sort_values(by=['Reviews'], ascending=False).head()"
   ]
  },
  {
   "cell_type": "markdown",
   "metadata": {},
   "source": [
    "2. What category has the highest number of apps uploaded to the store?\n",
    "\n",
    "    For this activity you need to get the specific category that contains the most significant number of uploaded applications."
   ]
  },
  {
   "cell_type": "code",
   "execution_count": 85,
   "metadata": {},
   "outputs": [
    {
     "data": {
      "text/plain": [
       "Category\n",
       "Family                 1874\n",
       "Game                    945\n",
       "Tools                   827\n",
       "Business                420\n",
       "Medical                 395\n",
       "Productivity            374\n",
       "Personalization         374\n",
       "Lifestyle               369\n",
       "Finance                 345\n",
       "Sports                  325\n",
       "Communication           315\n",
       "Health and fitness      288\n",
       "Photography             281\n",
       "News and magazines      254\n",
       "Social                  239\n",
       "Books and reference     221\n",
       "Travel and local        219\n",
       "Shopping                202\n",
       "Dating                  170\n",
       "Video players           164\n",
       "Maps and navigation     131\n",
       "Food and drink          112\n",
       "Education               105\n",
       "Entertainment            86\n",
       "Auto and vehicles        85\n",
       "Libraries and demo       83\n",
       "Weather                  79\n",
       "House and home           73\n",
       "Events                   64\n",
       "Art and design           60\n",
       "Parenting                60\n",
       "Comics                   56\n",
       "Beauty                   53\n",
       "Name: count, dtype: int64"
      ]
     },
     "execution_count": 85,
     "metadata": {},
     "output_type": "execute_result"
    }
   ],
   "source": [
    "df['Category'].value_counts()"
   ]
  },
  {
   "cell_type": "markdown",
   "metadata": {},
   "source": [
    "13. To which category belongs the most expensive app?"
   ]
  },
  {
   "cell_type": "code",
   "execution_count": 97,
   "metadata": {},
   "outputs": [
    {
     "data": {
      "text/html": [
       "<div>\n",
       "<style scoped>\n",
       "    .dataframe tbody tr th:only-of-type {\n",
       "        vertical-align: middle;\n",
       "    }\n",
       "\n",
       "    .dataframe tbody tr th {\n",
       "        vertical-align: top;\n",
       "    }\n",
       "\n",
       "    .dataframe thead th {\n",
       "        text-align: right;\n",
       "    }\n",
       "</style>\n",
       "<table border=\"1\" class=\"dataframe\">\n",
       "  <thead>\n",
       "    <tr style=\"text-align: right;\">\n",
       "      <th></th>\n",
       "      <th>Category</th>\n",
       "    </tr>\n",
       "  </thead>\n",
       "  <tbody>\n",
       "    <tr>\n",
       "      <th>4367</th>\n",
       "      <td>Lifestyle</td>\n",
       "    </tr>\n",
       "    <tr>\n",
       "      <th>5358</th>\n",
       "      <td>Finance</td>\n",
       "    </tr>\n",
       "    <tr>\n",
       "      <th>5356</th>\n",
       "      <td>Finance</td>\n",
       "    </tr>\n",
       "    <tr>\n",
       "      <th>5362</th>\n",
       "      <td>Family</td>\n",
       "    </tr>\n",
       "    <tr>\n",
       "      <th>4197</th>\n",
       "      <td>Family</td>\n",
       "    </tr>\n",
       "  </tbody>\n",
       "</table>\n",
       "</div>"
      ],
      "text/plain": [
       "       Category\n",
       "4367  Lifestyle\n",
       "5358    Finance\n",
       "5356    Finance\n",
       "5362     Family\n",
       "4197     Family"
      ]
     },
     "execution_count": 97,
     "metadata": {},
     "output_type": "execute_result"
    }
   ],
   "source": [
    "df.sort_values(by = ['Price'], ascending  = False).loc[:,['Category']].head()"
   ]
  },
  {
   "cell_type": "markdown",
   "metadata": {},
   "source": [
    "14. What's the name of the most expensive game?\n",
    "\n",
    "    Find the most expensive app in the ``Game`` category and enter its name:"
   ]
  },
  {
   "cell_type": "code",
   "execution_count": 100,
   "metadata": {},
   "outputs": [
    {
     "data": {
      "text/html": [
       "<div>\n",
       "<style scoped>\n",
       "    .dataframe tbody tr th:only-of-type {\n",
       "        vertical-align: middle;\n",
       "    }\n",
       "\n",
       "    .dataframe tbody tr th {\n",
       "        vertical-align: top;\n",
       "    }\n",
       "\n",
       "    .dataframe thead th {\n",
       "        text-align: right;\n",
       "    }\n",
       "</style>\n",
       "<table border=\"1\" class=\"dataframe\">\n",
       "  <thead>\n",
       "    <tr style=\"text-align: right;\">\n",
       "      <th></th>\n",
       "      <th>App</th>\n",
       "      <th>Category</th>\n",
       "      <th>Rating</th>\n",
       "      <th>Reviews</th>\n",
       "      <th>Size</th>\n",
       "      <th>Installs</th>\n",
       "      <th>Type</th>\n",
       "      <th>Price</th>\n",
       "      <th>Content Rating</th>\n",
       "      <th>Genres</th>\n",
       "      <th>Last Updated</th>\n",
       "      <th>Current Ver</th>\n",
       "      <th>Android Ver</th>\n",
       "      <th>Distribution</th>\n",
       "    </tr>\n",
       "  </thead>\n",
       "  <tbody>\n",
       "    <tr>\n",
       "      <th>4203</th>\n",
       "      <td>The World Ends With You</td>\n",
       "      <td>Game</td>\n",
       "      <td>4.6</td>\n",
       "      <td>4108.0</td>\n",
       "      <td>13631488.0</td>\n",
       "      <td>10000</td>\n",
       "      <td>Paid</td>\n",
       "      <td>17.99</td>\n",
       "      <td>Everyone 10+</td>\n",
       "      <td>Arcade</td>\n",
       "      <td>14-Dec-15</td>\n",
       "      <td>1.0.4</td>\n",
       "      <td>4.0 and up</td>\n",
       "      <td>Paid</td>\n",
       "    </tr>\n",
       "  </tbody>\n",
       "</table>\n",
       "</div>"
      ],
      "text/plain": [
       "                          App Category  Rating  Reviews        Size  Installs  \\\n",
       "4203  The World Ends With You     Game     4.6   4108.0  13631488.0     10000   \n",
       "\n",
       "      Type  Price Content Rating  Genres Last Updated Current Ver Android Ver  \\\n",
       "4203  Paid  17.99   Everyone 10+  Arcade    14-Dec-15       1.0.4  4.0 and up   \n",
       "\n",
       "     Distribution  \n",
       "4203         Paid  "
      ]
     },
     "execution_count": 100,
     "metadata": {},
     "output_type": "execute_result"
    }
   ],
   "source": [
    "df[df['Category'] == 'Game'].sort_values(by= 'Price', ascending = False).head(1)"
   ]
  },
  {
   "cell_type": "markdown",
   "metadata": {},
   "source": [
    "15. Which is the most popular Finance App?\n",
    "\n",
    "    What app (from the ``Finance`` category) has the most installs?"
   ]
  },
  {
   "cell_type": "code",
   "execution_count": 101,
   "metadata": {},
   "outputs": [
    {
     "data": {
      "text/html": [
       "<div>\n",
       "<style scoped>\n",
       "    .dataframe tbody tr th:only-of-type {\n",
       "        vertical-align: middle;\n",
       "    }\n",
       "\n",
       "    .dataframe tbody tr th {\n",
       "        vertical-align: top;\n",
       "    }\n",
       "\n",
       "    .dataframe thead th {\n",
       "        text-align: right;\n",
       "    }\n",
       "</style>\n",
       "<table border=\"1\" class=\"dataframe\">\n",
       "  <thead>\n",
       "    <tr style=\"text-align: right;\">\n",
       "      <th></th>\n",
       "      <th>App</th>\n",
       "      <th>Category</th>\n",
       "      <th>Rating</th>\n",
       "      <th>Reviews</th>\n",
       "      <th>Size</th>\n",
       "      <th>Installs</th>\n",
       "      <th>Type</th>\n",
       "      <th>Price</th>\n",
       "      <th>Content Rating</th>\n",
       "      <th>Genres</th>\n",
       "      <th>Last Updated</th>\n",
       "      <th>Current Ver</th>\n",
       "      <th>Android Ver</th>\n",
       "      <th>Distribution</th>\n",
       "    </tr>\n",
       "  </thead>\n",
       "  <tbody>\n",
       "    <tr>\n",
       "      <th>5601</th>\n",
       "      <td>Google Pay</td>\n",
       "      <td>Finance</td>\n",
       "      <td>4.2</td>\n",
       "      <td>348132.0</td>\n",
       "      <td>0</td>\n",
       "      <td>100000000</td>\n",
       "      <td>Free</td>\n",
       "      <td>0.0</td>\n",
       "      <td>Everyone</td>\n",
       "      <td>Finance</td>\n",
       "      <td>26-Jul-18</td>\n",
       "      <td>2.70.206190089</td>\n",
       "      <td>Varies with device</td>\n",
       "      <td>Free</td>\n",
       "    </tr>\n",
       "  </tbody>\n",
       "</table>\n",
       "</div>"
      ],
      "text/plain": [
       "             App Category  Rating   Reviews Size   Installs  Type  Price  \\\n",
       "5601  Google Pay  Finance     4.2  348132.0    0  100000000  Free    0.0   \n",
       "\n",
       "     Content Rating   Genres Last Updated     Current Ver         Android Ver  \\\n",
       "5601       Everyone  Finance    26-Jul-18  2.70.206190089  Varies with device   \n",
       "\n",
       "     Distribution  \n",
       "5601         Free  "
      ]
     },
     "execution_count": 101,
     "metadata": {},
     "output_type": "execute_result"
    }
   ],
   "source": [
    "df[df['Category'] == 'Finance'].sort_values(by= 'Installs', ascending = False).head(1)"
   ]
  },
  {
   "cell_type": "markdown",
   "metadata": {},
   "source": [
    "16. What Teen Game has the most reviews?\n",
    "\n",
    "    What app from the ``Game`` category and catalogued as Teen in ``Content Rating`` has the greatest number of reviews?"
   ]
  },
  {
   "cell_type": "code",
   "execution_count": 102,
   "metadata": {},
   "outputs": [
    {
     "data": {
      "text/html": [
       "<div>\n",
       "<style scoped>\n",
       "    .dataframe tbody tr th:only-of-type {\n",
       "        vertical-align: middle;\n",
       "    }\n",
       "\n",
       "    .dataframe tbody tr th {\n",
       "        vertical-align: top;\n",
       "    }\n",
       "\n",
       "    .dataframe thead th {\n",
       "        text-align: right;\n",
       "    }\n",
       "</style>\n",
       "<table border=\"1\" class=\"dataframe\">\n",
       "  <thead>\n",
       "    <tr style=\"text-align: right;\">\n",
       "      <th></th>\n",
       "      <th>App</th>\n",
       "      <th>Category</th>\n",
       "      <th>Rating</th>\n",
       "      <th>Reviews</th>\n",
       "      <th>Size</th>\n",
       "      <th>Installs</th>\n",
       "      <th>Type</th>\n",
       "      <th>Price</th>\n",
       "      <th>Content Rating</th>\n",
       "      <th>Genres</th>\n",
       "      <th>Last Updated</th>\n",
       "      <th>Current Ver</th>\n",
       "      <th>Android Ver</th>\n",
       "      <th>Distribution</th>\n",
       "    </tr>\n",
       "  </thead>\n",
       "  <tbody>\n",
       "    <tr>\n",
       "      <th>3912</th>\n",
       "      <td>Asphalt 8: Airborne</td>\n",
       "      <td>Game</td>\n",
       "      <td>4.5</td>\n",
       "      <td>8389714.0</td>\n",
       "      <td>96468992.0</td>\n",
       "      <td>100000000</td>\n",
       "      <td>Free</td>\n",
       "      <td>0.0</td>\n",
       "      <td>Teen</td>\n",
       "      <td>Racing</td>\n",
       "      <td>4-Jul-18</td>\n",
       "      <td>3.7.1a</td>\n",
       "      <td>4.0.3 and up</td>\n",
       "      <td>Free</td>\n",
       "    </tr>\n",
       "  </tbody>\n",
       "</table>\n",
       "</div>"
      ],
      "text/plain": [
       "                      App Category  Rating    Reviews        Size   Installs  \\\n",
       "3912  Asphalt 8: Airborne     Game     4.5  8389714.0  96468992.0  100000000   \n",
       "\n",
       "      Type  Price Content Rating  Genres Last Updated Current Ver  \\\n",
       "3912  Free    0.0           Teen  Racing     4-Jul-18      3.7.1a   \n",
       "\n",
       "       Android Ver Distribution  \n",
       "3912  4.0.3 and up         Free  "
      ]
     },
     "execution_count": 102,
     "metadata": {},
     "output_type": "execute_result"
    }
   ],
   "source": [
    "df[(df['Category'] == 'Game') & (df['Content Rating'] == 'Teen')].sort_values(by= 'Reviews', ascending = False).head(1)"
   ]
  },
  {
   "cell_type": "markdown",
   "metadata": {},
   "source": [
    "17. Which is the free game with the most reviews?\n",
    "\n",
    "    Get the name of the free game app with the greatest number of reviews."
   ]
  },
  {
   "cell_type": "code",
   "execution_count": 103,
   "metadata": {},
   "outputs": [
    {
     "data": {
      "text/html": [
       "<div>\n",
       "<style scoped>\n",
       "    .dataframe tbody tr th:only-of-type {\n",
       "        vertical-align: middle;\n",
       "    }\n",
       "\n",
       "    .dataframe tbody tr th {\n",
       "        vertical-align: top;\n",
       "    }\n",
       "\n",
       "    .dataframe thead th {\n",
       "        text-align: right;\n",
       "    }\n",
       "</style>\n",
       "<table border=\"1\" class=\"dataframe\">\n",
       "  <thead>\n",
       "    <tr style=\"text-align: right;\">\n",
       "      <th></th>\n",
       "      <th>App</th>\n",
       "      <th>Category</th>\n",
       "      <th>Rating</th>\n",
       "      <th>Reviews</th>\n",
       "      <th>Size</th>\n",
       "      <th>Installs</th>\n",
       "      <th>Type</th>\n",
       "      <th>Price</th>\n",
       "      <th>Content Rating</th>\n",
       "      <th>Genres</th>\n",
       "      <th>Last Updated</th>\n",
       "      <th>Current Ver</th>\n",
       "      <th>Android Ver</th>\n",
       "      <th>Distribution</th>\n",
       "    </tr>\n",
       "  </thead>\n",
       "  <tbody>\n",
       "    <tr>\n",
       "      <th>1879</th>\n",
       "      <td>Clash of Clans</td>\n",
       "      <td>Game</td>\n",
       "      <td>4.6</td>\n",
       "      <td>44893888.0</td>\n",
       "      <td>102760448.0</td>\n",
       "      <td>100000000</td>\n",
       "      <td>Free</td>\n",
       "      <td>0.0</td>\n",
       "      <td>Everyone 10+</td>\n",
       "      <td>Strategy</td>\n",
       "      <td>15-Jul-18</td>\n",
       "      <td>10.322.16</td>\n",
       "      <td>4.1 and up</td>\n",
       "      <td>Free</td>\n",
       "    </tr>\n",
       "  </tbody>\n",
       "</table>\n",
       "</div>"
      ],
      "text/plain": [
       "                 App Category  Rating     Reviews         Size   Installs  \\\n",
       "1879  Clash of Clans     Game     4.6  44893888.0  102760448.0  100000000   \n",
       "\n",
       "      Type  Price Content Rating    Genres Last Updated Current Ver  \\\n",
       "1879  Free    0.0   Everyone 10+  Strategy    15-Jul-18   10.322.16   \n",
       "\n",
       "     Android Ver Distribution  \n",
       "1879  4.1 and up         Free  "
      ]
     },
     "execution_count": 103,
     "metadata": {},
     "output_type": "execute_result"
    }
   ],
   "source": [
    "df[(df['Distribution'] == 'Free') & (df['Category'] == 'Game')].sort_values(by= 'Reviews', ascending = False).head(1)"
   ]
  },
  {
   "cell_type": "markdown",
   "metadata": {},
   "source": [
    "18. How many Tb (tebibytes) were transferred (overall) for the most popular Lifestyle app?\n",
    "\n",
    "    This app produced the greatest amount of bytes transfer. Enter your answer in Tebibytes as a whole number (rounding down to the nearest integer). Example, if you find the total transfer to be ``780.9581`` Tb, just enter ``780``."
   ]
  },
  {
   "cell_type": "code",
   "execution_count": null,
   "metadata": {},
   "outputs": [],
   "source": [
    "df['Transfer'] = df['Size'] * df['Installs']"
   ]
  },
  {
   "cell_type": "code",
   "execution_count": null,
   "metadata": {},
   "outputs": [],
   "source": [
    "app = df.loc[df['Category'] == 'Lifestyle'].sort_values(by='Installs', ascending=False).iloc[0]"
   ]
  },
  {
   "cell_type": "code",
   "execution_count": null,
   "metadata": {},
   "outputs": [],
   "source": [
    "(app['Installs'] * app['Size']) / (1024 * 1024 * 1024 * 1024)"
   ]
  },
  {
   "cell_type": "markdown",
   "metadata": {},
   "source": [
    "6486 Tebibytes"
   ]
  },
  {
   "cell_type": "markdown",
   "metadata": {},
   "source": [
    "# Cleaning NYC Airbnb Data"
   ]
  },
  {
   "cell_type": "markdown",
   "metadata": {},
   "source": [
    "The New York City Airbnb Open Data is a rich source of information for exploring the city's Airbnb market. The dataset contains detailed information on Airbnb listings in the city, including their locations, prices, availability, and various other attributes.\n",
    "\n",
    "The goal of this capstone project is to help you develop your skills in data cleaning and preparation by working with real-world data using Python. You will use Pandas, a popular Python library for data manipulation and analysis, to read the data from a CSV file, handle missing values, deal with duplicates, and clean and transform the data to answer various questions about the Airbnb market in New York City.\n",
    "\n",
    "In this capstone project, you will complete a series of activities that cover different aspects of data cleaning and preparation using Pandas. By the end of this project, you will have gained practical skills in data manipulation, cleaning, and preparation using Pandas, and be ready to tackle more complex data analysis tasks.\n",
    "\n",
    "Let's get started with the activities and explore the fascinating world of the New York City Airbnb market! 👉"
   ]
  },
  {
   "cell_type": "code",
   "execution_count": 1,
   "metadata": {},
   "outputs": [],
   "source": [
    "import pandas as pd"
   ]
  },
  {
   "cell_type": "code",
   "execution_count": 2,
   "metadata": {},
   "outputs": [],
   "source": [
    "df = pd.read_csv('files/AB_NYC.csv')"
   ]
  },
  {
   "cell_type": "code",
   "execution_count": 3,
   "metadata": {},
   "outputs": [
    {
     "data": {
      "text/html": [
       "<div>\n",
       "<style scoped>\n",
       "    .dataframe tbody tr th:only-of-type {\n",
       "        vertical-align: middle;\n",
       "    }\n",
       "\n",
       "    .dataframe tbody tr th {\n",
       "        vertical-align: top;\n",
       "    }\n",
       "\n",
       "    .dataframe thead th {\n",
       "        text-align: right;\n",
       "    }\n",
       "</style>\n",
       "<table border=\"1\" class=\"dataframe\">\n",
       "  <thead>\n",
       "    <tr style=\"text-align: right;\">\n",
       "      <th></th>\n",
       "      <th>id</th>\n",
       "      <th>name</th>\n",
       "      <th>host_id</th>\n",
       "      <th>host_name</th>\n",
       "      <th>neighbourhood_group</th>\n",
       "      <th>neighbourhood</th>\n",
       "      <th>latitude</th>\n",
       "      <th>longitude</th>\n",
       "      <th>room_type</th>\n",
       "      <th>price</th>\n",
       "      <th>minimum_nights</th>\n",
       "      <th>number_of_reviews</th>\n",
       "      <th>last_review</th>\n",
       "      <th>reviews_per_month</th>\n",
       "      <th>calculated_host_listings_count</th>\n",
       "      <th>availability_365</th>\n",
       "    </tr>\n",
       "  </thead>\n",
       "  <tbody>\n",
       "    <tr>\n",
       "      <th>0</th>\n",
       "      <td>2539</td>\n",
       "      <td>Clean &amp; quiet apt home by the park</td>\n",
       "      <td>2787</td>\n",
       "      <td>John</td>\n",
       "      <td>Brooklyn</td>\n",
       "      <td>Kensington</td>\n",
       "      <td>40.64749</td>\n",
       "      <td>-73.97237</td>\n",
       "      <td>Private room</td>\n",
       "      <td>149.0</td>\n",
       "      <td>1</td>\n",
       "      <td>9</td>\n",
       "      <td>2018-10-19</td>\n",
       "      <td>0.21</td>\n",
       "      <td>6</td>\n",
       "      <td>365</td>\n",
       "    </tr>\n",
       "    <tr>\n",
       "      <th>1</th>\n",
       "      <td>2595</td>\n",
       "      <td>Skylit Midtown Castle</td>\n",
       "      <td>2845</td>\n",
       "      <td>Jennifer</td>\n",
       "      <td>Manhattan</td>\n",
       "      <td>Midtown</td>\n",
       "      <td>40.75362</td>\n",
       "      <td>-73.98377</td>\n",
       "      <td>Entire home/apt</td>\n",
       "      <td>225.0</td>\n",
       "      <td>1</td>\n",
       "      <td>45</td>\n",
       "      <td>2019-05-21</td>\n",
       "      <td>0.38</td>\n",
       "      <td>2</td>\n",
       "      <td>355</td>\n",
       "    </tr>\n",
       "    <tr>\n",
       "      <th>2</th>\n",
       "      <td>3647</td>\n",
       "      <td>THE VILLAGE OF HARLEM....NEW YORK !</td>\n",
       "      <td>4632</td>\n",
       "      <td>Elisabeth</td>\n",
       "      <td>Manhattan</td>\n",
       "      <td>Harlem</td>\n",
       "      <td>40.80902</td>\n",
       "      <td>-73.94190</td>\n",
       "      <td>Private room</td>\n",
       "      <td>150.0</td>\n",
       "      <td>3</td>\n",
       "      <td>0</td>\n",
       "      <td>NaN</td>\n",
       "      <td>NaN</td>\n",
       "      <td>1</td>\n",
       "      <td>365</td>\n",
       "    </tr>\n",
       "    <tr>\n",
       "      <th>3</th>\n",
       "      <td>3831</td>\n",
       "      <td>Cozy Entire Floor of Brownstone</td>\n",
       "      <td>4869</td>\n",
       "      <td>LisaRoxanne</td>\n",
       "      <td>Brooklyn</td>\n",
       "      <td>Clinton Hill</td>\n",
       "      <td>40.68514</td>\n",
       "      <td>-73.95976</td>\n",
       "      <td>Entire home/apt</td>\n",
       "      <td>89.0</td>\n",
       "      <td>1</td>\n",
       "      <td>270</td>\n",
       "      <td>2019-07-05</td>\n",
       "      <td>4.64</td>\n",
       "      <td>1</td>\n",
       "      <td>194</td>\n",
       "    </tr>\n",
       "    <tr>\n",
       "      <th>4</th>\n",
       "      <td>5022</td>\n",
       "      <td>Entire Apt: Spacious Studio/Loft by central park</td>\n",
       "      <td>7192</td>\n",
       "      <td>Laura</td>\n",
       "      <td>Manhattan</td>\n",
       "      <td>East Harlem</td>\n",
       "      <td>40.79851</td>\n",
       "      <td>-73.94399</td>\n",
       "      <td>Entire home/apt</td>\n",
       "      <td>80.0</td>\n",
       "      <td>10</td>\n",
       "      <td>9</td>\n",
       "      <td>2018-11-19</td>\n",
       "      <td>0.10</td>\n",
       "      <td>1</td>\n",
       "      <td>0</td>\n",
       "    </tr>\n",
       "  </tbody>\n",
       "</table>\n",
       "</div>"
      ],
      "text/plain": [
       "     id                                              name  host_id  \\\n",
       "0  2539                Clean & quiet apt home by the park     2787   \n",
       "1  2595                             Skylit Midtown Castle     2845   \n",
       "2  3647               THE VILLAGE OF HARLEM....NEW YORK !     4632   \n",
       "3  3831                   Cozy Entire Floor of Brownstone     4869   \n",
       "4  5022  Entire Apt: Spacious Studio/Loft by central park     7192   \n",
       "\n",
       "     host_name neighbourhood_group neighbourhood  latitude  longitude  \\\n",
       "0         John            Brooklyn    Kensington  40.64749  -73.97237   \n",
       "1     Jennifer           Manhattan       Midtown  40.75362  -73.98377   \n",
       "2    Elisabeth           Manhattan        Harlem  40.80902  -73.94190   \n",
       "3  LisaRoxanne            Brooklyn  Clinton Hill  40.68514  -73.95976   \n",
       "4        Laura           Manhattan   East Harlem  40.79851  -73.94399   \n",
       "\n",
       "         room_type  price  minimum_nights  number_of_reviews last_review  \\\n",
       "0     Private room  149.0               1                  9  2018-10-19   \n",
       "1  Entire home/apt  225.0               1                 45  2019-05-21   \n",
       "2     Private room  150.0               3                  0         NaN   \n",
       "3  Entire home/apt   89.0               1                270  2019-07-05   \n",
       "4  Entire home/apt   80.0              10                  9  2018-11-19   \n",
       "\n",
       "   reviews_per_month  calculated_host_listings_count  availability_365  \n",
       "0               0.21                               6               365  \n",
       "1               0.38                               2               355  \n",
       "2                NaN                               1               365  \n",
       "3               4.64                               1               194  \n",
       "4               0.10                               1                 0  "
      ]
     },
     "execution_count": 3,
     "metadata": {},
     "output_type": "execute_result"
    }
   ],
   "source": [
    "df.head()"
   ]
  },
  {
   "cell_type": "code",
   "execution_count": 4,
   "metadata": {},
   "outputs": [
    {
     "name": "stdout",
     "output_type": "stream",
     "text": [
      "dataset size:  782320\n",
      "number of hosts:  48895\n",
      "number of features:  16\n"
     ]
    }
   ],
   "source": [
    "#show the number of cells in the dataframe\n",
    "print(\"dataset size: \", df.size)\n",
    "\n",
    "#show the number of records (rows) in the dataframe\n",
    "print(\"number of hosts: \", len(df))\n",
    "\n",
    "#show the number of features (coulmns) in the dataframe\n",
    "print(\"number of features: \", len(df.columns)) "
   ]
  },
  {
   "cell_type": "code",
   "execution_count": 5,
   "metadata": {},
   "outputs": [
    {
     "data": {
      "text/plain": [
       "id                                  int64\n",
       "name                               object\n",
       "host_id                             int64\n",
       "host_name                          object\n",
       "neighbourhood_group                object\n",
       "neighbourhood                      object\n",
       "latitude                          float64\n",
       "longitude                         float64\n",
       "room_type                          object\n",
       "price                             float64\n",
       "minimum_nights                      int64\n",
       "number_of_reviews                   int64\n",
       "last_review                        object\n",
       "reviews_per_month                 float64\n",
       "calculated_host_listings_count      int64\n",
       "availability_365                    int64\n",
       "dtype: object"
      ]
     },
     "execution_count": 5,
     "metadata": {},
     "output_type": "execute_result"
    }
   ],
   "source": [
    "df.dtypes"
   ]
  },
  {
   "cell_type": "markdown",
   "metadata": {},
   "source": [
    "## Cleaning the dataset"
   ]
  },
  {
   "cell_type": "markdown",
   "metadata": {},
   "source": [
    "1. Find out the missing values in each column\n",
    "\n",
    "    Perform the calculation and store the results in the variable ``col_missing_values``."
   ]
  },
  {
   "cell_type": "code",
   "execution_count": 6,
   "metadata": {},
   "outputs": [],
   "source": [
    "col_missing_values = df.isnull().sum()"
   ]
  },
  {
   "cell_type": "code",
   "execution_count": 7,
   "metadata": {},
   "outputs": [
    {
     "data": {
      "text/plain": [
       "id                                    0\n",
       "name                                 16\n",
       "host_id                               0\n",
       "host_name                            21\n",
       "neighbourhood_group                   0\n",
       "neighbourhood                         0\n",
       "latitude                              0\n",
       "longitude                             0\n",
       "room_type                             0\n",
       "price                                21\n",
       "minimum_nights                        0\n",
       "number_of_reviews                     0\n",
       "last_review                       10052\n",
       "reviews_per_month                 10052\n",
       "calculated_host_listings_count        0\n",
       "availability_365                      0\n",
       "dtype: int64"
      ]
     },
     "execution_count": 7,
     "metadata": {},
     "output_type": "execute_result"
    }
   ],
   "source": [
    "col_missing_values"
   ]
  },
  {
   "cell_type": "markdown",
   "metadata": {},
   "source": [
    "2. Drop the column ``reviews_per_month`` as it has many values missing and we will not use it\n",
    "\n",
    "    You have to drop this column permanently as we can not use it for any purpose."
   ]
  },
  {
   "cell_type": "code",
   "execution_count": 8,
   "metadata": {},
   "outputs": [],
   "source": [
    "df.drop(columns=['reviews_per_month'], inplace= True)"
   ]
  },
  {
   "cell_type": "markdown",
   "metadata": {},
   "source": [
    "3. Drop the rows having more than 1 missing values\n",
    "\n",
    "    Store the resulting DataFrame in the variable ``df_rows_dropped``."
   ]
  },
  {
   "cell_type": "markdown",
   "metadata": {},
   "source": [
    "``thresh = ``Keep only the rows with at least ``t`` non-NA values."
   ]
  },
  {
   "cell_type": "code",
   "execution_count": 9,
   "metadata": {},
   "outputs": [
    {
     "data": {
      "text/plain": [
       "15"
      ]
     },
     "execution_count": 9,
     "metadata": {},
     "output_type": "execute_result"
    }
   ],
   "source": [
    "df.shape[1]"
   ]
  },
  {
   "cell_type": "code",
   "execution_count": 10,
   "metadata": {},
   "outputs": [],
   "source": [
    "df_rows_dropped = df.dropna(thresh = df.shape[1] - 1, axis = 0)"
   ]
  },
  {
   "cell_type": "code",
   "execution_count": 11,
   "metadata": {},
   "outputs": [
    {
     "data": {
      "text/plain": [
       "id                                    0\n",
       "name                                  6\n",
       "host_id                               0\n",
       "host_name                            16\n",
       "neighbourhood_group                   0\n",
       "neighbourhood                         0\n",
       "latitude                              0\n",
       "longitude                             0\n",
       "room_type                             0\n",
       "price                                19\n",
       "minimum_nights                        0\n",
       "number_of_reviews                     0\n",
       "last_review                       10035\n",
       "calculated_host_listings_count        0\n",
       "availability_365                      0\n",
       "dtype: int64"
      ]
     },
     "execution_count": 11,
     "metadata": {},
     "output_type": "execute_result"
    }
   ],
   "source": [
    "df_rows_dropped.isnull().sum()"
   ]
  },
  {
   "cell_type": "code",
   "execution_count": 12,
   "metadata": {},
   "outputs": [
    {
     "data": {
      "text/plain": [
       "48878"
      ]
     },
     "execution_count": 12,
     "metadata": {},
     "output_type": "execute_result"
    }
   ],
   "source": [
    "len(df_rows_dropped)"
   ]
  },
  {
   "cell_type": "markdown",
   "metadata": {},
   "source": [
    "4. Fill the 21 missing values in ``host_name`` with the value ``Airbnb``\n",
    "\n",
    "    Store your result in the variable ``host_total``."
   ]
  },
  {
   "cell_type": "code",
   "execution_count": 13,
   "metadata": {},
   "outputs": [],
   "source": [
    "values = {'host_name': 'Airbnb'}\n",
    "\n",
    "host_total = df.fillna(value= values)['host_name']"
   ]
  },
  {
   "cell_type": "markdown",
   "metadata": {},
   "source": [
    "5. Check if any name in the Column ``host_name`` has digit(s) or number(s) in it"
   ]
  },
  {
   "cell_type": "code",
   "execution_count": 14,
   "metadata": {},
   "outputs": [
    {
     "data": {
      "text/plain": [
       "6"
      ]
     },
     "execution_count": 14,
     "metadata": {},
     "output_type": "execute_result"
    }
   ],
   "source": [
    "df['host_name'].str.isdigit().sum()"
   ]
  },
  {
   "cell_type": "code",
   "execution_count": 15,
   "metadata": {},
   "outputs": [
    {
     "data": {
      "text/plain": [
       "44929"
      ]
     },
     "execution_count": 15,
     "metadata": {},
     "output_type": "execute_result"
    }
   ],
   "source": [
    "df['host_name'].str.isalpha().sum()"
   ]
  },
  {
   "cell_type": "markdown",
   "metadata": {},
   "source": [
    "6. Fill the 21 missing values of the column ``price`` with the mean of the column\n",
    "\n",
    "    Store your result in the variable ``mean_df_price``."
   ]
  },
  {
   "cell_type": "code",
   "execution_count": 16,
   "metadata": {},
   "outputs": [],
   "source": [
    "mean_df_price = df['price'].fillna(df['price'].mean())"
   ]
  },
  {
   "cell_type": "markdown",
   "metadata": {},
   "source": [
    "7. Fill all missing values in ``last_review`` using forward filling method\n",
    "\n",
    "    Store your result in the variable ``ffill_review``."
   ]
  },
  {
   "cell_type": "code",
   "execution_count": 17,
   "metadata": {},
   "outputs": [],
   "source": [
    "ffill_review = df['last_review'].ffill()"
   ]
  },
  {
   "cell_type": "markdown",
   "metadata": {},
   "source": [
    "8. Select duplicate hosts in a dataframe based on ``name``, ``host_id``, and ``price`` columns\n",
    "\n",
    "    - Perform the selection and store the results in the variable ``duplicate_hosts``.\n",
    "    - Note: ensure that all duplicates are selected."
   ]
  },
  {
   "cell_type": "code",
   "execution_count": 18,
   "metadata": {},
   "outputs": [],
   "source": [
    "duplicate_hosts = df[df.duplicated(subset=['name', 'host_id', 'price'], keep=False)]"
   ]
  },
  {
   "cell_type": "markdown",
   "metadata": {},
   "source": [
    "9. Which option to set for keep parameter when dropping all duplicates is needed?"
   ]
  },
  {
   "cell_type": "code",
   "execution_count": 20,
   "metadata": {},
   "outputs": [
    {
     "data": {
      "text/plain": [
       "False"
      ]
     },
     "execution_count": 20,
     "metadata": {},
     "output_type": "execute_result"
    }
   ],
   "source": [
    "False"
   ]
  },
  {
   "cell_type": "markdown",
   "metadata": {},
   "source": [
    "10. Drop duplicates while keeping the first non-NaN value based on ``name``, ``host_id``, and ``price`` columns\n",
    "\n",
    "    Perform the dropping and store the results in the variable ``df_unique_hosts``.\n",
    "\n",
    "    - Note: do not do this change in the original dataframe ``df`` to avoid miscalculation in the following activities."
   ]
  },
  {
   "cell_type": "code",
   "execution_count": 21,
   "metadata": {},
   "outputs": [],
   "source": [
    "df_unique_hosts = df.drop_duplicates(subset=['name', 'host_id', 'price'], keep= 'first')"
   ]
  },
  {
   "cell_type": "markdown",
   "metadata": {},
   "source": [
    "11. How many users in the Column ``room_type`` are ``Private room``?\n",
    "\n",
    "    Let's count all the Private rooms in the column ``room_type`` and sum them up.\n",
    "\n",
    "    Store your sum in the ``private_rooms_counts`` variable."
   ]
  },
  {
   "cell_type": "code",
   "execution_count": 22,
   "metadata": {},
   "outputs": [],
   "source": [
    "private_room_counts = len(df[df['room_type'] == 'Private room']['room_type'])"
   ]
  },
  {
   "cell_type": "markdown",
   "metadata": {},
   "source": [
    "Otra solución"
   ]
  },
  {
   "cell_type": "code",
   "execution_count": 23,
   "metadata": {},
   "outputs": [
    {
     "data": {
      "text/plain": [
       "22326"
      ]
     },
     "execution_count": 23,
     "metadata": {},
     "output_type": "execute_result"
    }
   ],
   "source": [
    "private_room_counts = df['room_type'].str.count('Private room')\n",
    "private_room_counts = private_room_counts.sum()\n",
    "private_room_counts"
   ]
  },
  {
   "cell_type": "markdown",
   "metadata": {},
   "source": [
    "12. Find the words in Column ``name`` which contain the substring ``park``\n",
    "\n",
    "    Store your selection in the variable ``names_having_park``."
   ]
  },
  {
   "cell_type": "code",
   "execution_count": 38,
   "metadata": {},
   "outputs": [],
   "source": [
    "names_having_park = df['name'].str.contains('park')"
   ]
  },
  {
   "cell_type": "code",
   "execution_count": 39,
   "metadata": {},
   "outputs": [
    {
     "data": {
      "text/plain": [
       "0     True\n",
       "1    False\n",
       "2    False\n",
       "3    False\n",
       "4     True\n",
       "Name: name, dtype: object"
      ]
     },
     "execution_count": 39,
     "metadata": {},
     "output_type": "execute_result"
    }
   ],
   "source": [
    "names_having_park.head()"
   ]
  },
  {
   "cell_type": "markdown",
   "metadata": {},
   "source": [
    "13. Replace the neighbourhood having ``Kitchen`` with ``Restaurant``\n",
    "\n",
    "    Store the output in the variable ``kitchen_to_restaurant``."
   ]
  },
  {
   "cell_type": "code",
   "execution_count": 41,
   "metadata": {},
   "outputs": [],
   "source": [
    "kitchen_to_restaurant = df['neighbourhood'].str.replace('Kitchen','Restaurant')"
   ]
  },
  {
   "cell_type": "markdown",
   "metadata": {},
   "source": [
    "14. Split the strings in the ``room_type`` column at ` ` (space) to find whether it is room or home/apt\n",
    "\n",
    "    Store the output in variable ``roomOrhome``.\n",
    "\n",
    "    Note: We are interested in the value at second index once you split all the strings in the Column ``room_type`` on space."
   ]
  },
  {
   "cell_type": "code",
   "execution_count": 56,
   "metadata": {},
   "outputs": [],
   "source": [
    "roomOrhome = df['room_type'].str.split()"
   ]
  },
  {
   "cell_type": "code",
   "execution_count": null,
   "metadata": {},
   "outputs": [],
   "source": []
  }
 ],
 "metadata": {
  "kernelspec": {
   "display_name": "base",
   "language": "python",
   "name": "python3"
  },
  "language_info": {
   "codemirror_mode": {
    "name": "ipython",
    "version": 3
   },
   "file_extension": ".py",
   "mimetype": "text/x-python",
   "name": "python",
   "nbconvert_exporter": "python",
   "pygments_lexer": "ipython3",
   "version": "3.11.5"
  }
 },
 "nbformat": 4,
 "nbformat_minor": 2
}
